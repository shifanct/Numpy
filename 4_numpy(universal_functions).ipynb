{
  "cells": [
    {
      "cell_type": "code",
      "execution_count": null,
      "id": "8315aa32-e862-4d20-b437-06b990c5832e",
      "metadata": {
        "id": "8315aa32-e862-4d20-b437-06b990c5832e"
      },
      "outputs": [],
      "source": [
        "import numpy as np"
      ]
    },
    {
      "cell_type": "code",
      "execution_count": null,
      "id": "61f71359-2f63-4b9c-baa7-b254371c57bf",
      "metadata": {
        "id": "61f71359-2f63-4b9c-baa7-b254371c57bf",
        "outputId": "b84af9aa-3577-49db-d0ac-2f53df89ab3b",
        "colab": {
          "base_uri": "https://localhost:8080/"
        }
      },
      "outputs": [
        {
          "output_type": "stream",
          "name": "stdout",
          "text": [
            "[ 6  8 10 12]\n"
          ]
        }
      ],
      "source": [
        "x=np.array([1,2,3,4])\n",
        "y=np.array([5,6,7,8])\n",
        "z=np.add(x,y)\n",
        "print(z)"
      ]
    },
    {
      "cell_type": "code",
      "execution_count": null,
      "id": "390dca05-99a8-4a23-9e2f-57fcf9c109e4",
      "metadata": {
        "id": "390dca05-99a8-4a23-9e2f-57fcf9c109e4",
        "outputId": "09fc4c5d-4618-4929-87e1-08f9697c0e7d",
        "colab": {
          "base_uri": "https://localhost:8080/"
        }
      },
      "outputs": [
        {
          "output_type": "stream",
          "name": "stdout",
          "text": [
            "[ 6  8 10 12]\n",
            "<class 'numpy.ufunc'>\n"
          ]
        }
      ],
      "source": [
        "x=[1,2,3,4]\n",
        "y=[5,6,7,8]\n",
        "z=np.add(x,y)\n",
        "print(z)\n",
        "print(type(np.add))"
      ]
    },
    {
      "cell_type": "code",
      "execution_count": null,
      "id": "d0670b0b-d445-482c-9f6e-63d76dd4605f",
      "metadata": {
        "id": "d0670b0b-d445-482c-9f6e-63d76dd4605f",
        "outputId": "abc9150f-9e14-4062-950d-bfb5bf55f694",
        "colab": {
          "base_uri": "https://localhost:8080/"
        }
      },
      "outputs": [
        {
          "output_type": "stream",
          "name": "stdout",
          "text": [
            "[[[ 2  4]\n",
            "  [ 6  8]]\n",
            "\n",
            " [[10 12]\n",
            "  [14 16]]]\n"
          ]
        }
      ],
      "source": [
        "a=[[[1,2],[3,4]],  [[5,6],[7,8]]]\n",
        "b=[[[1,2],[3,4]],   [[5,6],[7,8]]]\n",
        "c=np.add(a,b)\n",
        "print(c)"
      ]
    },
    {
      "cell_type": "markdown",
      "id": "71b9e347-3572-482e-af7a-d8cdc4fc99fe",
      "metadata": {
        "id": "71b9e347-3572-482e-af7a-d8cdc4fc99fe"
      },
      "source": [
        "# creating univesal functions"
      ]
    },
    {
      "cell_type": "code",
      "execution_count": null,
      "id": "53197f32-aacd-477b-b5a3-0c459f82b8fa",
      "metadata": {
        "id": "53197f32-aacd-477b-b5a3-0c459f82b8fa",
        "outputId": "44429efc-2399-4b32-f8a8-7f8029f9c0ef",
        "colab": {
          "base_uri": "https://localhost:8080/"
        }
      },
      "outputs": [
        {
          "output_type": "stream",
          "name": "stdout",
          "text": [
            "[6 8 10 12]\n"
          ]
        }
      ],
      "source": [
        "#create a numpy function for adding two numbers\n",
        "import numpy as np\n",
        "def myadd(a,b):\n",
        "    return a+b\n",
        "myadd=np.frompyfunc(myadd,2,1)\n",
        "print(myadd([1,2,3,4],[5,6,7,8]))"
      ]
    },
    {
      "cell_type": "code",
      "execution_count": null,
      "id": "4316fd13-d983-405e-94b8-b602799d9b05",
      "metadata": {
        "id": "4316fd13-d983-405e-94b8-b602799d9b05",
        "outputId": "c132c63e-2232-43ed-f21a-c34363685e4e",
        "colab": {
          "base_uri": "https://localhost:8080/"
        }
      },
      "outputs": [
        {
          "output_type": "stream",
          "name": "stdout",
          "text": [
            "[4 10 18]\n",
            "<class 'numpy.ufunc'>\n"
          ]
        }
      ],
      "source": [
        "#create numpy function to multiply two arrays\n",
        "def mymulty(a,b):\n",
        "    return a*b\n",
        "mymulty=np.frompyfunc(mymulty,2,1)\n",
        "print(mymulty([1,2,3],[4,5,6]))\n",
        "print(type(mymulty))"
      ]
    },
    {
      "cell_type": "code",
      "execution_count": null,
      "id": "141c0936-8882-407f-84a5-880bad2632f3",
      "metadata": {
        "id": "141c0936-8882-407f-84a5-880bad2632f3",
        "outputId": "37e5c488-0ee3-4321-84f8-cc740857a27c",
        "colab": {
          "base_uri": "https://localhost:8080/"
        }
      },
      "outputs": [
        {
          "output_type": "stream",
          "name": "stdout",
          "text": [
            "[12 15 18]\n"
          ]
        }
      ],
      "source": [
        "#adding 3 single dimension arrays\n",
        "def myfun(a,b,c):\n",
        "    return a+b+c\n",
        "myfun=np.frompyfunc(myfun,3,1)\n",
        "print(myfun([1,2,3],[4,5,6],[7,8,9]))"
      ]
    },
    {
      "cell_type": "code",
      "execution_count": null,
      "id": "4d574d3d-0fde-4454-8b13-fe46283a6b63",
      "metadata": {
        "id": "4d574d3d-0fde-4454-8b13-fe46283a6b63",
        "outputId": "834d7504-ba2c-4416-e3b4-de97da29ffff",
        "colab": {
          "base_uri": "https://localhost:8080/"
        }
      },
      "outputs": [
        {
          "output_type": "stream",
          "name": "stdout",
          "text": [
            "[3 3 3]\n"
          ]
        }
      ],
      "source": [
        "#substractt\n",
        "def mysub(a,b):\n",
        "    return a-b\n",
        "mysub=np.frompyfunc(mysub,2,1)\n",
        "print(mysub([7,8,9],[4,5,6]))"
      ]
    },
    {
      "cell_type": "code",
      "execution_count": null,
      "id": "63f0501a-7510-41cf-a6c9-ec5c86501e4b",
      "metadata": {
        "id": "63f0501a-7510-41cf-a6c9-ec5c86501e4b",
        "outputId": "d255448c-394e-43c9-bca6-972188684b58",
        "colab": {
          "base_uri": "https://localhost:8080/"
        }
      },
      "outputs": [
        {
          "output_type": "stream",
          "name": "stdout",
          "text": [
            "[11 12 13]\n"
          ]
        }
      ],
      "source": [
        "#write a numpy program that create a custom universal function\n",
        "#that adds 10 to every element in a numpy array.\n",
        "#use this universal fuction on a 1dimension array of integers\n",
        "def addadd(n):\n",
        "  return n+10\n",
        "addadd=np.frompyfunc(addadd,1,1)\n",
        "print(addadd([1,2,3]))"
      ]
    },
    {
      "cell_type": "code",
      "execution_count": null,
      "id": "5595fa34-9fd3-4f43-8c24-120e54481d37",
      "metadata": {
        "id": "5595fa34-9fd3-4f43-8c24-120e54481d37",
        "outputId": "5eb95ec9-8f96-45ef-e1fe-05f9346baa5c",
        "colab": {
          "base_uri": "https://localhost:8080/"
        }
      },
      "outputs": [
        {
          "output_type": "stream",
          "name": "stdout",
          "text": [
            "[[4.0 5.0 9.0]\n",
            " [3.1622776601683795 6.0 6.324555320336759]]\n"
          ]
        }
      ],
      "source": [
        "#write a numpy program that uses the np.sqrt universal function\n",
        "#to compute the squareroot of each elements in a 2dimensional numpy array\n",
        "def mysqrt(a):\n",
        "    return np.sqrt(a)\n",
        "mysqrt=np.frompyfunc(mysqrt,1,1)\n",
        "print(mysqrt([[16,25,81],[10,36,40]]))"
      ]
    },
    {
      "cell_type": "code",
      "execution_count": null,
      "id": "d8876902-cbdb-4ef1-bc5d-d96ce3d2c18b",
      "metadata": {
        "id": "d8876902-cbdb-4ef1-bc5d-d96ce3d2c18b",
        "outputId": "655f1caf-9423-474e-ba67-4ce951a79920",
        "colab": {
          "base_uri": "https://localhost:8080/"
        }
      },
      "outputs": [
        {
          "output_type": "stream",
          "name": "stdout",
          "text": [
            "[[5.0 3.1622776601683795 4.47213595499958]\n",
            " [3.0 4.0 2.6457513110645907]]\n"
          ]
        }
      ],
      "source": [
        "def sqrt(a):\n",
        "    return a**0.5\n",
        "sqrt=np.frompyfunc(sqrt,1,1)\n",
        "print(sqrt([[25,10,20],[9,16,7]]))"
      ]
    },
    {
      "cell_type": "code",
      "execution_count": null,
      "id": "1936dc01-e31b-479c-ad76-11b36836fef5",
      "metadata": {
        "id": "1936dc01-e31b-479c-ad76-11b36836fef5",
        "outputId": "5617261b-0e91-40be-cf49-075494bc3d0a",
        "colab": {
          "base_uri": "https://localhost:8080/"
        }
      },
      "outputs": [
        {
          "output_type": "stream",
          "name": "stdout",
          "text": [
            "[[2 4 6]\n",
            " [5 7 9]]\n"
          ]
        }
      ],
      "source": [
        "#write a numpy program that creates a 2d numpy array and a 1d array.\n",
        "#use the np.add universal function to add the 1 dimensional array to each row of the 2d array\n",
        "def adds(a,b):\n",
        "    return np.add(a,b)\n",
        "adds=np.frompyfunc(adds,2,1)\n",
        "print(adds([[1,2,3],[4,5,6]],  [1,2,3]))"
      ]
    },
    {
      "cell_type": "code",
      "execution_count": null,
      "id": "7b1d7121-ef4b-41c8-ab73-ede1c564b837",
      "metadata": {
        "id": "7b1d7121-ef4b-41c8-ab73-ede1c564b837",
        "outputId": "4c5300e3-4843-44d2-951f-42c24195d70b",
        "colab": {
          "base_uri": "https://localhost:8080/"
        }
      },
      "outputs": [
        {
          "output_type": "stream",
          "name": "stdout",
          "text": [
            "[[2 4 6]\n",
            " [5 7 9]]\n"
          ]
        }
      ],
      "source": [
        "def adds(a,b):\n",
        "    return a+b\n",
        "adds=np.frompyfunc(adds,2,1)\n",
        "print(adds([[1,2,3],[4,5,6]],  [1,2,3]))"
      ]
    },
    {
      "cell_type": "code",
      "execution_count": null,
      "id": "bfa0bb43-e73f-417e-9125-ebe8a988aeae",
      "metadata": {
        "id": "bfa0bb43-e73f-417e-9125-ebe8a988aeae",
        "outputId": "6ef13c61-b8e3-423f-e5b5-188a00f550ac",
        "colab": {
          "base_uri": "https://localhost:8080/"
        }
      },
      "outputs": [
        {
          "output_type": "stream",
          "name": "stdout",
          "text": [
            "[[2 6 12]\n",
            " [20 30 42]]\n"
          ]
        }
      ],
      "source": [
        "#write a numpy program that uses np.multiply universal function\n",
        "#to perform element wise multiplicatin of two two dimensional arrays of the same shape\n",
        "def multys(a,b):\n",
        "    return np.multiply(a,b)\n",
        "multys=np.frompyfunc(multys,2,1)\n",
        "print(multys([[1,2,3],[4,5,6]],  [[2,3,4],[5,6,7]]))"
      ]
    },
    {
      "cell_type": "markdown",
      "id": "37c1e1ef-9b8c-4508-b012-5eb8dfb37cb2",
      "metadata": {
        "id": "37c1e1ef-9b8c-4508-b012-5eb8dfb37cb2"
      },
      "source": [
        "## check if  a function is ufunc"
      ]
    },
    {
      "cell_type": "markdown",
      "id": "5944b516-f480-49fa-abcf-be2dfc397ea7",
      "metadata": {
        "id": "5944b516-f480-49fa-abcf-be2dfc397ea7"
      },
      "source": [
        "#Check the type of a function to check if it is a ufunc or not."
      ]
    },
    {
      "cell_type": "code",
      "execution_count": null,
      "id": "9aa57d42-3f1a-4f6a-bf2c-f958e95c6b73",
      "metadata": {
        "id": "9aa57d42-3f1a-4f6a-bf2c-f958e95c6b73",
        "outputId": "346d6a9e-cd7f-42b8-966f-8eb5251105f2",
        "colab": {
          "base_uri": "https://localhost:8080/"
        }
      },
      "outputs": [
        {
          "output_type": "stream",
          "name": "stdout",
          "text": [
            "add is ufunction\n"
          ]
        }
      ],
      "source": [
        "if type(np.add) == np.ufunc:\n",
        "   print(\"add is ufunction\")\n",
        "else:\n",
        "   print(\"not a ufunction\")\n"
      ]
    },
    {
      "cell_type": "markdown",
      "id": "70a9308c-e2a4-49e9-963b-beb2309b2177",
      "metadata": {
        "id": "70a9308c-e2a4-49e9-963b-beb2309b2177"
      },
      "source": [
        "## some ufunctions"
      ]
    },
    {
      "cell_type": "markdown",
      "id": "28e3aa3c-659a-47fa-b7c5-9a0baaf6d579",
      "metadata": {
        "id": "28e3aa3c-659a-47fa-b7c5-9a0baaf6d579"
      },
      "source": [
        "#The add() function sums the content of two arrays, and return the results in a new array."
      ]
    },
    {
      "cell_type": "code",
      "execution_count": null,
      "id": "bf83fb07-fe68-4daf-8e19-3034a1315600",
      "metadata": {
        "id": "bf83fb07-fe68-4daf-8e19-3034a1315600",
        "outputId": "dd89492f-004a-43af-bce2-7ca64158c146",
        "colab": {
          "base_uri": "https://localhost:8080/"
        }
      },
      "outputs": [
        {
          "output_type": "stream",
          "name": "stdout",
          "text": [
            "[3 8 5 6 3] \n",
            " [1 2 3 4 5]\n",
            "[ 4 10  8 10  8]\n"
          ]
        }
      ],
      "source": [
        "from numpy import random\n",
        "a=random.randint(1,10,5)\n",
        "b=np.arange(1,6)\n",
        "c=np.add(a,b)\n",
        "print(a,\"\\n\",b)\n",
        "print(c)"
      ]
    },
    {
      "cell_type": "code",
      "execution_count": null,
      "id": "6a1314b5-6dba-45f5-85c5-c63d8e500fdc",
      "metadata": {
        "id": "6a1314b5-6dba-45f5-85c5-c63d8e500fdc",
        "outputId": "99cdb86d-f2fb-458c-e868-3d48cb74f7b5",
        "colab": {
          "base_uri": "https://localhost:8080/"
        }
      },
      "outputs": [
        {
          "output_type": "stream",
          "name": "stdout",
          "text": [
            "[[1 2 3]\n",
            " [4 5 6]\n",
            " [7 8 9]] \n",
            " \n",
            " [[9 6 1]\n",
            " [2 5 1]\n",
            " [6 3 5]]\n",
            "[[-8 -4  2]\n",
            " [ 2  0  5]\n",
            " [ 1  5  4]]\n"
          ]
        }
      ],
      "source": [
        "#substract\n",
        "a=np.arange(1,10).reshape(3,3)\n",
        "b=random.randint(1,10,size=(3,3))\n",
        "c=np.subtract(a,b)\n",
        "print(a,\"\\n\",\"\\n\",b)\n",
        "print(c)"
      ]
    },
    {
      "cell_type": "code",
      "execution_count": null,
      "id": "f50b70cd-0b2d-48c0-aeac-6c3fd134a133",
      "metadata": {
        "id": "f50b70cd-0b2d-48c0-aeac-6c3fd134a133",
        "outputId": "3004c274-86ad-49b4-e9a7-006b3a4d2b45",
        "colab": {
          "base_uri": "https://localhost:8080/"
        }
      },
      "outputs": [
        {
          "output_type": "stream",
          "name": "stdout",
          "text": [
            "[[1 2 3]\n",
            " [4 5 6]\n",
            " [7 8 9]] \n",
            " \n",
            " [[3 4 6]\n",
            " [1 2 5]\n",
            " [9 5 9]]\n",
            "[[ 3  8 18]\n",
            " [ 4 10 30]\n",
            " [63 40 81]]\n"
          ]
        }
      ],
      "source": [
        "#multiply\n",
        "a=np.arange(1,10).reshape(3,3)\n",
        "b=random.randint(1,10,size=(3,3))\n",
        "c=np.multiply(a,b)\n",
        "print(a,\"\\n\",\"\\n\",b)\n",
        "print(c)"
      ]
    },
    {
      "cell_type": "code",
      "execution_count": null,
      "id": "545bdfc2-7690-48ab-b68b-b8aecc26eea8",
      "metadata": {
        "id": "545bdfc2-7690-48ab-b68b-b8aecc26eea8",
        "outputId": "4ce79362-8e41-4170-eedf-0330bded9ad0",
        "colab": {
          "base_uri": "https://localhost:8080/"
        }
      },
      "outputs": [
        {
          "output_type": "stream",
          "name": "stdout",
          "text": [
            "[[1 2 3]\n",
            " [4 5 6]\n",
            " [7 8 9]] \n",
            " \n",
            " [[6 4 6]\n",
            " [2 3 5]\n",
            " [7 1 6]]\n",
            "[[     1     16    729]\n",
            " [    16    125   7776]\n",
            " [823543      8 531441]]\n"
          ]
        }
      ],
      "source": [
        "#power\n",
        "a=np.arange(1,10).reshape(3,3)\n",
        "b=random.randint(1,10,size=(3,3))\n",
        "c=np.power(a,b)\n",
        "print(a,\"\\n\",\"\\n\",b)\n",
        "print(c)"
      ]
    },
    {
      "cell_type": "code",
      "execution_count": null,
      "id": "fa7d986c-772c-44e8-bf9b-8db45e8ddc39",
      "metadata": {
        "id": "fa7d986c-772c-44e8-bf9b-8db45e8ddc39",
        "outputId": "f89c12e1-cb85-4892-bb08-d243c0c96558",
        "colab": {
          "base_uri": "https://localhost:8080/"
        }
      },
      "outputs": [
        {
          "output_type": "stream",
          "name": "stdout",
          "text": [
            "[2 2 2]\n"
          ]
        }
      ],
      "source": [
        "#remainder\n",
        "arr1=np.array([5,6,7])\n",
        "arr2=np.array([3,4,5])\n",
        "x=np.remainder(arr1,arr2)\n",
        "print(x)"
      ]
    },
    {
      "cell_type": "code",
      "execution_count": null,
      "id": "efd9cb8f-e6f8-48d7-b623-7bfa59f632d5",
      "metadata": {
        "id": "efd9cb8f-e6f8-48d7-b623-7bfa59f632d5",
        "outputId": "356e8526-1609-4456-d440-2af487c72b55",
        "colab": {
          "base_uri": "https://localhost:8080/"
        }
      },
      "outputs": [
        {
          "output_type": "stream",
          "name": "stdout",
          "text": [
            "[2 2 2]\n"
          ]
        }
      ],
      "source": [
        "#mod\n",
        "arr1=np.array([5,6,7])\n",
        "arr2=np.array([3,4,5])\n",
        "x=np.mod(arr1,arr2)\n",
        "print(x)"
      ]
    },
    {
      "cell_type": "code",
      "execution_count": null,
      "id": "d3012bdf-107c-4525-a756-f27a1e7b36c5",
      "metadata": {
        "id": "d3012bdf-107c-4525-a756-f27a1e7b36c5",
        "outputId": "7a282484-c50d-4d50-9d87-4a7228594ff3",
        "colab": {
          "base_uri": "https://localhost:8080/"
        }
      },
      "outputs": [
        {
          "output_type": "stream",
          "name": "stdout",
          "text": [
            "(array([1, 1, 1]), array([2, 2, 2]))\n"
          ]
        }
      ],
      "source": [
        "#quotient and remainder\n",
        "arr1=np.array([5,6,7])\n",
        "arr2=np.array([3,4,5])\n",
        "x=np.divmod(arr1,arr2)\n",
        "print(x)"
      ]
    },
    {
      "cell_type": "code",
      "execution_count": null,
      "id": "981c8ff5-315f-4334-b109-a1dc4111c794",
      "metadata": {
        "id": "981c8ff5-315f-4334-b109-a1dc4111c794",
        "outputId": "7b2a321b-60f8-4f90-d3be-773657ca2178",
        "colab": {
          "base_uri": "https://localhost:8080/"
        }
      },
      "outputs": [
        {
          "output_type": "stream",
          "name": "stdout",
          "text": [
            "[25 36 49]\n"
          ]
        }
      ],
      "source": [
        "#write a numpy program that create a custom universal function that computes\n",
        "#x^2+2*+1 for each element in a numpy arrray\n",
        "def newfun(a):\n",
        "    return a**2 +2*a+1\n",
        "newfun=np.frompyfunc(newfun,1,1)\n",
        "print(newfun([4,5,6]))"
      ]
    },
    {
      "cell_type": "code",
      "execution_count": null,
      "id": "a4e612bb-4db1-48b2-811d-b507c2ae1be7",
      "metadata": {
        "id": "a4e612bb-4db1-48b2-811d-b507c2ae1be7",
        "outputId": "b250bc72-3221-4ee3-e4fc-608e212dc157",
        "colab": {
          "base_uri": "https://localhost:8080/"
        }
      },
      "outputs": [
        {
          "output_type": "stream",
          "name": "stdout",
          "text": [
            "[4 3 2 1]\n"
          ]
        }
      ],
      "source": [
        "#absolute value\n",
        "arr1=np.array([4,-3,2,-1])\n",
        "new=np.absolute(arr1)\n",
        "print(new)"
      ]
    },
    {
      "cell_type": "markdown",
      "id": "6ecf41cc-72e9-4e05-894b-a1958c435e1c",
      "metadata": {
        "id": "6ecf41cc-72e9-4e05-894b-a1958c435e1c"
      },
      "source": [
        "# rounding methods in numpy"
      ]
    },
    {
      "cell_type": "markdown",
      "id": "433b395d-53c4-4f24-89e2-90e7a9051110",
      "metadata": {
        "id": "433b395d-53c4-4f24-89e2-90e7a9051110"
      },
      "source": [
        "## trunc and fix"
      ]
    },
    {
      "cell_type": "code",
      "execution_count": null,
      "id": "053b1034-de5e-431c-827c-a1896a911a08",
      "metadata": {
        "id": "053b1034-de5e-431c-827c-a1896a911a08",
        "outputId": "5249016a-ae4b-4c3a-d82e-8f0a16e29ee7",
        "colab": {
          "base_uri": "https://localhost:8080/"
        }
      },
      "outputs": [
        {
          "output_type": "stream",
          "name": "stdout",
          "text": [
            "[ 3. -2.  2.]\n"
          ]
        }
      ],
      "source": [
        "import numpy as np\n",
        "arr=np.trunc([3.1233,-2.5465,2.5445])\n",
        "print(arr)"
      ]
    },
    {
      "cell_type": "code",
      "execution_count": null,
      "id": "354c847e-ce3a-4792-a601-36ef11b03bb9",
      "metadata": {
        "id": "354c847e-ce3a-4792-a601-36ef11b03bb9",
        "outputId": "30c89c2e-46c8-4d12-e4f7-4da1d66bbbd0",
        "colab": {
          "base_uri": "https://localhost:8080/"
        }
      },
      "outputs": [
        {
          "output_type": "stream",
          "name": "stdout",
          "text": [
            "[ 3. -2.  2.]\n"
          ]
        }
      ],
      "source": [
        "import numpy as np\n",
        "arr=np.fix([3.1233,-2.5465,2.5445])\n",
        "print(arr)"
      ]
    },
    {
      "cell_type": "markdown",
      "id": "fec40982-07ea-4c0a-8804-2c67ac6d0237",
      "metadata": {
        "id": "fec40982-07ea-4c0a-8804-2c67ac6d0237"
      },
      "source": [
        "## around"
      ]
    },
    {
      "cell_type": "code",
      "execution_count": null,
      "id": "b4d914ec-20ae-44ab-a90a-3e0e197e8dee",
      "metadata": {
        "id": "b4d914ec-20ae-44ab-a90a-3e0e197e8dee",
        "outputId": "452d0b38-0505-458d-8c50-5c9c0b7c2376",
        "colab": {
          "base_uri": "https://localhost:8080/"
        }
      },
      "outputs": [
        {
          "output_type": "stream",
          "name": "stdout",
          "text": [
            "[3. 5. 4.]\n"
          ]
        }
      ],
      "source": [
        "a=np.array([2.6333,5.2878,3.7222])\n",
        "b=np.around(a)\n",
        "print(b)"
      ]
    },
    {
      "cell_type": "code",
      "execution_count": null,
      "id": "409c62ce-adf8-465f-a47e-1c6b3ea3e58b",
      "metadata": {
        "id": "409c62ce-adf8-465f-a47e-1c6b3ea3e58b",
        "outputId": "15dc960c-2eb9-4e06-a4e5-3ec5e67caf0f",
        "colab": {
          "base_uri": "https://localhost:8080/"
        }
      },
      "outputs": [
        {
          "output_type": "stream",
          "name": "stdout",
          "text": [
            "[0.1231267  0.18541631 0.61714201]\n",
            "[0. 0. 1.]\n"
          ]
        }
      ],
      "source": [
        "x=random.rand(3)\n",
        "print(x)\n",
        "y=np.around(x)\n",
        "print(y)"
      ]
    },
    {
      "cell_type": "code",
      "execution_count": null,
      "id": "d6003846-7c0a-4376-9d5d-560d4a88bbd0",
      "metadata": {
        "id": "d6003846-7c0a-4376-9d5d-560d4a88bbd0",
        "outputId": "9ad740ae-288d-48f0-ced4-ace26a2d7d17",
        "colab": {
          "base_uri": "https://localhost:8080/"
        }
      },
      "outputs": [
        {
          "output_type": "stream",
          "name": "stdout",
          "text": [
            "4.0\n"
          ]
        }
      ],
      "source": [
        "s=np.around(3.6999)\n",
        "print(s)"
      ]
    },
    {
      "cell_type": "markdown",
      "id": "19b5ccff-4363-46de-a6eb-485c89cc0109",
      "metadata": {
        "id": "19b5ccff-4363-46de-a6eb-485c89cc0109"
      },
      "source": [
        "## floor"
      ]
    },
    {
      "cell_type": "code",
      "execution_count": null,
      "id": "fddb140a-6d23-4b5b-934b-b8927a13313c",
      "metadata": {
        "id": "fddb140a-6d23-4b5b-934b-b8927a13313c",
        "outputId": "5a8cd3ff-8043-490f-e0eb-5ff4083f448f",
        "colab": {
          "base_uri": "https://localhost:8080/"
        }
      },
      "outputs": [
        {
          "output_type": "stream",
          "name": "stdout",
          "text": [
            "[-4.  4.]\n"
          ]
        }
      ],
      "source": [
        "#near lowest integer\n",
        "ar=np.floor([-3.112211, 4.7777])\n",
        "print(ar)"
      ]
    },
    {
      "cell_type": "markdown",
      "id": "fe067f7e-9c74-4a71-8c61-8b9c0e8d3766",
      "metadata": {
        "id": "fe067f7e-9c74-4a71-8c61-8b9c0e8d3766"
      },
      "source": [
        "## ceil"
      ]
    },
    {
      "cell_type": "code",
      "execution_count": null,
      "id": "285f4201-5735-47f1-9422-7ac9f5293e09",
      "metadata": {
        "id": "285f4201-5735-47f1-9422-7ac9f5293e09",
        "outputId": "4cb9b6a2-0ddb-4e05-a59f-c8bf98ae34e8",
        "colab": {
          "base_uri": "https://localhost:8080/"
        }
      },
      "outputs": [
        {
          "output_type": "stream",
          "name": "stdout",
          "text": [
            "[ 4. -4.]\n"
          ]
        }
      ],
      "source": [
        "#near highest integers\n",
        "import numpy as np\n",
        "arr=np.ceil([3.23434,-4.7676])\n",
        "print(arr)"
      ]
    },
    {
      "cell_type": "markdown",
      "id": "a5f68244-6a98-4872-81f1-38961bd7005e",
      "metadata": {
        "id": "a5f68244-6a98-4872-81f1-38961bd7005e"
      },
      "source": [
        "# summation over an array"
      ]
    },
    {
      "cell_type": "code",
      "execution_count": null,
      "id": "d488d934-2730-46b3-a250-f99bab3c4e91",
      "metadata": {
        "id": "d488d934-2730-46b3-a250-f99bab3c4e91",
        "outputId": "5c8cae53-2fe5-4950-b0d0-30156f08eb9b",
        "colab": {
          "base_uri": "https://localhost:8080/"
        }
      },
      "outputs": [
        {
          "output_type": "stream",
          "name": "stdout",
          "text": [
            "29\n"
          ]
        }
      ],
      "source": [
        "arr1=np.array([1,4,6,8])\n",
        "arr2=np.array([1,2,3,4])\n",
        "a=np.sum([arr1,arr2])\n",
        "print(a)"
      ]
    },
    {
      "cell_type": "code",
      "execution_count": null,
      "id": "4b109c5f-c8c4-4849-bd20-ab63649de57d",
      "metadata": {
        "id": "4b109c5f-c8c4-4849-bd20-ab63649de57d",
        "outputId": "c1be5458-938e-44a2-f09a-865108371d68",
        "colab": {
          "base_uri": "https://localhost:8080/"
        }
      },
      "outputs": [
        {
          "output_type": "stream",
          "name": "stdout",
          "text": [
            "27\n"
          ]
        }
      ],
      "source": [
        "arr1=np.array([1,2,3])\n",
        "arr2=np.array([5,6,10])\n",
        "a=np.sum((arr1,arr2))\n",
        "print(a)"
      ]
    },
    {
      "cell_type": "code",
      "execution_count": null,
      "id": "7cf22326-2bac-427f-81e4-93c13e0d2c38",
      "metadata": {
        "id": "7cf22326-2bac-427f-81e4-93c13e0d2c38",
        "outputId": "d5848ffc-da6f-418a-a056-64b9abbbae03",
        "colab": {
          "base_uri": "https://localhost:8080/"
        }
      },
      "outputs": [
        {
          "output_type": "stream",
          "name": "stdout",
          "text": [
            "[ 7  9 11 13 15]\n"
          ]
        }
      ],
      "source": [
        "#summation with axis 0  - colum wise summation\n",
        "arr1=np.array([1,2,3,4,5])\n",
        "arr2=np.arange(6,11)\n",
        "sum=np.sum((arr1,arr2),axis=0)\n",
        "print(sum)"
      ]
    },
    {
      "cell_type": "code",
      "execution_count": null,
      "id": "ece0b9b2-a7b5-43fc-9cf6-bc1f1a476750",
      "metadata": {
        "id": "ece0b9b2-a7b5-43fc-9cf6-bc1f1a476750",
        "outputId": "59d41d04-059f-42ff-f254-72e3728f35a7",
        "colab": {
          "base_uri": "https://localhost:8080/"
        }
      },
      "outputs": [
        {
          "output_type": "stream",
          "name": "stdout",
          "text": [
            "[ 6 18]\n"
          ]
        }
      ],
      "source": [
        "# summation with axis 1  -  row wise summation\n",
        "x=np.array([1,2,3])\n",
        "y=np.array([5,6,7])\n",
        "z=np.sum((x,y),axis=1)\n",
        "print(z)"
      ]
    },
    {
      "cell_type": "markdown",
      "id": "b893c8c2-8abb-4b0a-98d3-befc4bb0f1af",
      "metadata": {
        "id": "b893c8c2-8abb-4b0a-98d3-befc4bb0f1af"
      },
      "source": [
        "## cumalative sum"
      ]
    },
    {
      "cell_type": "code",
      "execution_count": null,
      "id": "abb90b1b-0d8f-47ef-a94c-9e34bdff1931",
      "metadata": {
        "id": "abb90b1b-0d8f-47ef-a94c-9e34bdff1931",
        "outputId": "9e2f1722-9622-42be-d8bb-c9d7c1493169",
        "colab": {
          "base_uri": "https://localhost:8080/"
        }
      },
      "outputs": [
        {
          "output_type": "stream",
          "name": "stdout",
          "text": [
            "[3 5 8 7 1]\n",
            "[ 3  8 16 23 24]\n"
          ]
        }
      ],
      "source": [
        "from numpy import random\n",
        "arr1=np.random.randint(1,10,5)\n",
        "c=np.cumsum(arr1)\n",
        "print(arr1)\n",
        "print(c)"
      ]
    },
    {
      "cell_type": "code",
      "execution_count": null,
      "id": "3e9a5dbe-71c5-458a-948d-d2736e783588",
      "metadata": {
        "id": "3e9a5dbe-71c5-458a-948d-d2736e783588",
        "outputId": "727665ee-125a-4970-ef25-ab3a0ac55a1f",
        "colab": {
          "base_uri": "https://localhost:8080/"
        }
      },
      "outputs": [
        {
          "output_type": "stream",
          "name": "stdout",
          "text": [
            "[[1 2 3]\n",
            " [4 5 6]]\n",
            "[ 1  3  6 10 15 21]\n"
          ]
        }
      ],
      "source": [
        "#cumalative sum in 2dimensions\n",
        "arr=np.array([[1,2,3],[4,5,6]])\n",
        "c=np.cumsum(arr)\n",
        "print(arr)\n",
        "print(c)"
      ]
    },
    {
      "cell_type": "markdown",
      "id": "aa642077-1a3b-4193-93b3-9e8279567170",
      "metadata": {
        "id": "aa642077-1a3b-4193-93b3-9e8279567170"
      },
      "source": [
        "## prod"
      ]
    },
    {
      "cell_type": "code",
      "execution_count": null,
      "id": "45d66519-37d1-4243-a617-9dd60658c47c",
      "metadata": {
        "id": "45d66519-37d1-4243-a617-9dd60658c47c",
        "outputId": "69003187-442c-4914-82e0-022deff01173",
        "colab": {
          "base_uri": "https://localhost:8080/"
        }
      },
      "outputs": [
        {
          "output_type": "stream",
          "name": "stdout",
          "text": [
            "60\n"
          ]
        }
      ],
      "source": [
        "x=np.array([3,4,5])\n",
        "print(np.prod(x))"
      ]
    },
    {
      "cell_type": "code",
      "execution_count": null,
      "id": "7ddc6fd9-05cb-4b7b-8183-fe48fcc6b406",
      "metadata": {
        "id": "7ddc6fd9-05cb-4b7b-8183-fe48fcc6b406",
        "outputId": "305a0164-e6db-4f2e-95de-a870ae87e6b9",
        "colab": {
          "base_uri": "https://localhost:8080/"
        }
      },
      "outputs": [
        {
          "output_type": "stream",
          "name": "stdout",
          "text": [
            "360\n"
          ]
        }
      ],
      "source": [
        "x=np.array([3,4,5,2,3])\n",
        "y=np.prod(x)\n",
        "print(y)"
      ]
    },
    {
      "cell_type": "code",
      "execution_count": null,
      "id": "4a3338c7-ef76-416b-aa66-5696a9474ec6",
      "metadata": {
        "id": "4a3338c7-ef76-416b-aa66-5696a9474ec6",
        "outputId": "af5a6553-cb01-472c-c21e-ef7ad40d1de9",
        "colab": {
          "base_uri": "https://localhost:8080/"
        }
      },
      "outputs": [
        {
          "output_type": "stream",
          "name": "stdout",
          "text": [
            "144\n"
          ]
        }
      ],
      "source": [
        "#product within two arrays\n",
        "arr1=np.array([3,2,4])\n",
        "arr2=np.array([1,2,3])\n",
        "arr3=np.prod((arr1,arr2))\n",
        "print(arr3)"
      ]
    },
    {
      "cell_type": "code",
      "execution_count": null,
      "id": "2c45f36b-a6f5-4af0-9190-ec5c806453fe",
      "metadata": {
        "id": "2c45f36b-a6f5-4af0-9190-ec5c806453fe",
        "outputId": "440237ba-21e7-4e19-e213-ecda8702225c",
        "colab": {
          "base_uri": "https://localhost:8080/"
        }
      },
      "outputs": [
        {
          "output_type": "stream",
          "name": "stdout",
          "text": [
            "[ 3  4 12]\n"
          ]
        }
      ],
      "source": [
        "#product over axis =0\n",
        "arr1=np.array([3,2,4])\n",
        "arr2=np.array([1,2,3])\n",
        "arr3=np.prod([arr1,arr2],axis=0)   #colum wise productin\n",
        "print(arr3)"
      ]
    },
    {
      "cell_type": "code",
      "execution_count": null,
      "id": "6c5b5d85-3d52-4945-b8b3-6b5e7a738c54",
      "metadata": {
        "id": "6c5b5d85-3d52-4945-b8b3-6b5e7a738c54",
        "outputId": "442e91b7-875f-4b58-cf53-61cb97036719",
        "colab": {
          "base_uri": "https://localhost:8080/"
        }
      },
      "outputs": [
        {
          "output_type": "stream",
          "name": "stdout",
          "text": [
            "[24  6]\n"
          ]
        }
      ],
      "source": [
        "arr1=np.array([3,2,4])\n",
        "arr2=np.array([1,2,3])\n",
        "arr3=np.prod([arr1,arr2],axis=1)  #raw wise producting\n",
        "print(arr3)"
      ]
    },
    {
      "cell_type": "markdown",
      "id": "430d7b62-03c7-4013-8632-6bc06c9853a1",
      "metadata": {
        "id": "430d7b62-03c7-4013-8632-6bc06c9853a1"
      },
      "source": [
        "## cumulative product"
      ]
    },
    {
      "cell_type": "code",
      "execution_count": null,
      "id": "cb768eb1-8291-4be1-9477-1e833ce33b25",
      "metadata": {
        "id": "cb768eb1-8291-4be1-9477-1e833ce33b25",
        "outputId": "005e1642-0440-411c-f3e8-14ba87b7c753",
        "colab": {
          "base_uri": "https://localhost:8080/"
        }
      },
      "outputs": [
        {
          "output_type": "stream",
          "name": "stdout",
          "text": [
            "[   5   30  210 1680]\n"
          ]
        }
      ],
      "source": [
        "x=np.array([5,6,7,8])\n",
        "y=np.cumprod(x)\n",
        "print(y)"
      ]
    },
    {
      "cell_type": "markdown",
      "id": "e32de734-e3b3-41f1-a481-efdb52c15b3c",
      "metadata": {
        "id": "e32de734-e3b3-41f1-a481-efdb52c15b3c"
      },
      "source": [
        "# difference"
      ]
    },
    {
      "cell_type": "code",
      "execution_count": null,
      "id": "56589d4a-3942-41c5-849b-30bcbba9a7fb",
      "metadata": {
        "id": "56589d4a-3942-41c5-849b-30bcbba9a7fb",
        "outputId": "8bd89a20-faa2-4de4-b0df-e45e12002ccd",
        "colab": {
          "base_uri": "https://localhost:8080/"
        }
      },
      "outputs": [
        {
          "output_type": "stream",
          "name": "stdout",
          "text": [
            "[2 3 3]\n"
          ]
        }
      ],
      "source": [
        "a=np.array([10,12,15,18])\n",
        "b=np.diff(a)\n",
        "print(b)"
      ]
    },
    {
      "cell_type": "code",
      "execution_count": null,
      "id": "dab3167c-e961-46ba-8dde-b6ed2b099e49",
      "metadata": {
        "id": "dab3167c-e961-46ba-8dde-b6ed2b099e49",
        "outputId": "6057f3ea-5d57-41c3-a4e9-6da29bbc3209",
        "colab": {
          "base_uri": "https://localhost:8080/"
        }
      },
      "outputs": [
        {
          "output_type": "stream",
          "name": "stdout",
          "text": [
            "[2 3 5]\n"
          ]
        }
      ],
      "source": [
        "x=np.array([5,7,10,15])\n",
        "y=np.diff(x)\n",
        "print(y)"
      ]
    },
    {
      "cell_type": "code",
      "execution_count": null,
      "id": "0eda0379-0df8-4164-936a-805ca08b0353",
      "metadata": {
        "id": "0eda0379-0df8-4164-936a-805ca08b0353",
        "outputId": "320e351b-2d45-43eb-a8ae-7d638424a02a",
        "colab": {
          "base_uri": "https://localhost:8080/"
        }
      },
      "outputs": [
        {
          "output_type": "stream",
          "name": "stdout",
          "text": [
            "[  5 -30]\n"
          ]
        }
      ],
      "source": [
        "arr=np.array([10,15,25,5])\n",
        "a=np.diff(arr,n=2)\n",
        "print(a)      #5,10,-20\n",
        "              #5,-30"
      ]
    },
    {
      "cell_type": "markdown",
      "id": "8dcde341-e682-4381-941a-40713decf486",
      "metadata": {
        "id": "8dcde341-e682-4381-941a-40713decf486"
      },
      "source": [
        "# log"
      ]
    },
    {
      "cell_type": "code",
      "execution_count": null,
      "id": "b1d2d777-8c02-4657-9b6d-e1a5cb9cc484",
      "metadata": {
        "id": "b1d2d777-8c02-4657-9b6d-e1a5cb9cc484",
        "outputId": "08bef446-6210-4e74-9874-995e205a5738",
        "colab": {
          "base_uri": "https://localhost:8080/"
        }
      },
      "outputs": [
        {
          "output_type": "stream",
          "name": "stdout",
          "text": [
            "[0.69314718 1.60943791 2.7080502  2.19722458]\n"
          ]
        }
      ],
      "source": [
        "a=np.array([2,5,15,9])\n",
        "b=np.log(a)\n",
        "print(b)"
      ]
    },
    {
      "cell_type": "markdown",
      "id": "7b620325-4b4a-4578-9406-c01fab571d71",
      "metadata": {
        "id": "7b620325-4b4a-4578-9406-c01fab571d71"
      },
      "source": [
        "# log2"
      ]
    },
    {
      "cell_type": "code",
      "execution_count": null,
      "id": "ea3cbb0f-373b-426c-a833-9a817170db56",
      "metadata": {
        "id": "ea3cbb0f-373b-426c-a833-9a817170db56",
        "outputId": "2cf00fcc-0057-413d-c540-e5fd6658bc01",
        "colab": {
          "base_uri": "https://localhost:8080/"
        }
      },
      "outputs": [
        {
          "output_type": "stream",
          "name": "stdout",
          "text": [
            "[1.         2.32192809 3.9068906  3.169925  ]\n"
          ]
        }
      ],
      "source": [
        "a=np.array([2,5,15,9])\n",
        "b=np.log2(a)\n",
        "print(b)"
      ]
    },
    {
      "cell_type": "code",
      "execution_count": null,
      "id": "f0c6e5ee-310d-4598-8e3f-16b7b8f34f89",
      "metadata": {
        "id": "f0c6e5ee-310d-4598-8e3f-16b7b8f34f89",
        "outputId": "b9b1b1a6-0eed-4693-d1f5-c56dbcc047fa",
        "colab": {
          "base_uri": "https://localhost:8080/"
        }
      },
      "outputs": [
        {
          "output_type": "stream",
          "name": "stdout",
          "text": [
            "[[      -inf 0.         1.         1.5849625 ]\n",
            " [2.         2.32192809 2.5849625  2.80735492]]\n"
          ]
        },
        {
          "output_type": "stream",
          "name": "stderr",
          "text": [
            "<ipython-input-50-f1b866f898c6>:2: RuntimeWarning: divide by zero encountered in log2\n",
            "  y=np.log2(x)\n"
          ]
        }
      ],
      "source": [
        "x=np.arange(8).reshape(2,4)\n",
        "y=np.log2(x)\n",
        "print(y)"
      ]
    },
    {
      "cell_type": "markdown",
      "id": "366502f8-8f95-40f0-af3e-d41a6c1c4e67",
      "metadata": {
        "id": "366502f8-8f95-40f0-af3e-d41a6c1c4e67"
      },
      "source": [
        "# lowest comman multiple"
      ]
    },
    {
      "cell_type": "code",
      "execution_count": null,
      "id": "4f172a8a-96ae-4bb8-92b8-ecd56b8de19f",
      "metadata": {
        "id": "4f172a8a-96ae-4bb8-92b8-ecd56b8de19f",
        "outputId": "26064552-18ad-4db1-bd83-4af43927253d",
        "colab": {
          "base_uri": "https://localhost:8080/"
        }
      },
      "outputs": [
        {
          "output_type": "stream",
          "name": "stdout",
          "text": [
            "12\n"
          ]
        }
      ],
      "source": [
        "a=6\n",
        "b=4\n",
        "x=np.lcm(a,b)\n",
        "print(x)"
      ]
    },
    {
      "cell_type": "markdown",
      "id": "438e6421-cb5a-4e59-b33f-41f507f1d412",
      "metadata": {
        "id": "438e6421-cb5a-4e59-b33f-41f507f1d412"
      },
      "source": [
        "## Finding LCM in Arrays"
      ]
    },
    {
      "cell_type": "code",
      "execution_count": null,
      "id": "9c146884-8db1-4eb3-80d5-65317c3fd67a",
      "metadata": {
        "id": "9c146884-8db1-4eb3-80d5-65317c3fd67a",
        "outputId": "92e44802-74e0-44f1-e194-cc986806da45",
        "colab": {
          "base_uri": "https://localhost:8080/"
        }
      },
      "outputs": [
        {
          "output_type": "stream",
          "name": "stdout",
          "text": [
            "18\n"
          ]
        }
      ],
      "source": [
        "import numpy as np\n",
        "arr = np.array([3, 6, 9])\n",
        "x = np.lcm.reduce(arr)\n",
        "print(x)"
      ]
    },
    {
      "cell_type": "markdown",
      "id": "e565b144-eb45-4741-acc8-6665b5327213",
      "metadata": {
        "id": "e565b144-eb45-4741-acc8-6665b5327213"
      },
      "source": [
        "# greatest comman denominator"
      ]
    },
    {
      "cell_type": "code",
      "execution_count": null,
      "id": "be3299b3-87b0-4fac-8d4b-7381c74cbf2d",
      "metadata": {
        "id": "be3299b3-87b0-4fac-8d4b-7381c74cbf2d",
        "outputId": "e1872ec1-6c87-4692-ddba-4fbb58c7acaf",
        "colab": {
          "base_uri": "https://localhost:8080/"
        }
      },
      "outputs": [
        {
          "output_type": "stream",
          "name": "stdout",
          "text": [
            "2\n"
          ]
        }
      ],
      "source": [
        "import numpy as np\n",
        "arr = np.array([20,8,6])\n",
        "x = np.gcd.reduce(arr)\n",
        "print(x)"
      ]
    },
    {
      "cell_type": "markdown",
      "id": "2d945d77-b68d-479d-9ddd-f0cf114a69b6",
      "metadata": {
        "id": "2d945d77-b68d-479d-9ddd-f0cf114a69b6"
      },
      "source": [
        "# Finding GCD in Arrays"
      ]
    },
    {
      "cell_type": "code",
      "execution_count": null,
      "id": "5177cc61-2b99-45f9-97d6-350ff276c881",
      "metadata": {
        "id": "5177cc61-2b99-45f9-97d6-350ff276c881",
        "outputId": "bd9b719b-de5d-4a56-ab87-3e38405aa9b4",
        "colab": {
          "base_uri": "https://localhost:8080/"
        }
      },
      "outputs": [
        {
          "output_type": "stream",
          "name": "stdout",
          "text": [
            "4\n"
          ]
        }
      ],
      "source": [
        "import numpy as np\n",
        "arr = np.array([20, 8, 32, 36, 16])\n",
        "x = np.gcd.reduce(arr)\n",
        "print(x)"
      ]
    },
    {
      "cell_type": "markdown",
      "id": "4cebdd3d-9a1e-4208-9dae-3d0c1b877686",
      "metadata": {
        "id": "4cebdd3d-9a1e-4208-9dae-3d0c1b877686"
      },
      "source": [
        "# Trigonometric Functions"
      ]
    },
    {
      "cell_type": "markdown",
      "id": "40d27547-9571-4503-8216-61eab3f95921",
      "metadata": {
        "id": "40d27547-9571-4503-8216-61eab3f95921"
      },
      "source": [
        "## sin"
      ]
    },
    {
      "cell_type": "markdown",
      "id": "3f85bbc0-4807-45e7-8106-ddfba11770db",
      "metadata": {
        "id": "3f85bbc0-4807-45e7-8106-ddfba11770db"
      },
      "source": [
        "#NumPy provides the ufuncs sin(), cos() and tan() that take values in radians and produce the corresponding sin, cos and tan values."
      ]
    },
    {
      "cell_type": "code",
      "execution_count": null,
      "id": "37578e63-e8e2-45bd-aabb-8f9f0d3a6241",
      "metadata": {
        "id": "37578e63-e8e2-45bd-aabb-8f9f0d3a6241"
      },
      "outputs": [],
      "source": [
        "#radian values of degrees\n",
        "#(90degree=pi/2,   60=pi/3,   45=pi/4,  30=pi/6,  0=0,  180=pi,   360=pipi)"
      ]
    },
    {
      "cell_type": "code",
      "execution_count": null,
      "id": "9df7f596-9106-49bd-811d-66ab6300587a",
      "metadata": {
        "id": "9df7f596-9106-49bd-811d-66ab6300587a",
        "outputId": "100a5492-3f07-45fa-f352-6fb2804ff218",
        "colab": {
          "base_uri": "https://localhost:8080/"
        }
      },
      "outputs": [
        {
          "output_type": "stream",
          "name": "stdout",
          "text": [
            "1.0\n"
          ]
        }
      ],
      "source": [
        "import numpy as np\n",
        "x=np.sin(np.pi/2)\n",
        "print(x)"
      ]
    },
    {
      "cell_type": "code",
      "execution_count": null,
      "id": "764307d9-9e43-4c1b-8dc1-aaca051b3502",
      "metadata": {
        "id": "764307d9-9e43-4c1b-8dc1-aaca051b3502",
        "outputId": "8bdf472c-d5e5-4b81-c07f-06f96d7c4877",
        "colab": {
          "base_uri": "https://localhost:8080/"
        }
      },
      "outputs": [
        {
          "output_type": "stream",
          "name": "stdout",
          "text": [
            "[1.         0.8660254  0.70710678 0.58778525]\n"
          ]
        }
      ],
      "source": [
        "arr=np.sin([np.pi/2, np.pi/3, np.pi/4, np.pi/5])\n",
        "print(arr)"
      ]
    },
    {
      "cell_type": "markdown",
      "id": "a66b0ec4-1315-4a5f-995e-32ee1be4b35c",
      "metadata": {
        "id": "a66b0ec4-1315-4a5f-995e-32ee1be4b35c"
      },
      "source": [
        "## cos"
      ]
    },
    {
      "cell_type": "code",
      "execution_count": null,
      "id": "18346513-3966-48de-9b51-d7ef1d08152e",
      "metadata": {
        "id": "18346513-3966-48de-9b51-d7ef1d08152e",
        "outputId": "0d33c842-715f-4e80-cbaf-831c81d4cea4",
        "colab": {
          "base_uri": "https://localhost:8080/"
        }
      },
      "outputs": [
        {
          "output_type": "stream",
          "name": "stdout",
          "text": [
            "6.123233995736766e-17\n"
          ]
        }
      ],
      "source": [
        "x=np.cos(np.pi/2)\n",
        "print(x)"
      ]
    },
    {
      "cell_type": "code",
      "execution_count": null,
      "id": "11606a6c-5d02-49b4-8a45-5bde01d0a297",
      "metadata": {
        "id": "11606a6c-5d02-49b4-8a45-5bde01d0a297",
        "outputId": "664f93c1-9b3a-4da2-8ccd-af71b7e74fda",
        "colab": {
          "base_uri": "https://localhost:8080/"
        }
      },
      "outputs": [
        {
          "output_type": "stream",
          "name": "stdout",
          "text": [
            "[6.12323400e-17 5.00000000e-01 7.07106781e-01 8.09016994e-01]\n"
          ]
        }
      ],
      "source": [
        "arr=np.cos([np.pi/2, np.pi/3, np.pi/4, np.pi/5])\n",
        "print(arr)"
      ]
    },
    {
      "cell_type": "markdown",
      "id": "82855693-10c7-490a-8807-c2e31e7b5c45",
      "metadata": {
        "id": "82855693-10c7-490a-8807-c2e31e7b5c45"
      },
      "source": [
        "## tan"
      ]
    },
    {
      "cell_type": "code",
      "execution_count": null,
      "id": "b2451d66-6a88-472b-ae5f-ff5fe7e03c48",
      "metadata": {
        "id": "b2451d66-6a88-472b-ae5f-ff5fe7e03c48",
        "outputId": "3e344e5b-f604-4259-c854-542f70c6ae9a",
        "colab": {
          "base_uri": "https://localhost:8080/"
        }
      },
      "outputs": [
        {
          "output_type": "stream",
          "name": "stdout",
          "text": [
            "1.633123935319537e+16\n"
          ]
        }
      ],
      "source": [
        "x=np.tan(np.pi/2)\n",
        "print(x)"
      ]
    },
    {
      "cell_type": "code",
      "execution_count": null,
      "id": "233f3986-5bdf-4cfe-a4ad-02093d980d6c",
      "metadata": {
        "id": "233f3986-5bdf-4cfe-a4ad-02093d980d6c",
        "outputId": "b1967af1-4bbd-422a-b16f-a8dc3e830aff",
        "colab": {
          "base_uri": "https://localhost:8080/"
        }
      },
      "outputs": [
        {
          "output_type": "stream",
          "name": "stdout",
          "text": [
            "[1.63312394e+16 1.73205081e+00 1.00000000e+00 7.26542528e-01]\n"
          ]
        }
      ],
      "source": [
        "arr=np.tan([np.pi/2, np.pi/3, np.pi/4, np.pi/5])\n",
        "print(arr)"
      ]
    },
    {
      "cell_type": "markdown",
      "id": "e890c72c-bfb1-43b2-a529-9731dcf66e4f",
      "metadata": {
        "id": "e890c72c-bfb1-43b2-a529-9731dcf66e4f"
      },
      "source": [
        "## Convert Degrees Into Radians - deg2rad"
      ]
    },
    {
      "cell_type": "code",
      "execution_count": null,
      "id": "8e150747-e77a-4b36-a611-e34c60323920",
      "metadata": {
        "id": "8e150747-e77a-4b36-a611-e34c60323920",
        "outputId": "33c8e8d8-fed2-400e-8dac-e35311de6f56",
        "colab": {
          "base_uri": "https://localhost:8080/"
        }
      },
      "outputs": [
        {
          "output_type": "stream",
          "name": "stdout",
          "text": [
            "[0.52359878 1.57079633 3.14159265]\n"
          ]
        }
      ],
      "source": [
        "arr=np.array([30,90,180])\n",
        "x=np.deg2rad(arr)\n",
        "print(x)"
      ]
    },
    {
      "cell_type": "code",
      "execution_count": null,
      "id": "8f00a460-e416-4caf-8dc6-62b2dce50e30",
      "metadata": {
        "id": "8f00a460-e416-4caf-8dc6-62b2dce50e30",
        "outputId": "a704e193-be5b-4d59-d597-38742617a65c",
        "colab": {
          "base_uri": "https://localhost:8080/"
        }
      },
      "outputs": [
        {
          "output_type": "stream",
          "name": "stdout",
          "text": [
            "6.283185307179586\n"
          ]
        }
      ],
      "source": [
        "arr=np.array(360)\n",
        "x=np.deg2rad(arr)\n",
        "print(x)"
      ]
    },
    {
      "cell_type": "code",
      "execution_count": null,
      "id": "6b34ad8d-479b-46a7-bc9c-6bbb897d60c4",
      "metadata": {
        "id": "6b34ad8d-479b-46a7-bc9c-6bbb897d60c4",
        "outputId": "b1ec7942-89d4-41ee-fba2-3c9b3b8f5f9c",
        "colab": {
          "base_uri": "https://localhost:8080/"
        }
      },
      "outputs": [
        {
          "output_type": "stream",
          "name": "stdout",
          "text": [
            "1.5707963267948966\n"
          ]
        }
      ],
      "source": [
        "a=np.array(90)\n",
        "print(np.deg2rad(a))"
      ]
    },
    {
      "cell_type": "markdown",
      "id": "38a0b9ad-98bf-406c-8192-364d85d4b211",
      "metadata": {
        "id": "38a0b9ad-98bf-406c-8192-364d85d4b211"
      },
      "source": [
        "## Radians to Degrees - rad2deg"
      ]
    },
    {
      "cell_type": "code",
      "execution_count": null,
      "id": "7871f987-00a2-49de-a223-a5cec1d8efc1",
      "metadata": {
        "id": "7871f987-00a2-49de-a223-a5cec1d8efc1",
        "outputId": "82c3c9c6-e562-4a08-a054-98581554ff1d",
        "colab": {
          "base_uri": "https://localhost:8080/"
        }
      },
      "outputs": [
        {
          "output_type": "stream",
          "name": "stdout",
          "text": [
            "90.0\n"
          ]
        }
      ],
      "source": [
        "x=np.array(1.5707963267948966)\n",
        "y=np.rad2deg(x)\n",
        "print(y)"
      ]
    },
    {
      "cell_type": "markdown",
      "id": "841fb721-1e72-4e55-8e51-2d35a1dad922",
      "metadata": {
        "id": "841fb721-1e72-4e55-8e51-2d35a1dad922"
      },
      "source": [
        "## Angles of Each Value in Arrays"
      ]
    },
    {
      "cell_type": "code",
      "execution_count": null,
      "id": "01876e22-c41b-4426-a54e-e3d762dda214",
      "metadata": {
        "id": "01876e22-c41b-4426-a54e-e3d762dda214",
        "outputId": "2db39a3c-47e2-4f3e-ec38-5c07b087894c",
        "colab": {
          "base_uri": "https://localhost:8080/"
        }
      },
      "outputs": [
        {
          "output_type": "stream",
          "name": "stdout",
          "text": [
            "[ 1.57079633 -1.57079633  0.10016742]\n"
          ]
        }
      ],
      "source": [
        "arr = np.array([1, -1, 0.1])\n",
        "x = np.arcsin(arr)\n",
        "print(x)"
      ]
    },
    {
      "cell_type": "markdown",
      "id": "52a2f1ff-9b6a-43d3-8b9f-174a86f1e5dc",
      "metadata": {
        "id": "52a2f1ff-9b6a-43d3-8b9f-174a86f1e5dc"
      },
      "source": [
        "## hypotenes"
      ]
    },
    {
      "cell_type": "code",
      "execution_count": null,
      "id": "72e6f388-3f29-4839-8a48-7e3cd4af22b9",
      "metadata": {
        "id": "72e6f388-3f29-4839-8a48-7e3cd4af22b9",
        "outputId": "11becea3-d4d4-44d2-ef44-743538c5c551",
        "colab": {
          "base_uri": "https://localhost:8080/"
        }
      },
      "outputs": [
        {
          "output_type": "stream",
          "name": "stdout",
          "text": [
            "5.0\n"
          ]
        }
      ],
      "source": [
        "base = 3\n",
        "perp = 4\n",
        "x = np.hypot(base, perp)\n",
        "print(x)\n"
      ]
    },
    {
      "cell_type": "code",
      "execution_count": null,
      "id": "ac944603-5113-49d5-9e26-db38695adf30",
      "metadata": {
        "id": "ac944603-5113-49d5-9e26-db38695adf30",
        "outputId": "d77c5aaf-7817-4dad-888f-31380895247a",
        "colab": {
          "base_uri": "https://localhost:8080/"
        }
      },
      "outputs": [
        {
          "output_type": "stream",
          "name": "stdout",
          "text": [
            "7.810249675906654\n"
          ]
        }
      ],
      "source": [
        "base = 5\n",
        "perp = 6\n",
        "x = np.hypot(base, perp)\n",
        "print(x)\n"
      ]
    }
  ],
  "metadata": {
    "kernelspec": {
      "display_name": "Python 3 (ipykernel)",
      "language": "python",
      "name": "python3"
    },
    "language_info": {
      "codemirror_mode": {
        "name": "ipython",
        "version": 3
      },
      "file_extension": ".py",
      "mimetype": "text/x-python",
      "name": "python",
      "nbconvert_exporter": "python",
      "pygments_lexer": "ipython3",
      "version": "3.12.4"
    },
    "colab": {
      "provenance": []
    }
  },
  "nbformat": 4,
  "nbformat_minor": 5
}