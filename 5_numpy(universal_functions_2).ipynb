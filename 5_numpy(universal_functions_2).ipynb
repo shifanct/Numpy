{
  "cells": [
    {
      "cell_type": "markdown",
      "metadata": {
        "id": "WuCMaT0TgwkF"
      },
      "source": [
        "# Create Sets in NumPy"
      ]
    },
    {
      "cell_type": "code",
      "execution_count": null,
      "metadata": {
        "colab": {
          "base_uri": "https://localhost:8080/"
        },
        "id": "FyCsbRmFgi9t",
        "outputId": "bdd7d640-8df1-4426-bc8e-84268cdbc1c9"
      },
      "outputs": [
        {
          "name": "stdout",
          "output_type": "stream",
          "text": [
            "[1 2 3 4 5 6 7]\n",
            "<class 'numpy.ndarray'>\n"
          ]
        }
      ],
      "source": [
        "import numpy as np\n",
        "arr=np.array([1,1,1,2,3,4,5,5,6,7])\n",
        "x=np.unique(arr)\n",
        "print(x)\n",
        "print(type(x))"
      ]
    },
    {
      "cell_type": "code",
      "execution_count": null,
      "metadata": {
        "colab": {
          "base_uri": "https://localhost:8080/"
        },
        "id": "gcJWDGp7giwl",
        "outputId": "8e0b4208-9e6f-4bc5-fb1b-842384af8818"
      },
      "outputs": [
        {
          "name": "stdout",
          "output_type": "stream",
          "text": [
            "[1 2 3 4 5 6 7 9]\n"
          ]
        }
      ],
      "source": [
        "arr=np.array([9,1,1,2,3,4,5,5,6,7])\n",
        "x=np.unique(arr)\n",
        "print(x)"
      ]
    },
    {
      "cell_type": "markdown",
      "metadata": {
        "id": "87Xtjaolg5wF"
      },
      "source": [
        "## Finding Union"
      ]
    },
    {
      "cell_type": "code",
      "execution_count": null,
      "metadata": {
        "colab": {
          "base_uri": "https://localhost:8080/"
        },
        "id": "ZE5HmN7Agit1",
        "outputId": "7ffd5c5e-a8f8-46cb-a489-ae5d66b3e1f6"
      },
      "outputs": [
        {
          "name": "stdout",
          "output_type": "stream",
          "text": [
            "[1 2 3 4 5 6]\n"
          ]
        }
      ],
      "source": [
        "arr1=np.array([1,2,3,4])\n",
        "arr2=np.array([3,4,5,6])\n",
        "newarr=np.union1d(arr1,arr2)\n",
        "print(newarr)"
      ]
    },
    {
      "cell_type": "code",
      "execution_count": null,
      "metadata": {
        "colab": {
          "base_uri": "https://localhost:8080/"
        },
        "id": "EaE6LShWgirE",
        "outputId": "cbb9269e-d158-4d80-86d4-c75020c02af9"
      },
      "outputs": [
        {
          "name": "stdout",
          "output_type": "stream",
          "text": [
            "[1 2 3 4 6]\n"
          ]
        }
      ],
      "source": [
        "arr1=np.array([[1,2,],[3,4]])\n",
        "arr2=np.array([[3,4],[4,6]])\n",
        "newarr=np.union1d(arr1,arr2)\n",
        "print(newarr)"
      ]
    },
    {
      "cell_type": "markdown",
      "metadata": {
        "id": "XJPDDM06oNZd"
      },
      "source": [
        "## Finding Intersection"
      ]
    },
    {
      "cell_type": "code",
      "execution_count": null,
      "metadata": {
        "colab": {
          "base_uri": "https://localhost:8080/"
        },
        "id": "r7NBklWFgifF",
        "outputId": "ac577714-2a8a-42da-df09-859a2c4c4c5d"
      },
      "outputs": [
        {
          "name": "stdout",
          "output_type": "stream",
          "text": [
            "[3 4]\n"
          ]
        }
      ],
      "source": [
        "arr1=np.array([1,2,3,4])\n",
        "arr2=np.array([3,4,5,6])\n",
        "newarr=np.intersect1d(arr1,arr2,assume_unique=True)\n",
        "print(newarr)"
      ]
    },
    {
      "cell_type": "code",
      "execution_count": null,
      "metadata": {
        "colab": {
          "base_uri": "https://localhost:8080/"
        },
        "id": "wzzynv9_gibs",
        "outputId": "f500b47d-ba37-418a-9afe-081a3215fb85"
      },
      "outputs": [
        {
          "name": "stdout",
          "output_type": "stream",
          "text": [
            "[3 4]\n"
          ]
        }
      ],
      "source": [
        "arr1=np.array([1,2,3,4])\n",
        "arr2=np.array([3,4,5,6])\n",
        "newarr=np.intersect1d(arr1,arr2)\n",
        "print(newarr)"
      ]
    },
    {
      "cell_type": "markdown",
      "metadata": {
        "id": "GqjF2Xaro5Rg"
      },
      "source": [
        "## Finding Difference"
      ]
    },
    {
      "cell_type": "code",
      "execution_count": null,
      "metadata": {
        "colab": {
          "base_uri": "https://localhost:8080/"
        },
        "id": "VSG-tVyKgiV1",
        "outputId": "82c497ab-9aab-4908-ff9c-e500ad8034ab"
      },
      "outputs": [
        {
          "name": "stdout",
          "output_type": "stream",
          "text": [
            "[1 2]\n"
          ]
        }
      ],
      "source": [
        "arr1=np.array([1,2,3,4])\n",
        "arr2=np.array([3,4,5,6])\n",
        "newarr=np.setdiff1d(arr1,arr2,assume_unique=True)\n",
        "print(newarr)"
      ]
    },
    {
      "cell_type": "code",
      "execution_count": null,
      "metadata": {
        "colab": {
          "base_uri": "https://localhost:8080/"
        },
        "id": "NbT5A3tMgiN2",
        "outputId": "76f55689-5ffe-4917-df18-749613391849"
      },
      "outputs": [
        {
          "name": "stdout",
          "output_type": "stream",
          "text": [
            "[1 2]\n"
          ]
        }
      ],
      "source": [
        "arr1=np.array([1,2,3,4])\n",
        "arr2=np.array([3,4,5,6])\n",
        "newarr=np.setdiff1d(arr1,arr2)\n",
        "print(newarr)"
      ]
    },
    {
      "cell_type": "markdown",
      "metadata": {
        "id": "68v3xMuApKlr"
      },
      "source": [
        "## Finding Symmetric Difference"
      ]
    },
    {
      "cell_type": "code",
      "execution_count": null,
      "metadata": {
        "colab": {
          "base_uri": "https://localhost:8080/"
        },
        "id": "m_qpe4jYgiB4",
        "outputId": "7f18aee2-6631-45e0-9472-2ca3aaf93989"
      },
      "outputs": [
        {
          "name": "stdout",
          "output_type": "stream",
          "text": [
            "[1 2 5 6]\n"
          ]
        }
      ],
      "source": [
        "#To find only the values that are NOT present in BOTH sets, use the setxor1d() method.\n",
        "arr1=np.array([1,2,3,4])\n",
        "arr2=np.array([3,4,5,6])\n",
        "newarr=np.setxor1d(arr1,arr2)\n",
        "print(newarr)"
      ]
    },
    {
      "cell_type": "code",
      "execution_count": null,
      "metadata": {
        "colab": {
          "base_uri": "https://localhost:8080/"
        },
        "id": "onuGYhaApb2D",
        "outputId": "2810f9f3-69a1-4a1c-cc6e-91c60720d06a"
      },
      "outputs": [
        {
          "name": "stdout",
          "output_type": "stream",
          "text": [
            "[1 2 5 6]\n"
          ]
        }
      ],
      "source": [
        "arr1=np.array([1,2,3,4])\n",
        "arr2=np.array([3,4,5,6])\n",
        "newarr=np.setxor1d(arr1,arr2,assume_unique=True)\n",
        "print(newarr)"
      ]
    },
    {
      "cell_type": "markdown",
      "metadata": {
        "id": "JuLRU0rCVP6f"
      },
      "source": [
        "# Input Output Functions"
      ]
    },
    {
      "cell_type": "code",
      "execution_count": null,
      "metadata": {
        "id": "cNqo1A_opzcj"
      },
      "outputs": [],
      "source": [
        "import numpy as np\n",
        "#create a numpy array\n",
        "arr=np.array([[1,2,3],[4,5,6]])\n",
        "#save the array to a file\n",
        "np.save('file.npy',arr)"
      ]
    },
    {
      "cell_type": "code",
      "execution_count": null,
      "metadata": {
        "colab": {
          "base_uri": "https://localhost:8080/"
        },
        "id": "BEPRhRKppzOT",
        "outputId": "50ae1a50-b1a6-4f67-89a3-eb1a6436e0bf"
      },
      "outputs": [
        {
          "name": "stdout",
          "output_type": "stream",
          "text": [
            "[[1 2 3]\n",
            " [4 5 6]]\n"
          ]
        }
      ],
      "source": [
        "#load the saved array\n",
        "loaded_array=np.load('file.npy')\n",
        "print(loaded_array)"
      ]
    },
    {
      "cell_type": "code",
      "execution_count": null,
      "metadata": {
        "colab": {
          "base_uri": "https://localhost:8080/"
        },
        "id": "jK9x1gT7WnG7",
        "outputId": "8ac6b41f-b5a0-4c69-82d8-9ebf2b4d6041"
      },
      "outputs": [
        {
          "name": "stdout",
          "output_type": "stream",
          "text": [
            "[[5. 6. 7.]\n",
            " [7. 8. 9.]]\n"
          ]
        }
      ],
      "source": [
        "# save an array as txt file\n",
        "x=np.array([[5,6,7],[7,8,9]])\n",
        "\n",
        "#save the data as a txt file\n",
        "np.savetxt('folder.txt',x)\n",
        "#load the txt file\n",
        "load=np.loadtxt('folder.txt')\n",
        "print(load)"
      ]
    },
    {
      "cell_type": "markdown",
      "metadata": {
        "id": "WCXdGNMfXw3N"
      },
      "source": [
        "# Numpy comparison Operators"
      ]
    },
    {
      "cell_type": "code",
      "execution_count": null,
      "metadata": {
        "colab": {
          "base_uri": "https://localhost:8080/"
        },
        "id": "mhBxFJJCX4V-",
        "outputId": "e881b62c-b919-4d01-f10b-67b5005cde7a"
      },
      "outputs": [
        {
          "name": "stdout",
          "output_type": "stream",
          "text": [
            "[ True  True False]\n"
          ]
        }
      ],
      "source": [
        "a=np.array([4,6,3])\n",
        "b=np.array([3,4,5])\n",
        "print(a>b)"
      ]
    },
    {
      "cell_type": "code",
      "execution_count": null,
      "metadata": {
        "colab": {
          "base_uri": "https://localhost:8080/"
        },
        "id": "u0o_gGclX4O8",
        "outputId": "55b0deb0-fcca-453f-a6fb-280940f26ad2"
      },
      "outputs": [
        {
          "name": "stdout",
          "output_type": "stream",
          "text": [
            "[ True False  True]\n"
          ]
        }
      ],
      "source": [
        "x=np.array([2,5,5])\n",
        "y=np.array([3,4,6])\n",
        "z=x<y\n",
        "print(z)"
      ]
    },
    {
      "cell_type": "code",
      "execution_count": null,
      "metadata": {
        "colab": {
          "base_uri": "https://localhost:8080/"
        },
        "id": "9D3VRybAX4F7",
        "outputId": "b84bef75-6576-47ae-d726-d23c48a1b7e0"
      },
      "outputs": [
        {
          "name": "stdout",
          "output_type": "stream",
          "text": [
            "[False  True False]\n"
          ]
        }
      ],
      "source": [
        "a=np.array([4,5,6])\n",
        "b=np.array([5,5,5])\n",
        "print(a==b)"
      ]
    },
    {
      "cell_type": "code",
      "execution_count": null,
      "metadata": {
        "colab": {
          "base_uri": "https://localhost:8080/"
        },
        "id": "bmI7gOwtYb4l",
        "outputId": "bb6b82dd-1986-47b1-cf68-78a4a037d409"
      },
      "outputs": [
        {
          "name": "stdout",
          "output_type": "stream",
          "text": [
            "[False  True  True]\n"
          ]
        }
      ],
      "source": [
        "a=np.array([4,5,6])\n",
        "b=np.array([5,5,5])\n",
        "print(a>=b)"
      ]
    },
    {
      "cell_type": "code",
      "execution_count": null,
      "metadata": {
        "colab": {
          "base_uri": "https://localhost:8080/"
        },
        "id": "NfaFBcZDYb1b",
        "outputId": "b753a7d4-e4e5-4605-b5ae-7b6e1eaf95d4"
      },
      "outputs": [
        {
          "name": "stdout",
          "output_type": "stream",
          "text": [
            "[ True  True False]\n"
          ]
        }
      ],
      "source": [
        "arr1=np.array([1,3,5])\n",
        "arr2=np.array([2,3,4])\n",
        "print(a<=b)"
      ]
    },
    {
      "cell_type": "code",
      "execution_count": null,
      "metadata": {
        "colab": {
          "base_uri": "https://localhost:8080/"
        },
        "id": "OZHcOdMIYbyV",
        "outputId": "684e8d0b-e7a0-4913-ede9-0ded5881c07c"
      },
      "outputs": [
        {
          "name": "stdout",
          "output_type": "stream",
          "text": [
            "[ True False  True]\n"
          ]
        }
      ],
      "source": [
        "a=np.array([4,5,6])\n",
        "b=np.array([3,5,7])\n",
        "print(a != b)"
      ]
    },
    {
      "cell_type": "markdown",
      "metadata": {
        "id": "0ZceU2eKaz6m"
      },
      "source": [
        "# comparison operations  using functions"
      ]
    },
    {
      "cell_type": "code",
      "execution_count": null,
      "metadata": {
        "colab": {
          "base_uri": "https://localhost:8080/"
        },
        "id": "7nRyr1AOYbst",
        "outputId": "316c7deb-9b1d-4efd-ea19-d033156cefc7"
      },
      "outputs": [
        {
          "name": "stdout",
          "output_type": "stream",
          "text": [
            "[ True  True False]\n"
          ]
        }
      ],
      "source": [
        "a=np.array([4,6,3])\n",
        "b=np.array([3,4,5])\n",
        "c=np.greater(a,b)\n",
        "print(c)"
      ]
    },
    {
      "cell_type": "code",
      "execution_count": null,
      "metadata": {
        "colab": {
          "base_uri": "https://localhost:8080/"
        },
        "id": "RNMNFlbyYbp1",
        "outputId": "13d0242e-8477-4d26-a5c4-92ad419f115f"
      },
      "outputs": [
        {
          "name": "stdout",
          "output_type": "stream",
          "text": [
            "[ True False  True]\n"
          ]
        }
      ],
      "source": [
        "x=np.array([2,5,5])\n",
        "y=np.array([3,4,6])\n",
        "print(np.less(x,y))"
      ]
    },
    {
      "cell_type": "code",
      "execution_count": null,
      "metadata": {
        "colab": {
          "base_uri": "https://localhost:8080/"
        },
        "id": "URiKXEHbcNx0",
        "outputId": "8e0c1523-61ff-4996-da51-4b76f2426d76"
      },
      "outputs": [
        {
          "name": "stdout",
          "output_type": "stream",
          "text": [
            "[False  True False]\n"
          ]
        }
      ],
      "source": [
        "a=np.array([4,5,6])\n",
        "b=np.array([5,5,5])\n",
        "print(np.equal(a,b))"
      ]
    },
    {
      "cell_type": "code",
      "execution_count": null,
      "metadata": {
        "colab": {
          "base_uri": "https://localhost:8080/"
        },
        "id": "9mtTOXRvcNrd",
        "outputId": "eb04ab30-cda4-44d0-8908-b818d5b2246e"
      },
      "outputs": [
        {
          "name": "stdout",
          "output_type": "stream",
          "text": [
            "[False  True  True]\n"
          ]
        }
      ],
      "source": [
        "a=np.array([4,5,6])\n",
        "b=np.array([5,5,5])\n",
        "print(np.greater_equal(a,b))"
      ]
    },
    {
      "cell_type": "code",
      "execution_count": null,
      "metadata": {
        "colab": {
          "base_uri": "https://localhost:8080/"
        },
        "id": "764utprOcNkG",
        "outputId": "dd6596d2-4c03-43ff-9acb-838b9350e830"
      },
      "outputs": [
        {
          "name": "stdout",
          "output_type": "stream",
          "text": [
            "[ True  True False]\n"
          ]
        }
      ],
      "source": [
        "arr1=np.array([1,3,5])\n",
        "arr2=np.array([2,3,4])\n",
        "print(np.less_equal(arr1,arr2))"
      ]
    },
    {
      "cell_type": "code",
      "execution_count": null,
      "metadata": {
        "colab": {
          "base_uri": "https://localhost:8080/"
        },
        "id": "mLnxCJVBc5uV",
        "outputId": "2ec063fe-b132-44f4-a61a-686844e6660e"
      },
      "outputs": [
        {
          "name": "stdout",
          "output_type": "stream",
          "text": [
            "[ True False  True]\n"
          ]
        }
      ],
      "source": [
        "a=np.array([4,5,6])\n",
        "b=np.array([3,5,7])\n",
        "print(np.not_equal(a,b))"
      ]
    },
    {
      "cell_type": "markdown",
      "metadata": {
        "id": "H8SciHrXfgBw"
      },
      "source": [
        "# boolian operators"
      ]
    },
    {
      "cell_type": "code",
      "execution_count": null,
      "metadata": {
        "colab": {
          "base_uri": "https://localhost:8080/"
        },
        "id": "dhFUD8f-feqm",
        "outputId": "64d77690-4a29-4011-a542-65157f4ff8f2"
      },
      "outputs": [
        {
          "name": "stdout",
          "output_type": "stream",
          "text": [
            "[ True False False]\n"
          ]
        }
      ],
      "source": [
        "x=np.array([True,False,True])\n",
        "y=np.array([True,True,False])\n",
        "print(np.logical_and(x,y))"
      ]
    },
    {
      "cell_type": "code",
      "execution_count": null,
      "metadata": {
        "colab": {
          "base_uri": "https://localhost:8080/"
        },
        "id": "LBFq_V0IIMOF",
        "outputId": "ccfae3e1-1340-4053-8452-305ab0801bd6"
      },
      "outputs": [
        {
          "name": "stdout",
          "output_type": "stream",
          "text": [
            "[ True  True  True]\n"
          ]
        }
      ],
      "source": [
        "# logical_or\n",
        "arr=np.array([True,False,True])\n",
        "arr1=np.array([False,True,False])\n",
        "print(np.logical_or(arr,arr1))"
      ]
    },
    {
      "cell_type": "code",
      "execution_count": null,
      "metadata": {
        "colab": {
          "base_uri": "https://localhost:8080/"
        },
        "id": "I14Y2DDCIu0l",
        "outputId": "5b4d4654-d99e-4327-e660-8fb9b0dccd7b"
      },
      "outputs": [
        {
          "name": "stdout",
          "output_type": "stream",
          "text": [
            "[False  True False  True]\n"
          ]
        }
      ],
      "source": [
        "#logical_not\n",
        "a=np.array([True,False,True,False])\n",
        "print(np.logical_not(a))"
      ]
    },
    {
      "cell_type": "code",
      "execution_count": null,
      "metadata": {
        "colab": {
          "base_uri": "https://localhost:8080/"
        },
        "id": "IBzMfInFmOaH",
        "outputId": "e2ef2542-6036-4883-87d3-0c61f0a0c438"
      },
      "outputs": [
        {
          "name": "stdout",
          "output_type": "stream",
          "text": [
            "[False  True False  True]\n"
          ]
        }
      ],
      "source": [
        "x=np.array([True,False,True,False])\n",
        "y=np.logical_not(x)\n",
        "print(y)"
      ]
    },
    {
      "cell_type": "markdown",
      "metadata": {
        "id": "m4Y9J9JZdHA-"
      },
      "source": [
        "# numpy string functions"
      ]
    },
    {
      "cell_type": "code",
      "execution_count": null,
      "metadata": {
        "colab": {
          "base_uri": "https://localhost:8080/"
        },
        "id": "B6n8g35Sc9EZ",
        "outputId": "9eeb4995-d4ed-4067-c3a2-a406d5095a21"
      },
      "outputs": [
        {
          "name": "stdout",
          "output_type": "stream",
          "text": [
            "['samsung: 15' 'prize: 150000']\n"
          ]
        }
      ],
      "source": [
        "import numpy as np\n",
        "a=np.array([\"samsung: \",\"prize: \"])\n",
        "b=np.array([\"15\",\"150000\"])\n",
        "c=np.char.add(a,b)\n",
        "print(c)"
      ]
    },
    {
      "cell_type": "code",
      "execution_count": null,
      "metadata": {
        "colab": {
          "base_uri": "https://localhost:8080/"
        },
        "id": "bck3YTZndQl-",
        "outputId": "9f5b420b-3a79-4312-b070-66c232f40ffe"
      },
      "outputs": [
        {
          "name": "stdout",
          "output_type": "stream",
          "text": [
            "['samsung: samsung: samsung: ' 'prize: prize: prize: ']\n"
          ]
        }
      ],
      "source": [
        "a=np.array([\"samsung: \",\"prize: \"])\n",
        "c=np.char.multiply(a,3)\n",
        "print(c)"
      ]
    },
    {
      "cell_type": "code",
      "execution_count": null,
      "metadata": {
        "colab": {
          "base_uri": "https://localhost:8080/"
        },
        "id": "PHcFlw-Rd7I-",
        "outputId": "49def1a7-79cf-4c00-90ef-6c87018f8657"
      },
      "outputs": [
        {
          "name": "stdout",
          "output_type": "stream",
          "text": [
            "['Shifan' 'Insaf' 'Edwimn']\n"
          ]
        }
      ],
      "source": [
        "a=np.array([\"shifan\",\"insaf\",\"edwimn\"])\n",
        "b=np.char.capitalize(a)\n",
        "print(b)"
      ]
    },
    {
      "cell_type": "code",
      "execution_count": null,
      "metadata": {
        "colab": {
          "base_uri": "https://localhost:8080/"
        },
        "id": "FUtC2YcseyIl",
        "outputId": "00955866-cf02-484a-9649-0e73e8448da2"
      },
      "outputs": [
        {
          "name": "stdout",
          "output_type": "stream",
          "text": [
            "['shifan' 'insaf' 'edwimn']\n"
          ]
        }
      ],
      "source": [
        "a=np.array([\"shifan\",\"insaf\",\"edwimn\"])\n",
        "b=np.char.lower(a)\n",
        "print(b)"
      ]
    },
    {
      "cell_type": "code",
      "execution_count": null,
      "metadata": {
        "colab": {
          "base_uri": "https://localhost:8080/"
        },
        "id": "l-sjNbrZe86Y",
        "outputId": "b3cbdf1d-690c-4ba4-dca7-d543c1c59a3f"
      },
      "outputs": [
        {
          "name": "stdout",
          "output_type": "stream",
          "text": [
            "['SHIFAN' 'INSAF' 'EDWIMN']\n"
          ]
        }
      ],
      "source": [
        "a=np.array([\"shifan\",\"insaf\",\"edwimn\"])\n",
        "b=np.char.upper(a)\n",
        "print(b)"
      ]
    },
    {
      "cell_type": "code",
      "execution_count": null,
      "metadata": {
        "colab": {
          "base_uri": "https://localhost:8080/"
        },
        "id": "PhmgwhjmfBoP",
        "outputId": "71eade1c-6ba9-4bf9-e8c3-0bd47ed53cc1"
      },
      "outputs": [
        {
          "name": "stdout",
          "output_type": "stream",
          "text": [
            "['s.h.i.f.a.n' 'i.n.s.a.f' 'e.d.w.i.m.n']\n"
          ]
        }
      ],
      "source": [
        "a=np.array([\"shifan\",\"insaf\",\"edwimn\"])\n",
        "new=np.char.join(\".\",a)\n",
        "print(new)"
      ]
    },
    {
      "cell_type": "code",
      "execution_count": null,
      "metadata": {
        "colab": {
          "base_uri": "https://localhost:8080/"
        },
        "id": "9H8gbqVCfXXz",
        "outputId": "c4067a73-0d68-4caa-c136-67b9a5d844bd"
      },
      "outputs": [
        {
          "name": "stdout",
          "output_type": "stream",
          "text": [
            "[ True False False]\n"
          ]
        }
      ],
      "source": [
        "a=np.array([\"shifan\",\"insaf\",\"edwimn\"])\n",
        "b=np.array([\"shifan\",\"INSAF\",\"mango\"])\n",
        "x=np.char.equal(a,b)\n",
        "print(x)"
      ]
    },
    {
      "cell_type": "code",
      "execution_count": null,
      "metadata": {
        "colab": {
          "base_uri": "https://localhost:8080/"
        },
        "id": "ujSRX7K0fwWk",
        "outputId": "a700bcad-9fb7-4d00-a4ff-ff4c0aed0a42"
      },
      "outputs": [
        {
          "name": "stdout",
          "output_type": "stream",
          "text": [
            "[[ 0.   -0.5   0.5 ]\n",
            " [-0.25  1.   -0.25]\n",
            " [ 0.5  -0.5   0.  ]]\n"
          ]
        }
      ],
      "source": [
        "x=np.array([[1,2,3],[1,2,1],[3,2,1]])\n",
        "y=np.linalg.inv(x)\n",
        "print(y)"
      ]
    },
    {
      "cell_type": "code",
      "execution_count": null,
      "metadata": {
        "colab": {
          "base_uri": "https://localhost:8080/"
        },
        "id": "HztdSe0zppFa",
        "outputId": "7a576b77-a699-4e9c-d5a6-babfc03085ff"
      },
      "outputs": [
        {
          "name": "stdout",
          "output_type": "stream",
          "text": [
            "-8.000000000000002\n"
          ]
        }
      ],
      "source": [
        "z=np.linalg.det(x)\n",
        "print(z)"
      ]
    },
    {
      "cell_type": "code",
      "execution_count": null,
      "metadata": {
        "id": "mKAsJYCTkBEr"
      },
      "outputs": [],
      "source": [
        "import numpy as np"
      ]
    },
    {
      "cell_type": "code",
      "execution_count": null,
      "metadata": {
        "colab": {
          "base_uri": "https://localhost:8080/"
        },
        "id": "Ccu4m1S5ki5S",
        "outputId": "79241e7c-dfb3-4905-f92a-2afc3116877b"
      },
      "outputs": [
        {
          "name": "stdout",
          "output_type": "stream",
          "text": [
            "[1 2 3 4 5 6 7 8 9]\n"
          ]
        }
      ],
      "source": [
        "arr=np.array(range(1,10))\n",
        "print(arr)"
      ]
    },
    {
      "cell_type": "code",
      "execution_count": null,
      "metadata": {
        "colab": {
          "base_uri": "https://localhost:8080/"
        },
        "id": "IJPDx-EZx_7x",
        "outputId": "c3f76515-38d5-48a7-8299-be9bed8d98a0"
      },
      "outputs": [
        {
          "name": "stdout",
          "output_type": "stream",
          "text": [
            "[[9 9 9]\n",
            " [9 9 9]\n",
            " [9 9 9]\n",
            " [9 9 9]\n",
            " [9 9 9]]\n"
          ]
        }
      ],
      "source": [
        "x=np.full((5,3),9)\n",
        "print(x)"
      ]
    },
    {
      "cell_type": "code",
      "execution_count": null,
      "metadata": {
        "colab": {
          "base_uri": "https://localhost:8080/"
        },
        "id": "-UCuF7BIcPca",
        "outputId": "fa20afc9-226d-4e2e-fd5f-1b95375178f3"
      },
      "outputs": [
        {
          "name": "stdout",
          "output_type": "stream",
          "text": [
            "[[1. 0. 0. 0. 0.]\n",
            " [0. 1. 0. 0. 0.]\n",
            " [0. 0. 1. 0. 0.]\n",
            " [0. 0. 0. 1. 0.]\n",
            " [0. 0. 0. 0. 1.]]\n"
          ]
        }
      ],
      "source": [
        "y=np.identity(5)\n",
        "print(y)"
      ]
    },
    {
      "cell_type": "code",
      "execution_count": null,
      "metadata": {
        "colab": {
          "base_uri": "https://localhost:8080/"
        },
        "id": "S3D0n1DVchP8",
        "outputId": "1b9e0fdc-7312-42b6-aa61-5876142fb80b"
      },
      "outputs": [
        {
          "name": "stdout",
          "output_type": "stream",
          "text": [
            "[[1. 0. 0.]\n",
            " [0. 1. 0.]\n",
            " [0. 0. 1.]]\n"
          ]
        }
      ],
      "source": [
        "y=np.eye(3)\n",
        "print(y)"
      ]
    },
    {
      "cell_type": "code",
      "execution_count": null,
      "metadata": {
        "colab": {
          "base_uri": "https://localhost:8080/"
        },
        "id": "jf4TvkxdcnRK",
        "outputId": "5307a77d-2c51-4329-d4a6-f72aa200e151"
      },
      "outputs": [
        {
          "name": "stdout",
          "output_type": "stream",
          "text": [
            "[[0 0 0]\n",
            " [0 0 0]]\n"
          ]
        }
      ],
      "source": [
        "arr=np.array([[1,2,3],[4,5,6]])\n",
        "a=np.zeros_like(arr)\n",
        "print(a)"
      ]
    },
    {
      "cell_type": "code",
      "execution_count": null,
      "metadata": {
        "colab": {
          "base_uri": "https://localhost:8080/"
        },
        "id": "WFo6Xk3RdCcq",
        "outputId": "86cf6036-f84d-48fb-e0e5-559749e11074"
      },
      "outputs": [
        {
          "name": "stdout",
          "output_type": "stream",
          "text": [
            "[[1 1 1]\n",
            " [1 1 1]]\n"
          ]
        }
      ],
      "source": [
        "print(np.ones_like(arr))"
      ]
    },
    {
      "cell_type": "code",
      "execution_count": null,
      "metadata": {
        "colab": {
          "base_uri": "https://localhost:8080/"
        },
        "id": "EI7oi0taourJ",
        "outputId": "3383d76a-956d-4b94-c9c8-5cc8aad908f0"
      },
      "outputs": [
        {
          "name": "stdout",
          "output_type": "stream",
          "text": [
            "[[4 4 4]\n",
            " [4 4 4]]\n"
          ]
        }
      ],
      "source": [
        "print(np.full_like(arr,4))\n"
      ]
    },
    {
      "cell_type": "code",
      "execution_count": null,
      "metadata": {
        "colab": {
          "base_uri": "https://localhost:8080/"
        },
        "id": "VjAeMdq6s6OK",
        "outputId": "2b67754f-432a-486f-9441-2e2934949dbd"
      },
      "outputs": [
        {
          "name": "stdout",
          "output_type": "stream",
          "text": [
            "[ 0.   2.5  5.   7.5 10. ]\n"
          ]
        }
      ],
      "source": [
        "#start stop step\n",
        "arr=np.linspace(0,10,5)\n",
        "print(arr)"
      ]
    },
    {
      "cell_type": "code",
      "execution_count": null,
      "metadata": {
        "colab": {
          "base_uri": "https://localhost:8080/"
        },
        "id": "OqOxZpx_n3bB",
        "outputId": "d05de820-ecec-4d5c-9598-dd0feb4cabcf"
      },
      "outputs": [
        {
          "name": "stdout",
          "output_type": "stream",
          "text": [
            "[ 1.          1.18367347  1.36734694  1.55102041  1.73469388  1.91836735\n",
            "  2.10204082  2.28571429  2.46938776  2.65306122  2.83673469  3.02040816\n",
            "  3.20408163  3.3877551   3.57142857  3.75510204  3.93877551  4.12244898\n",
            "  4.30612245  4.48979592  4.67346939  4.85714286  5.04081633  5.2244898\n",
            "  5.40816327  5.59183673  5.7755102   5.95918367  6.14285714  6.32653061\n",
            "  6.51020408  6.69387755  6.87755102  7.06122449  7.24489796  7.42857143\n",
            "  7.6122449   7.79591837  7.97959184  8.16326531  8.34693878  8.53061224\n",
            "  8.71428571  8.89795918  9.08163265  9.26530612  9.44897959  9.63265306\n",
            "  9.81632653 10.        ]\n"
          ]
        }
      ],
      "source": [
        "# linspace default step is 50\n",
        "x=np.linspace(1,10)\n",
        "print(x)"
      ]
    },
    {
      "cell_type": "code",
      "execution_count": null,
      "metadata": {
        "colab": {
          "base_uri": "https://localhost:8080/"
        },
        "id": "GiCUoypBpZ3z",
        "outputId": "8d4dd0e3-48ad-46f6-d8b5-fef3db08a0fd"
      },
      "outputs": [
        {
          "name": "stdout",
          "output_type": "stream",
          "text": [
            "[[4.9e-324 9.9e-324 1.5e-323]\n",
            " [2.0e-323 2.5e-323 3.0e-323]]\n"
          ]
        }
      ],
      "source": [
        "#crate an array of arbitory values\n",
        "empty=np.empty((2,3))\n",
        "print(empty)"
      ]
    },
    {
      "cell_type": "code",
      "execution_count": null,
      "metadata": {
        "colab": {
          "base_uri": "https://localhost:8080/"
        },
        "id": "ycdu1bdPqVeg",
        "outputId": "ca38e713-e685-4bba-ea0c-698aa1d13d22"
      },
      "outputs": [
        {
          "name": "stdout",
          "output_type": "stream",
          "text": [
            "[ 0.   2.5  5.   7.5 10. ]\n"
          ]
        }
      ],
      "source": [
        "E=np.empty_like(arr)\n",
        "print(E)"
      ]
    },
    {
      "cell_type": "code",
      "execution_count": null,
      "metadata": {
        "colab": {
          "base_uri": "https://localhost:8080/"
        },
        "id": "PyLS7sFgq9vq",
        "outputId": "63df2882-4810-4ebb-bb33-5e4f5d12f171"
      },
      "outputs": [
        {
          "name": "stdout",
          "output_type": "stream",
          "text": [
            "[1 1 2 2 3 3]\n"
          ]
        }
      ],
      "source": [
        "#create an array by repeatation\n",
        "arr=np.array([1,2,3])\n",
        "print(np.repeat(arr,2))"
      ]
    },
    {
      "cell_type": "code",
      "execution_count": null,
      "metadata": {
        "colab": {
          "base_uri": "https://localhost:8080/"
        },
        "id": "TqsBqctvrX1v",
        "outputId": "1b23cbe8-8139-4032-94d5-27e75c07a4c1"
      },
      "outputs": [
        {
          "name": "stdout",
          "output_type": "stream",
          "text": [
            "[1 2 3 1 2 3 1 2 3]\n"
          ]
        }
      ],
      "source": [
        "#repeat an array by a specified number of times\n",
        "x=np.array([1,2,3])\n",
        "y=np.tile(x,3)\n",
        "print(y)"
      ]
    },
    {
      "cell_type": "code",
      "execution_count": null,
      "metadata": {
        "colab": {
          "base_uri": "https://localhost:8080/"
        },
        "id": "E0-Ab4PKr_dX",
        "outputId": "bb064b5e-c3fc-4fd9-d6d4-eb094e9d11f5"
      },
      "outputs": [
        {
          "name": "stdout",
          "output_type": "stream",
          "text": [
            "6\n"
          ]
        }
      ],
      "source": [
        "arr=np.array([[1,2,3],[4,5,6]])\n",
        "print(np.size(arr))"
      ]
    },
    {
      "cell_type": "code",
      "execution_count": null,
      "metadata": {
        "colab": {
          "base_uri": "https://localhost:8080/"
        },
        "id": "cPnPQ4CBtJCQ",
        "outputId": "6084c4e7-c319-4282-ef65-9b74bf0cb3eb"
      },
      "outputs": [
        {
          "name": "stdout",
          "output_type": "stream",
          "text": [
            "class:  ndarray\n",
            "shape:  (2, 3)\n",
            "strides:  (24, 8)\n",
            "itemsize:  8\n",
            "aligned:  True\n",
            "contiguous:  True\n",
            "fortran:  False\n",
            "data pointer: 0x5971f420eeb0\n",
            "byteorder:  little\n",
            "byteswap:  False\n",
            "type: int64\n",
            "None\n"
          ]
        }
      ],
      "source": [
        "print(np.info(arr))"
      ]
    }
  ],
  "metadata": {
    "colab": {
      "provenance": []
    },
    "kernelspec": {
      "display_name": "Python 3",
      "name": "python3"
    },
    "language_info": {
      "name": "python"
    }
  },
  "nbformat": 4,
  "nbformat_minor": 0
}