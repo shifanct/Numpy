{
  "cells": [
    {
      "cell_type": "code",
      "execution_count": 1,
      "id": "1efd5b5d-1430-4fe7-8c3c-3ef0eb150f7c",
      "metadata": {
        "id": "1efd5b5d-1430-4fe7-8c3c-3ef0eb150f7c"
      },
      "outputs": [],
      "source": [
        "import numpy as np"
      ]
    },
    {
      "cell_type": "code",
      "execution_count": null,
      "id": "2dd7f900-526d-4fce-a688-e784077735be",
      "metadata": {
        "id": "2dd7f900-526d-4fce-a688-e784077735be",
        "outputId": "75d9deca-044d-4eee-c5b8-be163e8712ef",
        "colab": {
          "base_uri": "https://localhost:8080/"
        }
      },
      "outputs": [
        {
          "output_type": "stream",
          "name": "stdout",
          "text": [
            "[1 2 3]\n"
          ]
        },
        {
          "output_type": "execute_result",
          "data": {
            "text/plain": [
              "1"
            ]
          },
          "metadata": {},
          "execution_count": 8
        }
      ],
      "source": [
        "arr=np.array([1,2,3])\n",
        "print(arr)\n",
        "arr.ndim"
      ]
    },
    {
      "cell_type": "code",
      "execution_count": null,
      "id": "c512611f-3ab4-45dc-a470-121f0c652e4f",
      "metadata": {
        "id": "c512611f-3ab4-45dc-a470-121f0c652e4f",
        "outputId": "18391ce1-d95d-48d6-d5b7-01e0d130e889"
      },
      "outputs": [
        {
          "name": "stdout",
          "output_type": "stream",
          "text": [
            "<class 'numpy.ndarray'>\n"
          ]
        }
      ],
      "source": [
        "print(type(arr))"
      ]
    },
    {
      "cell_type": "code",
      "execution_count": null,
      "id": "4d090dc3-3cf6-49e8-ad1a-af6ae1c559e5",
      "metadata": {
        "id": "4d090dc3-3cf6-49e8-ad1a-af6ae1c559e5",
        "outputId": "61347840-1a1b-4b81-b719-d2a0e9f81740"
      },
      "outputs": [
        {
          "name": "stdout",
          "output_type": "stream",
          "text": [
            "1.26.4\n"
          ]
        }
      ],
      "source": [
        "print(np.__version__)"
      ]
    },
    {
      "cell_type": "code",
      "execution_count": null,
      "id": "b2c9fae4-862e-461b-a2f5-460a69c5b34a",
      "metadata": {
        "id": "b2c9fae4-862e-461b-a2f5-460a69c5b34a",
        "outputId": "01f58f35-7a63-47a9-d6f4-d18d0c8a822a"
      },
      "outputs": [
        {
          "name": "stdout",
          "output_type": "stream",
          "text": [
            "45\n"
          ]
        }
      ],
      "source": [
        "arrray1=np.array(45)\n",
        "print(arrray1)"
      ]
    },
    {
      "cell_type": "code",
      "execution_count": null,
      "id": "ae83c12a-e26f-4636-851b-2fabd7f0370e",
      "metadata": {
        "id": "ae83c12a-e26f-4636-851b-2fabd7f0370e",
        "outputId": "00f1b008-de5b-4bce-acd6-8d04841da1b6"
      },
      "outputs": [
        {
          "name": "stdout",
          "output_type": "stream",
          "text": [
            "<class 'numpy.ndarray'>\n"
          ]
        }
      ],
      "source": [
        "print(type(array1))"
      ]
    },
    {
      "cell_type": "code",
      "execution_count": null,
      "id": "9bf6f92e-e311-4eff-a043-7a4b813c7489",
      "metadata": {
        "id": "9bf6f92e-e311-4eff-a043-7a4b813c7489"
      },
      "outputs": [],
      "source": [
        "zd=np.array(5) #zero dimensional\n",
        "od=np.array([12,10])  #one dimensional\n",
        "td=np.array([[5,3,4]]) #two dimensional\n",
        "thd=np.array([[[1,2,]],[[3,4]]]) #three dimensional"
      ]
    },
    {
      "cell_type": "code",
      "execution_count": null,
      "id": "e27b8da3-a5c9-463d-993b-67d3a88b3cad",
      "metadata": {
        "scrolled": true,
        "id": "e27b8da3-a5c9-463d-993b-67d3a88b3cad",
        "outputId": "98c5f7c6-197a-4869-f850-4b7ea3eaf30a"
      },
      "outputs": [
        {
          "name": "stdout",
          "output_type": "stream",
          "text": [
            "0\n",
            "1\n",
            "2\n",
            "3\n"
          ]
        }
      ],
      "source": [
        "print(zd.ndim)  #ndim is used to find dimensional type\n",
        "print(od.ndim)\n",
        "print(td.ndim)\n",
        "print(thd.ndim)"
      ]
    },
    {
      "cell_type": "code",
      "execution_count": null,
      "id": "e9034526-8706-4afb-a471-e8fddaafd148",
      "metadata": {
        "id": "e9034526-8706-4afb-a471-e8fddaafd148",
        "outputId": "f1bce96f-b0ab-4820-be86-22a712f28886"
      },
      "outputs": [
        {
          "name": "stdout",
          "output_type": "stream",
          "text": [
            "()\n",
            "(2,)\n",
            "(1, 3)\n",
            "(2, 1, 2)\n"
          ]
        }
      ],
      "source": [
        "print(zd.shape)\n",
        "print(od.shape)\n",
        "print(td.shape)\n",
        "print(thd.shape)"
      ]
    },
    {
      "cell_type": "code",
      "execution_count": null,
      "id": "19699f1f-9d88-4af0-bd90-aa35eb280384",
      "metadata": {
        "id": "19699f1f-9d88-4af0-bd90-aa35eb280384",
        "outputId": "ecc20fe9-2ad6-485f-b59d-d7add3ae1a3f"
      },
      "outputs": [
        {
          "name": "stdout",
          "output_type": "stream",
          "text": [
            "[[[1 2]\n",
            "  [3 4]]\n",
            "\n",
            " [[5 6]\n",
            "  [7 8]]]\n"
          ]
        }
      ],
      "source": [
        "#3d array\n",
        "threed=np.array([[[1,2],[3,4]],  [[5,6],[7,8]]])\n",
        "print(threed)"
      ]
    },
    {
      "cell_type": "code",
      "execution_count": null,
      "id": "f5b5ba3d-6751-42fa-ac8c-4e36ea3ba96d",
      "metadata": {
        "id": "f5b5ba3d-6751-42fa-ac8c-4e36ea3ba96d",
        "outputId": "0b534b07-7ea4-436b-8f13-f0600fd8146c"
      },
      "outputs": [
        {
          "data": {
            "text/plain": [
              "3"
            ]
          },
          "execution_count": 383,
          "metadata": {},
          "output_type": "execute_result"
        }
      ],
      "source": [
        "threed.ndim"
      ]
    },
    {
      "cell_type": "code",
      "execution_count": null,
      "id": "8d3932a0-0b1f-466e-aef8-9b75607909d9",
      "metadata": {
        "id": "8d3932a0-0b1f-466e-aef8-9b75607909d9",
        "outputId": "d517a5bf-ed34-4c6a-c640-00d71bb065e1"
      },
      "outputs": [
        {
          "data": {
            "text/plain": [
              "(2, 2, 2)"
            ]
          },
          "execution_count": 384,
          "metadata": {},
          "output_type": "execute_result"
        }
      ],
      "source": [
        "threed.shape"
      ]
    },
    {
      "cell_type": "code",
      "execution_count": null,
      "id": "8da11377-2e30-492d-8193-c1ee8b940a62",
      "metadata": {
        "id": "8da11377-2e30-492d-8193-c1ee8b940a62",
        "outputId": "962b8a77-ca9e-4550-8bfc-dc020249fac7",
        "colab": {
          "base_uri": "https://localhost:8080/"
        }
      },
      "outputs": [
        {
          "output_type": "execute_result",
          "data": {
            "text/plain": [
              "3"
            ]
          },
          "metadata": {},
          "execution_count": 57
        }
      ],
      "source": [
        "three=np.array([[[1,2],[3,4]],  [[5,6],[7,8]],   [[9,10],[11,12]]])\n",
        "three.ndim"
      ]
    },
    {
      "cell_type": "code",
      "execution_count": null,
      "id": "10473c14-690a-48cf-954b-27a0bdcaaf72",
      "metadata": {
        "id": "10473c14-690a-48cf-954b-27a0bdcaaf72",
        "outputId": "0e68c95f-7e88-40f8-e599-de7ae6dd9805"
      },
      "outputs": [
        {
          "data": {
            "text/plain": [
              "(3, 2, 2)"
            ]
          },
          "execution_count": 386,
          "metadata": {},
          "output_type": "execute_result"
        }
      ],
      "source": [
        "three.shape"
      ]
    },
    {
      "cell_type": "code",
      "execution_count": null,
      "id": "7b9fabd0-83d3-47e0-b544-e9633fcffc43",
      "metadata": {
        "id": "7b9fabd0-83d3-47e0-b544-e9633fcffc43",
        "outputId": "2d357169-e198-4da6-a6d6-911164f39ff1"
      },
      "outputs": [
        {
          "name": "stdout",
          "output_type": "stream",
          "text": [
            "[[[[[1 2 3 4 5]]]]]\n"
          ]
        }
      ],
      "source": [
        "#create a 5dimensional\n",
        "a=np.array([1,2,3,4,5],ndmin=5)\n",
        "print(a)"
      ]
    },
    {
      "cell_type": "code",
      "execution_count": null,
      "id": "ccb7b963-6371-4e7d-aa7c-02f7b06556c5",
      "metadata": {
        "id": "ccb7b963-6371-4e7d-aa7c-02f7b06556c5",
        "outputId": "2f37ff6c-0806-4c0a-91d8-451a4c6f955e"
      },
      "outputs": [
        {
          "name": "stdout",
          "output_type": "stream",
          "text": [
            "2\n",
            "5\n",
            "6\n",
            "10\n"
          ]
        }
      ],
      "source": [
        "#indexing access\n",
        "shifan=np.array([1,2,3,4,5])\n",
        "print(shifan[1])\n",
        "print(shifan[1]+shifan[2])\n",
        "print(shifan[1]*shifan[2])\n",
        "print(shifan[1]*shifan[4])"
      ]
    },
    {
      "cell_type": "code",
      "execution_count": null,
      "id": "e6bb1781-84d5-4aac-8797-4ca2a030ad79",
      "metadata": {
        "id": "e6bb1781-84d5-4aac-8797-4ca2a030ad79",
        "outputId": "a09ae008-6bb4-47cb-ce89-172f3800b57a"
      },
      "outputs": [
        {
          "name": "stdout",
          "output_type": "stream",
          "text": [
            "[1.+2.j 9.+6.j]\n"
          ]
        }
      ],
      "source": [
        "me=np.array((1+2j,9+6j))\n",
        "print(me)"
      ]
    },
    {
      "cell_type": "code",
      "execution_count": null,
      "id": "60792553-23f9-4e14-864c-99807b01a435",
      "metadata": {
        "id": "60792553-23f9-4e14-864c-99807b01a435",
        "outputId": "55c06a75-a4e2-4dfb-a75a-3d7a1fb2bfd5"
      },
      "outputs": [
        {
          "name": "stdout",
          "output_type": "stream",
          "text": [
            "[1.+0.j 2.+0.j 3.+0.j 4.+0.j]\n",
            "complex128\n"
          ]
        }
      ],
      "source": [
        "#convert to complex\n",
        "complex=np.array([1,2,3,4],dtype=\"complex\")\n",
        "print(complex)\n",
        "print(complex.dtype)\n"
      ]
    },
    {
      "cell_type": "code",
      "execution_count": null,
      "id": "00067677-e8bd-4106-8746-ee4416e092b0",
      "metadata": {
        "id": "00067677-e8bd-4106-8746-ee4416e092b0",
        "outputId": "094905d5-6c5f-4f3e-e197-c1ad2008281e"
      },
      "outputs": [
        {
          "data": {
            "text/plain": [
              "array([0., 0., 0., 0.])"
            ]
          },
          "execution_count": 35,
          "metadata": {},
          "output_type": "execute_result"
        }
      ],
      "source": [
        "complex.imag  #imaginary added numbers"
      ]
    },
    {
      "cell_type": "code",
      "execution_count": null,
      "id": "0d41c316-053f-4992-8ca9-c974369e36fe",
      "metadata": {
        "id": "0d41c316-053f-4992-8ca9-c974369e36fe",
        "outputId": "d3dc5b62-4dc7-4133-e94b-a92897e35187"
      },
      "outputs": [
        {
          "data": {
            "text/plain": [
              "array([1., 2., 3., 4.])"
            ]
          },
          "execution_count": 37,
          "metadata": {},
          "output_type": "execute_result"
        }
      ],
      "source": [
        "complex.real"
      ]
    },
    {
      "cell_type": "code",
      "execution_count": null,
      "id": "f5f5bcb2-c568-4942-a892-ef93eba6b9e4",
      "metadata": {
        "id": "f5f5bcb2-c568-4942-a892-ef93eba6b9e4",
        "outputId": "bf463d9e-32e6-4fdd-eff4-ca68d448c3ef"
      },
      "outputs": [
        {
          "name": "stdout",
          "output_type": "stream",
          "text": [
            "[0. 0. 0. 0. 0. 0. 0. 0. 0. 0.]\n"
          ]
        }
      ],
      "source": [
        "x=np.zeros(10)\n",
        "print(x)"
      ]
    },
    {
      "cell_type": "code",
      "execution_count": null,
      "id": "40dc977b-0517-4a48-8d38-d87f3319062e",
      "metadata": {
        "id": "40dc977b-0517-4a48-8d38-d87f3319062e",
        "outputId": "62ad1851-8a13-4a3e-d1c4-d24ce7b618b0",
        "colab": {
          "base_uri": "https://localhost:8080/"
        }
      },
      "outputs": [
        {
          "output_type": "stream",
          "name": "stdout",
          "text": [
            "[0. 0. 0. 0. 0. 0. 0. 0. 0. 0.]\n"
          ]
        }
      ],
      "source": [
        "y=np.zeros((10))#add a metrix with 4 raws and 3 colums\n",
        "print(y)\n"
      ]
    },
    {
      "cell_type": "code",
      "execution_count": null,
      "id": "d80b593a-c65e-4fba-ba77-3fa18fc55fc8",
      "metadata": {
        "scrolled": true,
        "id": "d80b593a-c65e-4fba-ba77-3fa18fc55fc8",
        "outputId": "28854ae6-0a5d-42a7-dd3d-e1f06d56df0a"
      },
      "outputs": [
        {
          "name": "stdout",
          "output_type": "stream",
          "text": [
            "[[[0. 0. 0. 0.]\n",
            "  [0. 0. 0. 0.]\n",
            "  [0. 0. 0. 0.]]\n",
            "\n",
            " [[0. 0. 0. 0.]\n",
            "  [0. 0. 0. 0.]\n",
            "  [0. 0. 0. 0.]]]\n"
          ]
        }
      ],
      "source": [
        "#convert it to 3 dimensional\n",
        "y=np.zeros((2,3,4))\n",
        "print(y)\n"
      ]
    },
    {
      "cell_type": "code",
      "source": [
        "o = np.ones(5)\n",
        "print(o)"
      ],
      "metadata": {
        "colab": {
          "base_uri": "https://localhost:8080/"
        },
        "id": "CPr78pZKLiKi",
        "outputId": "44f21034-281a-4cef-ace1-17febed3db9d"
      },
      "id": "CPr78pZKLiKi",
      "execution_count": 5,
      "outputs": [
        {
          "output_type": "stream",
          "name": "stdout",
          "text": [
            "[1. 1. 1. 1. 1.]\n"
          ]
        }
      ]
    },
    {
      "cell_type": "code",
      "source": [
        "x= np.full((3,3),5)\n",
        "x"
      ],
      "metadata": {
        "colab": {
          "base_uri": "https://localhost:8080/"
        },
        "id": "iSuLJfnGLa6-",
        "outputId": "f38fc419-c0d5-4103-d059-83cdc792b9a2"
      },
      "id": "iSuLJfnGLa6-",
      "execution_count": 3,
      "outputs": [
        {
          "output_type": "execute_result",
          "data": {
            "text/plain": [
              "array([[5, 5, 5],\n",
              "       [5, 5, 5],\n",
              "       [5, 5, 5]])"
            ]
          },
          "metadata": {},
          "execution_count": 3
        }
      ]
    },
    {
      "cell_type": "code",
      "execution_count": null,
      "id": "21ef4ef6-27fc-458b-949e-8cca5beb4cc9",
      "metadata": {
        "id": "21ef4ef6-27fc-458b-949e-8cca5beb4cc9",
        "outputId": "ab0cac52-e090-433b-f245-1910f04e5912"
      },
      "outputs": [
        {
          "name": "stdout",
          "output_type": "stream",
          "text": [
            "[2 3 5 7]\n",
            "<class 'numpy.ndarray'>\n",
            "int32\n"
          ]
        },
        {
          "data": {
            "text/plain": [
              "(4,)"
            ]
          },
          "execution_count": 395,
          "metadata": {},
          "output_type": "execute_result"
        }
      ],
      "source": [
        "d1=np.array([2,3,5,7])\n",
        "print(d1)\n",
        "print(type(d1))\n",
        "print(d1.dtype)\n",
        "d1.shape"
      ]
    },
    {
      "cell_type": "code",
      "execution_count": null,
      "id": "f6d60634-5c19-4b95-b84e-e5f1eb588c88",
      "metadata": {
        "id": "f6d60634-5c19-4b95-b84e-e5f1eb588c88",
        "outputId": "5ffa6103-64c3-4779-e95d-ba4aecd77837"
      },
      "outputs": [
        {
          "name": "stdout",
          "output_type": "stream",
          "text": [
            "[[1 3 5]\n",
            " [7 6 8]]\n",
            "(2, 3)\n",
            "2\n",
            "<class 'numpy.ndarray'>\n",
            "int32\n"
          ]
        }
      ],
      "source": [
        "d2=np.array([[1,3,5],[7,6,8]])\n",
        "print(d2)\n",
        "print(d2.shape)\n",
        "print(d2.ndim)\n",
        "print(type(d2))\n",
        "print(d2.dtype)"
      ]
    },
    {
      "cell_type": "code",
      "execution_count": null,
      "id": "928ef379-bceb-42d1-8747-dd9b41c0ee85",
      "metadata": {
        "id": "928ef379-bceb-42d1-8747-dd9b41c0ee85",
        "outputId": "daad8144-d6b6-450d-a2e9-ca52d0ec4769"
      },
      "outputs": [
        {
          "name": "stdout",
          "output_type": "stream",
          "text": [
            "[[[ 1  2  3]\n",
            "  [ 4  5  6]]\n",
            "\n",
            " [[ 7  8  9]\n",
            "  [10 11 12]]]\n",
            "(2, 2, 3)\n",
            "<class 'numpy.ndarray'>\n",
            "3\n",
            "int32\n"
          ]
        }
      ],
      "source": [
        "d3=np.array([[[1,2,3],[4,5,6]],  [[7,8,9],[10,11,12]]])\n",
        "print(d3)\n",
        "print(d3.shape)\n",
        "print(type(d3)) #datatypes\n",
        "print(d3.ndim)  #calculate dimensions\n",
        "print(d3.dtype)"
      ]
    },
    {
      "cell_type": "code",
      "execution_count": null,
      "id": "2d6c1a14-3216-4c57-9b27-4528f9add84c",
      "metadata": {
        "id": "2d6c1a14-3216-4c57-9b27-4528f9add84c",
        "outputId": "d99b24cf-0cd0-4cbc-c15a-e767b43dec27",
        "colab": {
          "base_uri": "https://localhost:8080/"
        }
      },
      "outputs": [
        {
          "output_type": "stream",
          "name": "stdout",
          "text": [
            "[1. 1. 1. 1. 1. 1.]\n"
          ]
        }
      ],
      "source": [
        "x=np.ones(6)\n",
        "print(x)"
      ]
    },
    {
      "cell_type": "code",
      "execution_count": null,
      "id": "f9bee324-2823-4104-b152-a7c68c9bc89c",
      "metadata": {
        "id": "f9bee324-2823-4104-b152-a7c68c9bc89c",
        "outputId": "772170a5-9ec5-48ae-ce63-47e5cf292183"
      },
      "outputs": [
        {
          "name": "stdout",
          "output_type": "stream",
          "text": [
            "[ True  True  True  True]\n"
          ]
        }
      ],
      "source": [
        "a=np.array([1,2,3,4],dtype=\"bool\")\n",
        "print(a)"
      ]
    },
    {
      "cell_type": "code",
      "execution_count": null,
      "id": "2abdb81b-b9f0-4d83-aba2-c47f31b9962e",
      "metadata": {
        "id": "2abdb81b-b9f0-4d83-aba2-c47f31b9962e",
        "outputId": "91768278-2e9b-42ec-ffbc-1cd633684e33"
      },
      "outputs": [
        {
          "name": "stdout",
          "output_type": "stream",
          "text": [
            "[ 2  4  6  8 10 12 14 16 18 20]\n"
          ]
        }
      ],
      "source": [
        "import numpy as np\n",
        "hy=np.arange(2,21,2)\n",
        "print(hy)"
      ]
    },
    {
      "cell_type": "code",
      "execution_count": null,
      "id": "80b64525-c3fa-44ad-b279-36284fe23f27",
      "metadata": {
        "id": "80b64525-c3fa-44ad-b279-36284fe23f27",
        "outputId": "5d509cac-4de0-452b-b459-f8e842637476"
      },
      "outputs": [
        {
          "name": "stdout",
          "output_type": "stream",
          "text": [
            "[1.  1.1 1.2 1.3 1.4 1.5 1.6 1.7 1.8 1.9]\n"
          ]
        }
      ],
      "source": [
        "zz=np.arange(1,2,0.1)\n",
        "print(zz)"
      ]
    },
    {
      "cell_type": "code",
      "execution_count": null,
      "id": "9acc957b-5cd1-4806-820d-fa5e038f399b",
      "metadata": {
        "id": "9acc957b-5cd1-4806-820d-fa5e038f399b",
        "outputId": "fb8ea07f-b3b6-4279-f467-d77c64653328"
      },
      "outputs": [
        {
          "name": "stdout",
          "output_type": "stream",
          "text": [
            "[[[ 1  2  3]\n",
            "  [ 4  5  6]\n",
            "  [ 7  8  9]]\n",
            "\n",
            " [[10 11 12]\n",
            "  [13 14 15]\n",
            "  [16 17 18]]]\n"
          ]
        }
      ],
      "source": [
        "k=np.arange(1,19,1).reshape(2,3,3)\n",
        "print(k)"
      ]
    },
    {
      "cell_type": "code",
      "execution_count": null,
      "id": "65c1b215-f235-4256-a299-1ae3800bc6c8",
      "metadata": {
        "id": "65c1b215-f235-4256-a299-1ae3800bc6c8",
        "outputId": "279f05f9-84b3-42fb-e8ad-27b83ec2dc23"
      },
      "outputs": [
        {
          "name": "stdout",
          "output_type": "stream",
          "text": [
            "[[[1 2]\n",
            "  [3 4]]\n",
            "\n",
            " [[5 6]\n",
            "  [7 8]]]\n"
          ]
        }
      ],
      "source": [
        "e=np.arange(1,9,1).reshape(2,2,2)\n",
        "print(e)"
      ]
    },
    {
      "cell_type": "code",
      "execution_count": null,
      "id": "2b2bf55e-cf6b-4e52-9a5a-4b543db2a39c",
      "metadata": {
        "id": "2b2bf55e-cf6b-4e52-9a5a-4b543db2a39c",
        "outputId": "da6744d2-0f71-459d-9148-ca7910ab7493",
        "colab": {
          "base_uri": "https://localhost:8080/"
        }
      },
      "outputs": [
        {
          "output_type": "stream",
          "name": "stdout",
          "text": [
            "[[1 2 3]\n",
            " [4 5 6]\n",
            " [7 8 9]]\n"
          ]
        }
      ],
      "source": [
        "p=np.arange(1,10,1).reshape(3,3)\n",
        "print(p)"
      ]
    },
    {
      "cell_type": "code",
      "execution_count": null,
      "id": "433504c7-53f3-40df-a1b3-178110f52843",
      "metadata": {
        "id": "433504c7-53f3-40df-a1b3-178110f52843",
        "outputId": "5e5148e7-72b7-4b1d-f14e-91280504098e",
        "colab": {
          "base_uri": "https://localhost:8080/"
        }
      },
      "outputs": [
        {
          "output_type": "stream",
          "name": "stdout",
          "text": [
            "[1 2 3]\n"
          ]
        }
      ],
      "source": [
        "print(p[0])"
      ]
    },
    {
      "cell_type": "code",
      "execution_count": null,
      "id": "5b0c3542-9765-422f-82ca-391e4cbb3c67",
      "metadata": {
        "id": "5b0c3542-9765-422f-82ca-391e4cbb3c67",
        "outputId": "3bee34d5-675f-4e13-b43d-109af8bd5579"
      },
      "outputs": [
        {
          "name": "stdout",
          "output_type": "stream",
          "text": [
            "[[2]\n",
            " [5]]\n"
          ]
        }
      ],
      "source": [
        "print(p[0:2,1:2])"
      ]
    },
    {
      "cell_type": "code",
      "execution_count": null,
      "id": "268ac797-6660-4a30-a83c-e37058e00d3c",
      "metadata": {
        "id": "268ac797-6660-4a30-a83c-e37058e00d3c",
        "outputId": "0555311b-b51a-4486-c19a-43d6bab863ac"
      },
      "outputs": [
        {
          "name": "stdout",
          "output_type": "stream",
          "text": [
            "5\n"
          ]
        }
      ],
      "source": [
        "print(p[1,1])"
      ]
    },
    {
      "cell_type": "code",
      "execution_count": null,
      "id": "79beabce-bba3-4d58-95b0-513f6c093cae",
      "metadata": {
        "id": "79beabce-bba3-4d58-95b0-513f6c093cae",
        "outputId": "76f4505a-b238-4e30-e9b6-63817f6cc548"
      },
      "outputs": [
        {
          "name": "stdout",
          "output_type": "stream",
          "text": [
            "2 5\n"
          ]
        }
      ],
      "source": [
        "print(p[0,1],p[1,1])"
      ]
    },
    {
      "cell_type": "code",
      "execution_count": null,
      "id": "aec155b6-e1a6-40f0-ac39-ba6e23be17a0",
      "metadata": {
        "id": "aec155b6-e1a6-40f0-ac39-ba6e23be17a0",
        "outputId": "f442726d-7195-417c-855b-423dd18c2060"
      },
      "outputs": [
        {
          "name": "stdout",
          "output_type": "stream",
          "text": [
            "[1 2]\n",
            "[4 5]\n"
          ]
        }
      ],
      "source": [
        "print(p[0,0:2])\n",
        "print(p[1,0:2])\n"
      ]
    },
    {
      "cell_type": "code",
      "execution_count": null,
      "id": "45cf4c6b-087a-4aa9-a224-29733b01315d",
      "metadata": {
        "id": "45cf4c6b-087a-4aa9-a224-29733b01315d",
        "outputId": "e00838d3-3060-402a-ec00-d6d7a665abb6",
        "colab": {
          "base_uri": "https://localhost:8080/"
        }
      },
      "outputs": [
        {
          "output_type": "stream",
          "name": "stdout",
          "text": [
            "[[0. 0. 0. 0. 0.]\n",
            " [0. 0. 0. 0. 0.]\n",
            " [0. 0. 0. 0. 0.]\n",
            " [0. 0. 0. 0. 0.]\n",
            " [0. 0. 0. 0. 0.]]\n",
            "[[1. 1. 1. 1. 1.]\n",
            " [1. 0. 0. 0. 1.]\n",
            " [1. 0. 0. 0. 1.]\n",
            " [1. 0. 0. 0. 1.]\n",
            " [1. 1. 1. 1. 1.]]\n"
          ]
        }
      ],
      "source": [
        "import numpy as np\n",
        "xz=np.zeros(25)\n",
        "k=xz.reshape(5,5)\n",
        "print(k)\n",
        "k[0,:]=1\n",
        "k[4,:]=1\n",
        "k[:,0]=1\n",
        "k[:,4]=1\n",
        "print(k)"
      ]
    },
    {
      "cell_type": "code",
      "execution_count": null,
      "id": "adeae3c0-adaa-4430-89ba-d97e96ff8523",
      "metadata": {
        "id": "adeae3c0-adaa-4430-89ba-d97e96ff8523",
        "outputId": "2d2b29f8-35ce-41f0-f178-eb88bddbd8af"
      },
      "outputs": [
        {
          "name": "stdout",
          "output_type": "stream",
          "text": [
            "[[1. 1. 1. 1. 1.]\n",
            " [1. 1. 1. 1. 1.]\n",
            " [1. 1. 1. 1. 1.]\n",
            " [1. 1. 1. 1. 1.]\n",
            " [1. 1. 1. 1. 1.]]\n",
            "        \n",
            "[[0. 0. 0. 0. 0.]\n",
            " [0. 1. 1. 1. 0.]\n",
            " [0. 1. 1. 1. 0.]\n",
            " [0. 1. 1. 1. 0.]\n",
            " [0. 0. 0. 0. 0.]]\n"
          ]
        }
      ],
      "source": [
        "shifan=np.ones(25)\n",
        "shifan=shifan.reshape(5,5)\n",
        "print(shifan)\n",
        "print(\"        \")\n",
        "shifan[0,:]=0\n",
        "shifan[4,:]=0\n",
        "shifan[:,0]=0\n",
        "shifan[:,4]=0\n",
        "print(shifan)"
      ]
    },
    {
      "cell_type": "code",
      "execution_count": null,
      "id": "e6be179b-f8f5-4d5c-9abc-a46d0f4531ff",
      "metadata": {
        "id": "e6be179b-f8f5-4d5c-9abc-a46d0f4531ff",
        "outputId": "ca08bfa6-6461-4cd6-9262-e068b0cfd753"
      },
      "outputs": [
        {
          "name": "stdout",
          "output_type": "stream",
          "text": [
            "checkboard patterns\n",
            "[[0 1 0 1 0 1 0 1]\n",
            " [1 0 1 0 1 0 1 0]\n",
            " [0 1 0 1 0 1 0 1]\n",
            " [1 0 1 0 1 0 1 0]\n",
            " [0 1 0 1 0 1 0 1]\n",
            " [1 0 1 0 1 0 1 0]\n",
            " [0 1 0 1 0 1 0 1]\n",
            " [1 0 1 0 1 0 1 0]]\n"
          ]
        }
      ],
      "source": [
        "print(\"checkboard patterns\")\n",
        "abc=np.zeros((8,8),dtype=int)\n",
        "abc[1::2,::2]=1\n",
        "abc[::2,1::2]=1\n",
        "print(abc)"
      ]
    },
    {
      "cell_type": "code",
      "execution_count": null,
      "id": "7c100585-6fce-4a09-81cf-83474b90cd78",
      "metadata": {
        "id": "7c100585-6fce-4a09-81cf-83474b90cd78",
        "outputId": "abe2b3cb-c2fc-40eb-8fe3-f115ec37311b"
      },
      "outputs": [
        {
          "name": "stdout",
          "output_type": "stream",
          "text": [
            "[[0. 0. 0. 0. 0. 0. 0. 0.]\n",
            " [0. 0. 0. 0. 0. 0. 0. 0.]\n",
            " [0. 0. 0. 0. 0. 0. 0. 0.]\n",
            " [0. 0. 0. 0. 0. 0. 0. 0.]\n",
            " [0. 0. 0. 0. 0. 0. 0. 0.]\n",
            " [0. 0. 0. 0. 0. 0. 0. 0.]\n",
            " [0. 0. 0. 0. 0. 0. 0. 0.]\n",
            " [0. 0. 0. 0. 0. 0. 0. 0.]]\n",
            "\n",
            "\n",
            "[[0. 1. 0. 1. 0. 1. 0. 1.]\n",
            " [1. 0. 1. 0. 1. 0. 1. 0.]\n",
            " [0. 1. 0. 1. 0. 1. 0. 1.]\n",
            " [1. 0. 1. 0. 1. 0. 1. 0.]\n",
            " [0. 1. 0. 1. 0. 1. 0. 1.]\n",
            " [1. 0. 1. 0. 1. 0. 1. 0.]\n",
            " [0. 1. 0. 1. 0. 1. 0. 1.]\n",
            " [1. 0. 1. 0. 1. 0. 1. 0.]]\n"
          ]
        }
      ],
      "source": [
        "xx=np.zeros(64)\n",
        "xx=xx.reshape(8,8)\n",
        "print(xx)\n",
        "print(\"\\n\")\n",
        "xx[1::2, ::2]=1\n",
        "xx[::2,1::2]=1\n",
        "print(xx)"
      ]
    },
    {
      "cell_type": "code",
      "execution_count": null,
      "id": "df412d27-8aa9-4282-9811-40b3dc75ac72",
      "metadata": {
        "id": "df412d27-8aa9-4282-9811-40b3dc75ac72",
        "outputId": "7cab583a-5af2-4918-dc62-9329ea42d8bb"
      },
      "outputs": [
        {
          "name": "stdout",
          "output_type": "stream",
          "text": [
            "[[0. 0. 0. 0. 0. 0.]\n",
            " [0. 0. 0. 0. 0. 0.]\n",
            " [0. 0. 0. 0. 0. 0.]\n",
            " [0. 0. 0. 0. 0. 0.]]\n",
            "\n",
            "\n",
            "[[0. 0. 1. 1. 0. 0.]\n",
            " [1. 1. 0. 0. 1. 1.]\n",
            " [0. 0. 1. 1. 0. 0.]\n",
            " [1. 1. 0. 0. 1. 1.]]\n"
          ]
        }
      ],
      "source": [
        "w=np.zeros(24)\n",
        "w=w.reshape(4,6)\n",
        "print(w)\n",
        "print(\"\\n\")\n",
        "w[0::2,2:4]=1\n",
        "w[1::2,0:2]=1\n",
        "w[1::2,4:]=1\n",
        "print(w)"
      ]
    },
    {
      "cell_type": "code",
      "execution_count": null,
      "id": "69d409f0-4dbd-4e9c-abb9-1bb2ccd42a43",
      "metadata": {
        "id": "69d409f0-4dbd-4e9c-abb9-1bb2ccd42a43",
        "outputId": "31d86f17-eb4a-4d91-b170-6704ad2614b0",
        "colab": {
          "base_uri": "https://localhost:8080/"
        }
      },
      "outputs": [
        {
          "output_type": "stream",
          "name": "stdout",
          "text": [
            "[1 3 5 7]\n"
          ]
        }
      ],
      "source": [
        "#converting data types\n",
        "arr=np.array([1.4,3.9,5.3,7.4])\n",
        "new=arr.astype(\"int\")\n",
        "print(new)"
      ]
    },
    {
      "cell_type": "code",
      "execution_count": null,
      "id": "25123080-84d0-45c4-adce-0f4d1ce63ce0",
      "metadata": {
        "id": "25123080-84d0-45c4-adce-0f4d1ce63ce0"
      },
      "outputs": [],
      "source": [
        "import numpy as np"
      ]
    },
    {
      "cell_type": "code",
      "execution_count": null,
      "id": "32c15887-e31a-479a-87fd-b14271d6fdc3",
      "metadata": {
        "id": "32c15887-e31a-479a-87fd-b14271d6fdc3",
        "outputId": "ded5aef5-1a4e-4653-c352-82b9ecab12ba",
        "colab": {
          "base_uri": "https://localhost:8080/"
        }
      },
      "outputs": [
        {
          "output_type": "stream",
          "name": "stdout",
          "text": [
            "[ 1  2  3 10  5]\n",
            "[1 2 3 4 5]\n"
          ]
        }
      ],
      "source": [
        "a=np.array([1,2,3,4,5]) #copy\n",
        "x=a.copy()\n",
        "a[3]=10\n",
        "print(a)\n",
        "print(x)"
      ]
    },
    {
      "cell_type": "code",
      "execution_count": null,
      "id": "c79c8b89-28f6-4a56-9581-55eec4150655",
      "metadata": {
        "id": "c79c8b89-28f6-4a56-9581-55eec4150655",
        "outputId": "dae26ec3-5727-460f-e814-917446c67fd6"
      },
      "outputs": [
        {
          "name": "stdout",
          "output_type": "stream",
          "text": [
            "[7 2 3 4 5 6]\n",
            "[7 2 3 4 5 6]\n"
          ]
        }
      ],
      "source": [
        "arr5=np.array([1,2,3,4,5,6]) #view\n",
        "y=arr5.view()\n",
        "arr5[0]=7\n",
        "print(arr5)\n",
        "print(y)"
      ]
    },
    {
      "cell_type": "code",
      "execution_count": null,
      "id": "7e23a60e-6458-4cf5-8d1c-925121eefb4f",
      "metadata": {
        "id": "7e23a60e-6458-4cf5-8d1c-925121eefb4f",
        "outputId": "03cae26b-e56d-446d-d9dd-a40eae407dc7"
      },
      "outputs": [
        {
          "name": "stdout",
          "output_type": "stream",
          "text": [
            "None\n",
            "[7 2 3 4 5 6]\n"
          ]
        }
      ],
      "source": [
        "print(x.base)\n",
        "print(y.base)"
      ]
    },
    {
      "cell_type": "code",
      "execution_count": null,
      "id": "f8801e0f-85eb-42d7-a4e7-fa82e2fc14aa",
      "metadata": {
        "id": "f8801e0f-85eb-42d7-a4e7-fa82e2fc14aa",
        "outputId": "3deb6a77-9b24-42af-a707-1ae6a3cfba9b"
      },
      "outputs": [
        {
          "name": "stdout",
          "output_type": "stream",
          "text": [
            "[ 1  2  3  4  5  6  7  8  9 10 11 12]\n",
            "[[[ 1  2  3]\n",
            "  [ 4  5  6]]\n",
            "\n",
            " [[ 7  8  9]\n",
            "  [10 11 12]]]\n"
          ]
        }
      ],
      "source": [
        "arr6=np.array([1,2,3,4,5,6,7,8,9,10,11,12])\n",
        "ar=arr6.reshape(2,2,-1)\n",
        "print(arr6)\n",
        "print(ar)\n"
      ]
    },
    {
      "cell_type": "code",
      "execution_count": null,
      "id": "b7a8b6bf-66ed-4983-a87f-50170be656b6",
      "metadata": {
        "id": "b7a8b6bf-66ed-4983-a87f-50170be656b6",
        "outputId": "ed7b0688-64a8-41bc-d858-3de66e22c9dd",
        "colab": {
          "base_uri": "https://localhost:8080/"
        }
      },
      "outputs": [
        {
          "output_type": "stream",
          "name": "stdout",
          "text": [
            "[ 1  2  3  4  5  6  7  8  9 10 11 12]\n",
            "[[[ 1  2  3]\n",
            "  [ 4  5  6]]\n",
            "\n",
            " [[ 7  8  9]\n",
            "  [10 11 12]]]\n"
          ]
        }
      ],
      "source": [
        "arr6=np.array([1,2,3,4,5,6,7,8,9,10,11,12])\n",
        "ar=arr6.reshape(2,2,-1)\n",
        "print(arr6)\n",
        "print(ar)"
      ]
    },
    {
      "cell_type": "code",
      "execution_count": null,
      "id": "c07b5112-11c5-4518-9ddd-608a67f83841",
      "metadata": {
        "id": "c07b5112-11c5-4518-9ddd-608a67f83841",
        "outputId": "50cbd772-22c7-4e80-e305-40f31f5104cc"
      },
      "outputs": [
        {
          "name": "stdout",
          "output_type": "stream",
          "text": [
            "[1 2 3 4 5 6 7 8]\n"
          ]
        }
      ],
      "source": [
        "#flattening the arrays,convert a higher dimension into 1 dimension\n",
        "arr7=np.array([[[1,2],[3,4]],  [[5,6],[7,8]]])\n",
        "v=arr7.reshape(-1)\n",
        "print(v)"
      ]
    },
    {
      "cell_type": "code",
      "execution_count": null,
      "id": "03b21725-d689-4be3-970c-a3da7e94d3e7",
      "metadata": {
        "id": "03b21725-d689-4be3-970c-a3da7e94d3e7",
        "outputId": "92fb635a-d3bf-4160-e061-dc2a1ddabb6f"
      },
      "outputs": [
        {
          "name": "stdout",
          "output_type": "stream",
          "text": [
            "1\n",
            "2\n",
            "3\n",
            "4\n",
            "5\n",
            "6\n",
            "7\n",
            "8\n",
            "9\n",
            "10\n"
          ]
        }
      ],
      "source": [
        "#array traversing using for loop\n",
        "arr=np.array([1,2,3,4,5,6,7,8,9,10])\n",
        "for i in arr:\n",
        "    print(i)"
      ]
    },
    {
      "cell_type": "code",
      "execution_count": null,
      "id": "3a92e1bd-471c-4aa1-9a9c-7a0c7df4d445",
      "metadata": {
        "id": "3a92e1bd-471c-4aa1-9a9c-7a0c7df4d445",
        "outputId": "022b4012-db6f-47b3-f252-3442a340cc2e"
      },
      "outputs": [
        {
          "name": "stdout",
          "output_type": "stream",
          "text": [
            "1\n",
            "2\n",
            "3\n",
            "4\n",
            "5\n",
            "6\n",
            "7\n",
            "8\n",
            "9\n",
            "10\n"
          ]
        }
      ],
      "source": [
        "arr=np.array([1,2,3,4,5,6,7,8,9,10])\n",
        "for i in arr:\n",
        "    print(i)"
      ]
    },
    {
      "cell_type": "code",
      "source": [
        "a=np.full(100,3)\n",
        "print(a)"
      ],
      "metadata": {
        "colab": {
          "base_uri": "https://localhost:8080/"
        },
        "id": "MZYvnNiuCRjm",
        "outputId": "20ca31c8-60f5-4ca4-c7ca-5be9e4e9dd0a"
      },
      "id": "MZYvnNiuCRjm",
      "execution_count": null,
      "outputs": [
        {
          "output_type": "stream",
          "name": "stdout",
          "text": [
            "[3 3 3 3 3 3 3 3 3 3 3 3 3 3 3 3 3 3 3 3 3 3 3 3 3 3 3 3 3 3 3 3 3 3 3 3 3\n",
            " 3 3 3 3 3 3 3 3 3 3 3 3 3 3 3 3 3 3 3 3 3 3 3 3 3 3 3 3 3 3 3 3 3 3 3 3 3\n",
            " 3 3 3 3 3 3 3 3 3 3 3 3 3 3 3 3 3 3 3 3 3 3 3 3 3 3]\n"
          ]
        }
      ]
    },
    {
      "cell_type": "code",
      "execution_count": null,
      "id": "28e7dd9c-244c-4330-a8ef-1496dbe23d82",
      "metadata": {
        "id": "28e7dd9c-244c-4330-a8ef-1496dbe23d82",
        "outputId": "fd3e496f-16db-4be9-8f0d-3857976c2ca7",
        "colab": {
          "base_uri": "https://localhost:8080/"
        }
      },
      "outputs": [
        {
          "output_type": "stream",
          "name": "stdout",
          "text": [
            "1\n",
            "2\n",
            "3\n",
            "4\n",
            "5\n",
            "6\n",
            "7\n",
            "8\n",
            "9\n",
            "10\n"
          ]
        }
      ],
      "source": [
        "a=np.array([1,2,3,4,5,6,7,8,9,10])\n",
        "for i in a:\n",
        "  print(i)"
      ]
    },
    {
      "cell_type": "code",
      "execution_count": null,
      "id": "5a22fb82-b8da-4737-adcf-0f8913ec11f3",
      "metadata": {
        "id": "5a22fb82-b8da-4737-adcf-0f8913ec11f3",
        "outputId": "40183902-cc0a-4ceb-bfd7-fa5bc3f772ee"
      },
      "outputs": [
        {
          "name": "stdout",
          "output_type": "stream",
          "text": [
            "1\n",
            "2\n",
            "3\n",
            "4\n",
            "5\n",
            "6\n",
            "7\n",
            "8\n",
            "9\n",
            "10\n",
            "11\n",
            "12\n"
          ]
        }
      ],
      "source": [
        "arr3d=np.array([[[1,2,3],[4,5,6]],  [[7,8,9],[10,11,12]]])\n",
        "for i in arr3d:\n",
        "    for j in i:\n",
        "        for x in j:\n",
        "            print(x)"
      ]
    },
    {
      "cell_type": "code",
      "execution_count": null,
      "id": "cdbe3abd-5f25-4317-abd9-f3c2fb2d9a05",
      "metadata": {
        "id": "cdbe3abd-5f25-4317-abd9-f3c2fb2d9a05",
        "outputId": "76b3a24e-1ab0-4be8-ae97-5a2a9cd794a4"
      },
      "outputs": [
        {
          "name": "stdout",
          "output_type": "stream",
          "text": [
            "1\n",
            "2\n",
            "3\n",
            "4\n",
            "5\n",
            "6\n",
            "7\n",
            "8\n",
            "9\n",
            "10\n",
            "11\n",
            "12\n"
          ]
        }
      ],
      "source": [
        "#iterate elements using nditer\n",
        "arr3d=np.array([[[1,2,3],[4,5,6]],  [[7,8,9],[10,11,12]]])\n",
        "for x in np.nditer(arr3d):\n",
        "    print(x)"
      ]
    },
    {
      "cell_type": "code",
      "execution_count": null,
      "id": "403d409c-a681-4cc7-88cd-f4112918e658",
      "metadata": {
        "id": "403d409c-a681-4cc7-88cd-f4112918e658",
        "outputId": "933cc01a-6a28-4f24-c97c-e28d9dee0544"
      },
      "outputs": [
        {
          "name": "stdout",
          "output_type": "stream",
          "text": [
            "b'1'\n",
            "b'2'\n",
            "b'3'\n"
          ]
        }
      ],
      "source": [
        "arr8=np.array([1,2,3])\n",
        "for x in np.nditer(arr8, flags=['buffered'], op_dtypes=['S']): #change data types if you want\n",
        "   print(x)              #fixed memmory location   #converting to a datatype"
      ]
    },
    {
      "cell_type": "code",
      "execution_count": null,
      "id": "49f4837d-9e5c-4ac5-8450-d865eef3a560",
      "metadata": {
        "id": "49f4837d-9e5c-4ac5-8450-d865eef3a560",
        "outputId": "92eb8bc3-cecc-48ea-ff56-e14924441e99"
      },
      "outputs": [
        {
          "name": "stdout",
          "output_type": "stream",
          "text": [
            "b'1'\n",
            "b'2'\n",
            "b'3'\n",
            "b'6'\n",
            "b'7'\n",
            "b'8'\n",
            "b'4'\n",
            "b'5'\n",
            "b'9'\n"
          ]
        }
      ],
      "source": [
        "arr12=np.array([1,2,3,6,7,8,4,5,9])\n",
        "for x in np.nditer(arr12,flags=[\"buffered\"], op_dtypes=[\"S\"]):\n",
        "    print(x)"
      ]
    },
    {
      "cell_type": "code",
      "execution_count": null,
      "id": "a54b5ef8-6106-4e5b-8f6e-f0992ce30240",
      "metadata": {
        "id": "a54b5ef8-6106-4e5b-8f6e-f0992ce30240",
        "outputId": "04d7ae5f-24e3-4c28-eca2-8d7a566ca234"
      },
      "outputs": [
        {
          "name": "stdout",
          "output_type": "stream",
          "text": [
            "1\n",
            "3\n",
            "5\n"
          ]
        }
      ],
      "source": [
        "tda=np.array([[1,2,3],[4,5,6]])\n",
        "tda=tda.reshape(-1)\n",
        "for x in np.nditer(tda[: :2]):\n",
        "    print(x)\n"
      ]
    },
    {
      "cell_type": "code",
      "execution_count": null,
      "id": "29dd8d02-acb4-4017-b4ef-793d5433f6e1",
      "metadata": {
        "id": "29dd8d02-acb4-4017-b4ef-793d5433f6e1",
        "outputId": "90571710-67a7-415b-b682-32f62b321a98"
      },
      "outputs": [
        {
          "name": "stdout",
          "output_type": "stream",
          "text": [
            "(0,) 1\n",
            "(1,) 2\n",
            "(2,) 3\n"
          ]
        }
      ],
      "source": [
        "#iterate with index number\n",
        "arr6=np.array([1,2,3])\n",
        "for i,x in np.ndenumerate(arr6):\n",
        "    print(i,x)"
      ]
    },
    {
      "cell_type": "code",
      "execution_count": null,
      "id": "3f76e3b5-ea17-485d-9235-ca0bbd7aae56",
      "metadata": {
        "id": "3f76e3b5-ea17-485d-9235-ca0bbd7aae56",
        "outputId": "fba63b10-e1ff-4297-936d-d434277ad03a"
      },
      "outputs": [
        {
          "name": "stdout",
          "output_type": "stream",
          "text": [
            "(0, 0, 0) 1\n",
            "(0, 0, 1) 2\n",
            "(0, 0, 2) 3\n",
            "(0, 1, 0) 4\n",
            "(0, 1, 1) 5\n",
            "(0, 1, 2) 6\n",
            "(1, 0, 0) 7\n",
            "(1, 0, 1) 8\n",
            "(1, 0, 2) 9\n",
            "(1, 1, 0) 10\n",
            "(1, 1, 1) 11\n",
            "(1, 1, 2) 12\n"
          ]
        }
      ],
      "source": [
        "#in 2d array\n",
        "arr11=np.array([[[1,2,3],[4,5,6]],[[7,8,9],[10,11,12]]])\n",
        "for i,j in np.ndenumerate(arr11):\n",
        "    print(i,j)\n"
      ]
    },
    {
      "cell_type": "markdown",
      "id": "af01dae7-4d94-461a-a4b6-94206ea72002",
      "metadata": {
        "id": "af01dae7-4d94-461a-a4b6-94206ea72002"
      },
      "source": [
        "# numpy joining array"
      ]
    },
    {
      "cell_type": "code",
      "execution_count": null,
      "id": "0489c0a3-1194-4be8-91a4-da7e55af1157",
      "metadata": {
        "id": "0489c0a3-1194-4be8-91a4-da7e55af1157",
        "outputId": "2d32f060-fca5-49d5-a6c4-29a61afa4af3"
      },
      "outputs": [
        {
          "name": "stdout",
          "output_type": "stream",
          "text": [
            "[1 2 3 4 5 6]\n"
          ]
        }
      ],
      "source": [
        "#concatenate\n",
        "array1=np.array([1,2,3])\n",
        "array2=np.array([4,5,6])\n",
        "newarray=np.concatenate((array1,array2))\n",
        "print(newarray)"
      ]
    },
    {
      "cell_type": "code",
      "execution_count": null,
      "id": "66cb7901-083f-4f32-931b-0c45cb521274",
      "metadata": {
        "id": "66cb7901-083f-4f32-931b-0c45cb521274",
        "outputId": "d10c2fe2-8dd7-4131-d2d6-9285e2e13ed1"
      },
      "outputs": [
        {
          "name": "stdout",
          "output_type": "stream",
          "text": [
            "[5 4 3 2 1 1 2 3 4 5]\n"
          ]
        }
      ],
      "source": [
        "zz=np.array([5,4,3,2,1])\n",
        "xx=np.array([1,2,3,4,5])\n",
        "new=np.concatenate((zz,xx))\n",
        "print(new)"
      ]
    },
    {
      "cell_type": "code",
      "execution_count": null,
      "id": "cb79deef-bfd9-472e-b783-f48635b30a1d",
      "metadata": {
        "id": "cb79deef-bfd9-472e-b783-f48635b30a1d",
        "outputId": "92c5a01c-dffa-41bf-d022-d93186dd1807"
      },
      "outputs": [
        {
          "name": "stdout",
          "output_type": "stream",
          "text": [
            "[[ 7  8  9]\n",
            " [10 11 12]\n",
            " [ 1  2  3]\n",
            " [ 4  5  6]]\n"
          ]
        }
      ],
      "source": [
        "#concatenate in two d\n",
        "m=np.array([[7,8,9],[10,11,12]])\n",
        "n=np.array([[1,2,3],[4,5,6]])\n",
        "mn= np.concatenate((m,n),axis=0) #raw wise adding\n",
        "print(mn)"
      ]
    },
    {
      "cell_type": "code",
      "execution_count": null,
      "id": "097de153-c5c7-449d-8dd7-cc4facdedd1e",
      "metadata": {
        "id": "097de153-c5c7-449d-8dd7-cc4facdedd1e",
        "outputId": "854364b7-fa4f-4ca6-e054-f6a329f70c52"
      },
      "outputs": [
        {
          "name": "stdout",
          "output_type": "stream",
          "text": [
            "[[ 7  8  9  1  2  3]\n",
            " [10 11 12  4  5  6]]\n"
          ]
        }
      ],
      "source": [
        "m=np.array([[7,8,9],[10,11,12]])\n",
        "n=np.array([[1,2,3],[4,5,6]])\n",
        "mn= np.concatenate((m,n),axis=1) #column wise adding\n",
        "print(mn)"
      ]
    },
    {
      "cell_type": "code",
      "execution_count": null,
      "id": "fcc5c1b6-b1e9-4443-b8d2-5599878bd4ba",
      "metadata": {
        "id": "fcc5c1b6-b1e9-4443-b8d2-5599878bd4ba",
        "outputId": "356e7893-e78e-43c6-875a-f67c0fab99ef"
      },
      "outputs": [
        {
          "name": "stdout",
          "output_type": "stream",
          "text": [
            "[[1 2 3]\n",
            " [4 5 6]\n",
            " [7 8 9]\n",
            " [6 5 3]]\n",
            "(4, 3)\n"
          ]
        }
      ],
      "source": [
        "import numpy as np\n",
        "a=np.array([[1,2,3],[4,5,6]])\n",
        "b=np.array([[7,8,9],[6,5,3]])\n",
        "new_arr=np.concatenate((a,b),axis=0)\n",
        "print(new_arr)\n",
        "print(new_arr.shape)"
      ]
    },
    {
      "cell_type": "code",
      "execution_count": null,
      "id": "bc1a2341-481f-49c8-868f-d4de74030896",
      "metadata": {
        "id": "bc1a2341-481f-49c8-868f-d4de74030896",
        "outputId": "40d5b765-66e5-409d-8b06-7506d352d1bc"
      },
      "outputs": [
        {
          "name": "stdout",
          "output_type": "stream",
          "text": [
            "[[[1 2 3]\n",
            "  [4 5 6]]\n",
            "\n",
            " [[7 8 9]\n",
            "  [6 5 3]]\n",
            "\n",
            " [[7 8 9]\n",
            "  [6 5 3]]\n",
            "\n",
            " [[1 2 3]\n",
            "  [4 5 6]]]\n"
          ]
        }
      ],
      "source": [
        "#concatinate in 3dimension\n",
        "a=np.array([[[1,2,3],[4,5,6]],[[7,8,9],[6,5,3]]])\n",
        "b=np.array([[[7,8,9],[6,5,3]],[[1,2,3],[4,5,6]]])\n",
        "new_arr=np.concatenate((a,b),axis=0)\n",
        "print(new_arr)"
      ]
    },
    {
      "cell_type": "code",
      "execution_count": null,
      "id": "bead2387-dfb6-45ef-ad2e-472ca9fae6fb",
      "metadata": {
        "id": "bead2387-dfb6-45ef-ad2e-472ca9fae6fb",
        "outputId": "36b97136-1ee9-4850-a8b2-ae8ed1639b1e"
      },
      "outputs": [
        {
          "name": "stdout",
          "output_type": "stream",
          "text": [
            "[[[1 2 3]\n",
            "  [4 5 6]\n",
            "  [7 8 9]\n",
            "  [6 5 3]]\n",
            "\n",
            " [[7 8 9]\n",
            "  [6 5 3]\n",
            "  [1 2 3]\n",
            "  [4 5 6]]]\n"
          ]
        }
      ],
      "source": [
        "a=np.array([[[1,2,3],[4,5,6]],[[7,8,9],[6,5,3]]])\n",
        "b=np.array([[[7,8,9],[6,5,3]],[[1,2,3],[4,5,6]]])\n",
        "new_arr=np.concatenate((a,b),axis=1)\n",
        "print(new_arr)"
      ]
    },
    {
      "cell_type": "code",
      "execution_count": null,
      "id": "72d5915b-94c8-4179-8162-40944a988e5b",
      "metadata": {
        "id": "72d5915b-94c8-4179-8162-40944a988e5b",
        "outputId": "6e86b371-b890-485f-c6a2-ded479ff9831"
      },
      "outputs": [
        {
          "name": "stdout",
          "output_type": "stream",
          "text": [
            "[[[1 2 3 7 8 9]\n",
            "  [4 5 6 6 5 3]]\n",
            "\n",
            " [[7 8 9 1 2 3]\n",
            "  [6 5 3 4 5 6]]]\n"
          ]
        }
      ],
      "source": [
        "a=np.array([[[1,2,3],[4,5,6]],[[7,8,9],[6,5,3]]])\n",
        "b=np.array([[[7,8,9],[6,5,3]],[[1,2,3],[4,5,6]]])\n",
        "new_arr=np.concatenate((a,b),axis=2)\n",
        "print(new_arr)"
      ]
    },
    {
      "cell_type": "markdown",
      "id": "e5529e8c-b3bb-42ec-ae7d-41cf698e59b7",
      "metadata": {
        "id": "e5529e8c-b3bb-42ec-ae7d-41cf698e59b7"
      },
      "source": [
        "# stacking"
      ]
    },
    {
      "cell_type": "code",
      "execution_count": null,
      "id": "39096aca-1e2b-4c54-a447-0dd931c926fb",
      "metadata": {
        "id": "39096aca-1e2b-4c54-a447-0dd931c926fb",
        "outputId": "d12bbc5f-5261-4579-8253-8e3282b4b463"
      },
      "outputs": [
        {
          "name": "stdout",
          "output_type": "stream",
          "text": [
            "[[1 2 3]\n",
            " [1 2 4]]\n"
          ]
        }
      ],
      "source": [
        "b=np.array([1,2,3])\n",
        "c=np.array([1,2,4])\n",
        "a=np.stack((b,c))\n",
        "print(a)"
      ]
    },
    {
      "cell_type": "code",
      "execution_count": null,
      "id": "536f4bbb-86b8-466f-b150-dcc356e46fcb",
      "metadata": {
        "id": "536f4bbb-86b8-466f-b150-dcc356e46fcb",
        "outputId": "83c0b71e-e891-4f7b-a0a5-0ce05c7aab1c"
      },
      "outputs": [
        {
          "name": "stdout",
          "output_type": "stream",
          "text": [
            "[[1 1]\n",
            " [2 2]\n",
            " [3 4]]\n"
          ]
        }
      ],
      "source": [
        "b=np.array([1,2,3])\n",
        "c=np.array([1,2,4])\n",
        "a=np.stack((b,c),axis=1)  #colum wise stacking\n",
        "print(a)"
      ]
    },
    {
      "cell_type": "code",
      "execution_count": null,
      "id": "2da1a268-e27d-4559-bf72-aa60ad7ddaa4",
      "metadata": {
        "id": "2da1a268-e27d-4559-bf72-aa60ad7ddaa4",
        "outputId": "8b838928-67a4-41a0-e9b5-0884fe3cb7ca"
      },
      "outputs": [
        {
          "name": "stdout",
          "output_type": "stream",
          "text": [
            "[[[ 1  2  3]\n",
            "  [ 4  5  6]]\n",
            "\n",
            " [[ 7  8  9]\n",
            "  [10 11 12]]]\n"
          ]
        }
      ],
      "source": [
        "#stacking in 2dimensions\n",
        "a=np.array([[1,2,3],[4,5,6]])\n",
        "b=np.array([[7,8,9],[10,11,12]])\n",
        "x=np.stack((a,b),axis=0)\n",
        "print(x)"
      ]
    },
    {
      "cell_type": "code",
      "execution_count": null,
      "id": "691274a9-9b8d-4f20-88e2-7ac06ba7c413",
      "metadata": {
        "id": "691274a9-9b8d-4f20-88e2-7ac06ba7c413",
        "outputId": "61d9e952-baaf-406c-a9f2-6c112cf3feea"
      },
      "outputs": [
        {
          "name": "stdout",
          "output_type": "stream",
          "text": [
            "[[[ 1  2  3]\n",
            "  [ 7  8  9]]\n",
            "\n",
            " [[ 4  5  6]\n",
            "  [10 11 12]]]\n"
          ]
        }
      ],
      "source": [
        "a=np.array([[1,2,3],[4,5,6]])\n",
        "b=np.array([[7,8,9],[10,11,12]])\n",
        "x=np.stack((a,b),axis=1)\n",
        "print(x)"
      ]
    },
    {
      "cell_type": "code",
      "execution_count": null,
      "id": "8a12c776-8e68-461f-9ca3-aeb11ae32858",
      "metadata": {
        "id": "8a12c776-8e68-461f-9ca3-aeb11ae32858",
        "outputId": "e882e5ba-705c-4861-b339-e05e21f7e71e"
      },
      "outputs": [
        {
          "name": "stdout",
          "output_type": "stream",
          "text": [
            "[[[ 1  7]\n",
            "  [ 2  8]\n",
            "  [ 3  9]]\n",
            "\n",
            " [[ 4 10]\n",
            "  [ 5 11]\n",
            "  [ 6 12]]]\n"
          ]
        }
      ],
      "source": [
        "a=np.array([[1,2,3],[4,5,6]])\n",
        "b=np.array([[7,8,9],[10,11,12]])\n",
        "x=np.stack((a,b),axis=2)\n",
        "print(x)"
      ]
    },
    {
      "cell_type": "code",
      "execution_count": null,
      "id": "2766b75b-b63b-4ff2-a33e-3d00cf3dc819",
      "metadata": {
        "id": "2766b75b-b63b-4ff2-a33e-3d00cf3dc819",
        "outputId": "6108a1b7-c911-4fe2-ce3c-9b88dc41e900"
      },
      "outputs": [
        {
          "name": "stdout",
          "output_type": "stream",
          "text": [
            "[[[[ 1  2]\n",
            "   [ 3  4]]\n",
            "\n",
            "  [[ 5  6]\n",
            "   [ 7  8]]]\n",
            "\n",
            "\n",
            " [[[11 12]\n",
            "   [13 14]]\n",
            "\n",
            "  [[15 16]\n",
            "   [17 18]]]]\n"
          ]
        }
      ],
      "source": [
        "#stack in 3dimension\n",
        "td1=np.array([[[1,2],[3,4]]  , [[5,6],[7,8]]])\n",
        "td2=np.array([[[11,12],[13,14]],   [[15,16],[17,18]]])\n",
        "m=np.stack((td1,td2),axis=0)\n",
        "print(m)"
      ]
    },
    {
      "cell_type": "code",
      "execution_count": null,
      "id": "b42e1c24-5703-4da1-b3f1-63f78e7020ca",
      "metadata": {
        "id": "b42e1c24-5703-4da1-b3f1-63f78e7020ca",
        "outputId": "66d5a676-b80d-4437-ec8c-b61da621e1b6"
      },
      "outputs": [
        {
          "name": "stdout",
          "output_type": "stream",
          "text": [
            "[[[[ 1  2]\n",
            "   [ 3  4]]\n",
            "\n",
            "  [[11 12]\n",
            "   [13 14]]]\n",
            "\n",
            "\n",
            " [[[ 5  6]\n",
            "   [ 7  8]]\n",
            "\n",
            "  [[15 16]\n",
            "   [17 18]]]]\n"
          ]
        }
      ],
      "source": [
        "td1=np.array([[[1,2],[3,4]]  , [[5,6],[7,8]]])\n",
        "td2=np.array([[[11,12],[13,14]],   [[15,16],[17,18]]])\n",
        "m=np.stack((td1,td2),axis=1)\n",
        "print(m)"
      ]
    },
    {
      "cell_type": "code",
      "execution_count": null,
      "id": "8b09ea06-6afd-4040-9346-d9733d69ae44",
      "metadata": {
        "id": "8b09ea06-6afd-4040-9346-d9733d69ae44",
        "outputId": "02b4b0f5-c145-44aa-8397-60651a8957c5"
      },
      "outputs": [
        {
          "name": "stdout",
          "output_type": "stream",
          "text": [
            "[[[[ 1  2]\n",
            "   [11 12]]\n",
            "\n",
            "  [[ 3  4]\n",
            "   [13 14]]]\n",
            "\n",
            "\n",
            " [[[ 5  6]\n",
            "   [15 16]]\n",
            "\n",
            "  [[ 7  8]\n",
            "   [17 18]]]]\n"
          ]
        }
      ],
      "source": [
        "td1=np.array([[[1,2],[3,4]]  , [[5,6],[7,8]]])\n",
        "td2=np.array([[[11,12],[13,14]],   [[15,16],[17,18]]])\n",
        "m=np.stack((td1,td2),axis=2)\n",
        "print(m)"
      ]
    },
    {
      "cell_type": "code",
      "execution_count": null,
      "id": "bc6b1fef-1db4-4cd0-9786-4a727ac3d604",
      "metadata": {
        "id": "bc6b1fef-1db4-4cd0-9786-4a727ac3d604",
        "outputId": "ed81f986-b120-4b88-d6ae-f0850eefc096"
      },
      "outputs": [
        {
          "name": "stdout",
          "output_type": "stream",
          "text": [
            "[[[[ 1 11]\n",
            "   [ 2 12]]\n",
            "\n",
            "  [[ 3 13]\n",
            "   [ 4 14]]]\n",
            "\n",
            "\n",
            " [[[ 5 15]\n",
            "   [ 6 16]]\n",
            "\n",
            "  [[ 7 17]\n",
            "   [ 8 18]]]]\n"
          ]
        }
      ],
      "source": [
        "td1=np.array([[[1,2],[3,4]]  , [[5,6],[7,8]]])\n",
        "td2=np.array([[[11,12],[13,14]],   [[15,16],[17,18]]])\n",
        "m=np.stack((td1,td2),axis=3)\n",
        "print(m)"
      ]
    },
    {
      "cell_type": "code",
      "execution_count": null,
      "id": "5b6685ea-efb5-4df0-98a1-f041b302d9fc",
      "metadata": {
        "id": "5b6685ea-efb5-4df0-98a1-f041b302d9fc",
        "outputId": "ce9bc14b-617c-480e-f923-7d2276f90b2a"
      },
      "outputs": [
        {
          "name": "stdout",
          "output_type": "stream",
          "text": [
            "[[[1 4]\n",
            "  [2 5]\n",
            "  [3 6]]\n",
            "\n",
            " [[7 7]\n",
            "  [5 8]\n",
            "  [3 9]]]\n"
          ]
        }
      ],
      "source": [
        "#stacking with dstack(all dimensions will be same)\n",
        "x=np.array([[1,2,3],[7,5,3]])\n",
        "y=np.array([[4,5,6],[7,8,9]])\n",
        "z=np.dstack((x,y))   #colum wise stacking\n",
        "print(z)"
      ]
    },
    {
      "cell_type": "code",
      "execution_count": null,
      "id": "513c0f5d-8888-4ce6-96ba-8e73ad78567e",
      "metadata": {
        "id": "513c0f5d-8888-4ce6-96ba-8e73ad78567e",
        "outputId": "438d2db3-7f8b-4f72-f76b-25b632085ebd"
      },
      "outputs": [
        {
          "name": "stdout",
          "output_type": "stream",
          "text": [
            "[[1 2 3 4 5 6]\n",
            " [3 4 5 4 5 6]]\n"
          ]
        }
      ],
      "source": [
        "#staking using hstack\n",
        "x=np.array([[1,2,3],[3,4,5]])\n",
        "y=np.array([[4,5,6],[4,5,6]])\n",
        "z=np.hstack((x,y))\n",
        "print(z)       #horizondal stacking"
      ]
    },
    {
      "cell_type": "code",
      "execution_count": null,
      "id": "1ba3c37e-04dd-4c1d-8c6c-10adf1de35d9",
      "metadata": {
        "id": "1ba3c37e-04dd-4c1d-8c6c-10adf1de35d9",
        "outputId": "0ebd3262-b9a6-431c-fc86-a1bebae2e916"
      },
      "outputs": [
        {
          "name": "stdout",
          "output_type": "stream",
          "text": [
            "[[1 2 3]\n",
            " [3 4 5]\n",
            " [4 5 6]\n",
            " [4 5 6]]\n"
          ]
        }
      ],
      "source": [
        "#stacking using vstack\n",
        "x=np.array([[1,2,3],[3,4,5]])\n",
        "y=np.array([[4,5,6],[4,5,6]])\n",
        "z=np.vstack((x,y))\n",
        "print(z)     #vertical stacking"
      ]
    },
    {
      "cell_type": "code",
      "execution_count": null,
      "id": "0fc433c1-d32e-49d5-b226-7f1dfe212bd8",
      "metadata": {
        "id": "0fc433c1-d32e-49d5-b226-7f1dfe212bd8",
        "outputId": "aefc6dce-cd79-4f43-888d-f5e1f61d4b3f"
      },
      "outputs": [
        {
          "name": "stdout",
          "output_type": "stream",
          "text": [
            "[[[ 1  2  3  4]\n",
            "  [ 5  6  7  8]\n",
            "  [ 9 10 11 12]]\n",
            "\n",
            " [[13 14 15 16]\n",
            "  [17 18 19 20]\n",
            "  [21 22 23 24]]]\n",
            "[[[ 1 13]\n",
            "  [ 2 14]\n",
            "  [ 3 15]\n",
            "  [ 4 16]]\n",
            "\n",
            " [[ 5 17]\n",
            "  [ 6 18]\n",
            "  [ 7 19]\n",
            "  [ 8 20]]\n",
            "\n",
            " [[ 9 21]\n",
            "  [10 22]\n",
            "  [11 23]\n",
            "  [12 24]]]\n"
          ]
        }
      ],
      "source": [
        "#dstack\n",
        "x=np.arange(1,25).reshape(2,3,4)\n",
        "print(x)\n",
        "y=np.dstack(x)\n",
        "print(y)"
      ]
    }
  ],
  "metadata": {
    "kernelspec": {
      "display_name": "Python 3 (ipykernel)",
      "language": "python",
      "name": "python3"
    },
    "language_info": {
      "codemirror_mode": {
        "name": "ipython",
        "version": 3
      },
      "file_extension": ".py",
      "mimetype": "text/x-python",
      "name": "python",
      "nbconvert_exporter": "python",
      "pygments_lexer": "ipython3",
      "version": "3.12.4"
    },
    "colab": {
      "provenance": []
    }
  },
  "nbformat": 4,
  "nbformat_minor": 5
}