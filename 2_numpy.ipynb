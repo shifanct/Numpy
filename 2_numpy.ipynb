{
  "cells": [
    {
      "cell_type": "code",
      "execution_count": null,
      "id": "7fe32d02-6036-479a-afd2-48bb545d4029",
      "metadata": {
        "id": "7fe32d02-6036-479a-afd2-48bb545d4029"
      },
      "outputs": [],
      "source": [
        "import numpy as np"
      ]
    },
    {
      "cell_type": "code",
      "execution_count": null,
      "id": "6d918049-829a-4610-b663-5a576ecdfd9c",
      "metadata": {
        "id": "6d918049-829a-4610-b663-5a576ecdfd9c",
        "outputId": "120fe86c-1886-413a-8371-5fe9b0931c8a",
        "colab": {
          "base_uri": "https://localhost:8080/"
        }
      },
      "outputs": [
        {
          "output_type": "stream",
          "name": "stdout",
          "text": [
            "[[ 8 10 12]\n",
            " [ 5  7  9]]\n"
          ]
        }
      ],
      "source": [
        "#add array elements\n",
        "arr1=np.array([[1,2,3],[4,5,6]])\n",
        "arr2=np.array([[7,8,9],[1,2,3]])\n",
        "add=np.add(arr1,arr2)\n",
        "print(add)"
      ]
    },
    {
      "cell_type": "code",
      "execution_count": null,
      "id": "5deefe9b-cf79-4535-93d8-75ceee77fc54",
      "metadata": {
        "id": "5deefe9b-cf79-4535-93d8-75ceee77fc54",
        "outputId": "716fda19-15f9-49e4-bd35-3d935327047a",
        "colab": {
          "base_uri": "https://localhost:8080/"
        }
      },
      "outputs": [
        {
          "output_type": "stream",
          "name": "stdout",
          "text": [
            "[5 5 5 5 5]\n"
          ]
        }
      ],
      "source": [
        "#substract array elements\n",
        "arr=np.array([6,7,8,9,10])\n",
        "ar=np.array([1,2,3,4,5])\n",
        "new=np.subtract(arr,ar)\n",
        "print(new)"
      ]
    },
    {
      "cell_type": "code",
      "execution_count": null,
      "id": "8d668c94-9a74-48ac-9456-b8b47a9578e3",
      "metadata": {
        "id": "8d668c94-9a74-48ac-9456-b8b47a9578e3",
        "outputId": "eb3241fe-4c6e-42bc-e129-89dd8f5a23c7",
        "colab": {
          "base_uri": "https://localhost:8080/"
        }
      },
      "outputs": [
        {
          "output_type": "stream",
          "name": "stdout",
          "text": [
            "[ 6 14 24 36 50]\n"
          ]
        }
      ],
      "source": [
        "#multiply array elements\n",
        "arr=np.array([6,7,8,9,10])\n",
        "ar=np.array([1,2,3,4,5])\n",
        "new_=np.multiply(arr,ar)\n",
        "print(new_)"
      ]
    },
    {
      "cell_type": "code",
      "execution_count": null,
      "id": "938ba05e-f8d1-41f6-b3ad-64cc8a76c964",
      "metadata": {
        "id": "938ba05e-f8d1-41f6-b3ad-64cc8a76c964",
        "outputId": "df63068a-68ca-49fe-e46f-9f8d350062a6",
        "colab": {
          "base_uri": "https://localhost:8080/"
        }
      },
      "outputs": [
        {
          "output_type": "stream",
          "name": "stdout",
          "text": [
            "[2.         1.5        1.33333333 1.25      ]\n"
          ]
        }
      ],
      "source": [
        "d=np.array([2,3,4,5])\n",
        "f=np.array([1,2,3,4])\n",
        "div=np.divide(d,f)\n",
        "print(div)"
      ]
    },
    {
      "cell_type": "code",
      "execution_count": null,
      "id": "65277672-5e44-4b7a-9e20-fddce155bb06",
      "metadata": {
        "id": "65277672-5e44-4b7a-9e20-fddce155bb06",
        "outputId": "c4be78d0-972f-4c10-85b0-e4eac8f886c1",
        "colab": {
          "base_uri": "https://localhost:8080/"
        }
      },
      "outputs": [
        {
          "output_type": "stream",
          "name": "stdout",
          "text": [
            "[[1 5]\n",
            " [2 6]\n",
            " [3 7]\n",
            " [4 8]\n",
            " [5 9]]\n"
          ]
        }
      ],
      "source": [
        "td1=np.array([[1,2,3,4,5],[5,6,7,8,9]])\n",
        "trans=np.transpose(td1)\n",
        "print(trans)"
      ]
    },
    {
      "cell_type": "code",
      "execution_count": null,
      "id": "7775b95a-f1fb-4d5f-98fe-52fb58528598",
      "metadata": {
        "id": "7775b95a-f1fb-4d5f-98fe-52fb58528598",
        "outputId": "096bb799-eab1-4096-be1a-c36455206899",
        "colab": {
          "base_uri": "https://localhost:8080/"
        }
      },
      "outputs": [
        {
          "output_type": "stream",
          "name": "stdout",
          "text": [
            "[[ 2  9 12]\n",
            " [ 6  8 10]] \n",
            "\n",
            "[[ 0 -5 -6]\n",
            " [ 2  2  2]] \n",
            "\n",
            "[[ 1 14 27]\n",
            " [ 8 15 24]] \n",
            "\n",
            "[[1.         0.28571429 0.33333333]\n",
            " [2.         1.66666667 1.5       ]] \n",
            "\n",
            "[[1 4]\n",
            " [2 5]\n",
            " [3 6]] \n",
            "\n"
          ]
        }
      ],
      "source": [
        "all=np.array([[1,2,3],[4,5,6]])\n",
        "b=np.array([[1,7,9],[2,3,4]])\n",
        "add=np.add(all,b)\n",
        "print(add,\"\\n\")\n",
        "sub=np.subtract(all,b)\n",
        "print(sub,\"\\n\")\n",
        "multy=np.multiply(all,b)\n",
        "print(multy,\"\\n\")\n",
        "div=np.divide(all,b)\n",
        "print(div,\"\\n\")\n",
        "trans=np.transpose(all)\n",
        "print(trans,\"\\n\")\n"
      ]
    },
    {
      "cell_type": "code",
      "execution_count": null,
      "id": "88df4942-414d-4ca9-a253-9f6f8c41dbce",
      "metadata": {
        "colab": {
          "base_uri": "https://localhost:8080/"
        },
        "id": "88df4942-414d-4ca9-a253-9f6f8c41dbce",
        "outputId": "e4874d53-4f90-48f4-8aed-a3efb2e0ae0b"
      },
      "outputs": [
        {
          "output_type": "stream",
          "name": "stdout",
          "text": [
            "[[1 2]\n",
            " [4 5]]\n",
            "[[ 7  8]\n",
            " [10 11]]\n",
            "[[27 30]\n",
            " [78 87]]\n"
          ]
        }
      ],
      "source": [
        "x=np.array([[1,2],[4,5]])\n",
        "y=np.array([[7,8],[10,11]])\n",
        "print(x)\n",
        "print(y)\n",
        "\n",
        "print(np.matmul(x,y))"
      ]
    },
    {
      "cell_type": "code",
      "execution_count": null,
      "id": "2f5029db-ec39-42e8-8a2b-dd9c5743e42b",
      "metadata": {
        "id": "2f5029db-ec39-42e8-8a2b-dd9c5743e42b",
        "outputId": "197385eb-2409-49b7-e2b1-ddcb59ff9944",
        "colab": {
          "base_uri": "https://localhost:8080/"
        }
      },
      "outputs": [
        {
          "output_type": "stream",
          "name": "stdout",
          "text": [
            "[[1. 1. 1. 1. 1. 1.]\n",
            " [1. 1. 1. 1. 1. 1.]\n",
            " [1. 1. 1. 1. 1. 1.]\n",
            " [1. 1. 1. 1. 1. 1.]\n",
            " [1. 1. 1. 1. 1. 1.]\n",
            " [1. 1. 1. 1. 1. 1.]]\n",
            "\n",
            "[[0. 0. 0. 0. 0. 0.]\n",
            " [0. 1. 1. 1. 1. 0.]\n",
            " [0. 1. 2. 2. 1. 0.]\n",
            " [0. 1. 2. 2. 1. 0.]\n",
            " [0. 1. 1. 1. 1. 0.]\n",
            " [0. 0. 0. 0. 0. 0.]]\n"
          ]
        }
      ],
      "source": [
        "a=np.ones(36)\n",
        "a=a.reshape(6,6)\n",
        "print(a)\n",
        "print(\"\")\n",
        "a[0,:]=0\n",
        "a[5,:]=0\n",
        "a[ :,0]=0\n",
        "a[:,5]=0\n",
        "a[2:4,2:4]=2\n",
        "print(a)"
      ]
    },
    {
      "cell_type": "code",
      "execution_count": null,
      "id": "d9aef2b9-45ba-4098-978b-b59d7b87a9df",
      "metadata": {
        "id": "d9aef2b9-45ba-4098-978b-b59d7b87a9df",
        "outputId": "0a7f9cb2-feea-49d5-bc09-cbadc083ef1f",
        "colab": {
          "base_uri": "https://localhost:8080/"
        }
      },
      "outputs": [
        {
          "output_type": "stream",
          "name": "stdout",
          "text": [
            "[[0. 0. 0. 0. 0. 0.]\n",
            " [0. 0. 0. 0. 0. 0.]\n",
            " [0. 0. 0. 0. 0. 0.]\n",
            " [0. 0. 0. 0. 0. 0.]\n",
            " [0. 0. 0. 0. 0. 0.]\n",
            " [0. 0. 0. 0. 0. 0.]]\n",
            "\n",
            "[[0. 0. 0. 0. 0. 0.]\n",
            " [0. 1. 1. 1. 1. 0.]\n",
            " [0. 1. 2. 2. 1. 0.]\n",
            " [0. 1. 2. 2. 1. 0.]\n",
            " [0. 1. 1. 1. 1. 0.]\n",
            " [0. 0. 0. 0. 0. 0.]]\n"
          ]
        }
      ],
      "source": [
        "#another method\n",
        "a=np.zeros(36)\n",
        "a=a.reshape(6,6)\n",
        "print(a)\n",
        "print(\"\")\n",
        "a[1:5 ,1:5]=1\n",
        "a[2:4 , 2:4]=2\n",
        "\n",
        "print(a)"
      ]
    },
    {
      "cell_type": "code",
      "execution_count": null,
      "id": "14fb3ba6-bdac-4e07-956e-9475f2301dd1",
      "metadata": {
        "id": "14fb3ba6-bdac-4e07-956e-9475f2301dd1",
        "outputId": "7b4b3d32-5e26-4f87-ac7b-3d903a7484ac",
        "colab": {
          "base_uri": "https://localhost:8080/"
        }
      },
      "outputs": [
        {
          "output_type": "stream",
          "name": "stdout",
          "text": [
            "[[0. 0. 0. 0. 0. 0.]\n",
            " [0. 0. 0. 0. 0. 0.]\n",
            " [0. 0. 0. 0. 0. 0.]\n",
            " [0. 0. 0. 0. 0. 0.]\n",
            " [0. 0. 0. 0. 0. 0.]] \n",
            "\n",
            "[[1. 0. 0. 0. 0. 1.]\n",
            " [0. 1. 0. 0. 1. 0.]\n",
            " [0. 0. 1. 1. 0. 0.]\n",
            " [0. 1. 0. 0. 1. 0.]\n",
            " [1. 0. 0. 0. 0. 1.]]\n"
          ]
        }
      ],
      "source": [
        "p=np.zeros(30)\n",
        "p=p.reshape(5,6)\n",
        "print(p,\"\\n\")\n",
        "p[0::4 , 0::5]=1\n",
        "p[1::2 , 1::3]=1\n",
        "p[2:3 , 2:4]=1\n",
        "print(p)"
      ]
    },
    {
      "cell_type": "code",
      "execution_count": null,
      "id": "51d80232-e9f2-4424-a508-edf1b995cb0f",
      "metadata": {
        "id": "51d80232-e9f2-4424-a508-edf1b995cb0f"
      },
      "outputs": [],
      "source": [
        "import numpy as np"
      ]
    },
    {
      "cell_type": "code",
      "execution_count": null,
      "id": "626c79d1-fff8-4ea6-8142-05d67bd408c9",
      "metadata": {
        "id": "626c79d1-fff8-4ea6-8142-05d67bd408c9",
        "outputId": "029b6fc1-2228-4bb1-dad5-c751951e53b6",
        "colab": {
          "base_uri": "https://localhost:8080/"
        }
      },
      "outputs": [
        {
          "output_type": "stream",
          "name": "stdout",
          "text": [
            "[array([1, 2]), array([3, 4]), array([5, 6])]\n"
          ]
        }
      ],
      "source": [
        "arr=np.array([1,2,3,4,5,6])\n",
        "new_arr=np.split(arr,3)\n",
        "print(new_arr)\n"
      ]
    },
    {
      "cell_type": "code",
      "execution_count": null,
      "id": "25541ae9-82a9-4e1f-875c-68e08bab9cdd",
      "metadata": {
        "id": "25541ae9-82a9-4e1f-875c-68e08bab9cdd",
        "outputId": "579e0dcd-4b66-4995-c856-1f9a5c9c244e",
        "colab": {
          "base_uri": "https://localhost:8080/"
        }
      },
      "outputs": [
        {
          "output_type": "stream",
          "name": "stdout",
          "text": [
            "[array([1, 2]), array([3, 4]), array([5, 6])]\n"
          ]
        }
      ],
      "source": [
        "# array_split an array\n",
        "arr=np.array([1,2,3,4,5,6])\n",
        "new=np.array_split(arr,3)\n",
        "print(new)"
      ]
    },
    {
      "cell_type": "code",
      "execution_count": null,
      "id": "4002d2a1-9ff3-4bd8-86d3-e53523df3e1a",
      "metadata": {
        "id": "4002d2a1-9ff3-4bd8-86d3-e53523df3e1a",
        "outputId": "392cc623-16f3-490e-e522-5ef6bd75a4a3",
        "colab": {
          "base_uri": "https://localhost:8080/"
        }
      },
      "outputs": [
        {
          "output_type": "stream",
          "name": "stdout",
          "text": [
            "[array([1, 2, 3, 4, 5, 6]), array([ 7,  8,  9, 10, 11, 12])]\n",
            "[ 7  8  9 10 11 12]\n"
          ]
        }
      ],
      "source": [
        "a=np.array([1,2,3,4,5,6,7,8,9,10,11,12])\n",
        "b=np.array_split(a,2)\n",
        "print(b)\n",
        "print(b[1])"
      ]
    },
    {
      "cell_type": "code",
      "execution_count": null,
      "id": "1f2f5a5b-2032-4ab0-9623-28105cbf1799",
      "metadata": {
        "id": "1f2f5a5b-2032-4ab0-9623-28105cbf1799",
        "outputId": "148f8e52-9d7d-4683-9fa7-e3f6b6eccfc8",
        "colab": {
          "base_uri": "https://localhost:8080/"
        }
      },
      "outputs": [
        {
          "output_type": "stream",
          "name": "stdout",
          "text": [
            "[[ 1  2]\n",
            " [ 3  4]\n",
            " [ 5  6]\n",
            " [ 7  8]\n",
            " [ 9 10]\n",
            " [11 12]]\n",
            "[array([[1, 2],\n",
            "       [3, 4],\n",
            "       [5, 6]]), array([[ 7,  8],\n",
            "       [ 9, 10],\n",
            "       [11, 12]])]\n"
          ]
        }
      ],
      "source": [
        "x=np.arange(1,13).reshape(6,2)\n",
        "print(x)\n",
        "b=np.array_split(x,2)\n",
        "print(b)"
      ]
    },
    {
      "cell_type": "code",
      "execution_count": null,
      "id": "a2cf043d-d6a2-45e5-a933-81b9921c85e1",
      "metadata": {
        "id": "a2cf043d-d6a2-45e5-a933-81b9921c85e1",
        "outputId": "a0d936bb-d3c6-4c1a-b634-b6b663bf2544",
        "colab": {
          "base_uri": "https://localhost:8080/"
        }
      },
      "outputs": [
        {
          "output_type": "stream",
          "name": "stdout",
          "text": [
            "[[ 1  2  3]\n",
            " [ 4  5  6]\n",
            " [ 7  8  9]\n",
            " [10 11 12]\n",
            " [13 14 15]\n",
            " [16 17 18]]\n",
            "[array([[ 1,  2,  3],\n",
            "       [ 4,  5,  6],\n",
            "       [ 7,  8,  9],\n",
            "       [10, 11, 12],\n",
            "       [13, 14, 15],\n",
            "       [16, 17, 18]])]\n"
          ]
        }
      ],
      "source": [
        "arr=np.arange(1,19).reshape(6,3)\n",
        "print(arr)\n",
        "new=np.array_split(arr,1)\n",
        "print(new)"
      ]
    },
    {
      "cell_type": "code",
      "execution_count": null,
      "id": "a33a5785-d5a1-43ca-9593-adc408e77933",
      "metadata": {
        "id": "a33a5785-d5a1-43ca-9593-adc408e77933",
        "outputId": "876917cb-9683-433f-9e8e-e71979db1108",
        "colab": {
          "base_uri": "https://localhost:8080/"
        }
      },
      "outputs": [
        {
          "output_type": "stream",
          "name": "stdout",
          "text": [
            "[[ 1  2  3]\n",
            " [ 4  5  6]\n",
            " [ 7  8  9]\n",
            " [10 11 12]\n",
            " [13 14 15]\n",
            " [16 17 18]]\n",
            "[array([[ 1],\n",
            "       [ 4],\n",
            "       [ 7],\n",
            "       [10],\n",
            "       [13],\n",
            "       [16]]), array([[ 2],\n",
            "       [ 5],\n",
            "       [ 8],\n",
            "       [11],\n",
            "       [14],\n",
            "       [17]]), array([[ 3],\n",
            "       [ 6],\n",
            "       [ 9],\n",
            "       [12],\n",
            "       [15],\n",
            "       [18]])]\n"
          ]
        }
      ],
      "source": [
        "x=np.arange(1,19).reshape(6,3)\n",
        "print(x)\n",
        "y=np.hsplit(x,3) #colum wise splitting[[ 1  2  3]\n",
        "print(y)"
      ]
    },
    {
      "cell_type": "code",
      "execution_count": null,
      "id": "b17291e2-6022-4a87-80af-4e64d6e6ab83",
      "metadata": {
        "id": "b17291e2-6022-4a87-80af-4e64d6e6ab83",
        "outputId": "e6bf6bcc-2dc7-4f94-ff4c-f00f225b4a49",
        "colab": {
          "base_uri": "https://localhost:8080/"
        }
      },
      "outputs": [
        {
          "output_type": "stream",
          "name": "stdout",
          "text": [
            "[[ 1  2  3]\n",
            " [ 4  5  6]\n",
            " [ 7  8  9]\n",
            " [10 11 12]\n",
            " [13 14 15]\n",
            " [16 17 18]]\n",
            "[array([[1, 2, 3],\n",
            "       [4, 5, 6]]), array([[ 7,  8,  9],\n",
            "       [10, 11, 12]]), array([[13, 14, 15],\n",
            "       [16, 17, 18]])]\n"
          ]
        }
      ],
      "source": [
        "x=np.arange(1,19).reshape(6,3)\n",
        "print(x)\n",
        "y=np.vsplit(x,3)\n",
        "print(y)"
      ]
    },
    {
      "cell_type": "code",
      "execution_count": null,
      "id": "688024d4-23cb-440b-9570-3b264fbfe997",
      "metadata": {
        "id": "688024d4-23cb-440b-9570-3b264fbfe997",
        "outputId": "eb9fc9cb-f729-4494-a159-510943462547",
        "colab": {
          "base_uri": "https://localhost:8080/"
        }
      },
      "outputs": [
        {
          "output_type": "stream",
          "name": "stdout",
          "text": [
            "[[[ 1  2  3  4]\n",
            "  [ 5  6  7  8]\n",
            "  [ 9 10 11 12]]\n",
            "\n",
            " [[13 14 15 16]\n",
            "  [17 18 19 20]\n",
            "  [21 22 23 24]]]\n",
            "[array([[[ 1,  2],\n",
            "        [ 5,  6],\n",
            "        [ 9, 10]],\n",
            "\n",
            "       [[13, 14],\n",
            "        [17, 18],\n",
            "        [21, 22]]]), array([[[ 3,  4],\n",
            "        [ 7,  8],\n",
            "        [11, 12]],\n",
            "\n",
            "       [[15, 16],\n",
            "        [19, 20],\n",
            "        [23, 24]]])]\n"
          ]
        }
      ],
      "source": [
        "#dsplit\n",
        "a=np.arange(1,25).reshape(2,3,4)\n",
        "print(a)\n",
        "new=np.dsplit(a,2)\n",
        "print(new)"
      ]
    }
  ],
  "metadata": {
    "kernelspec": {
      "display_name": "Python 3 (ipykernel)",
      "language": "python",
      "name": "python3"
    },
    "language_info": {
      "codemirror_mode": {
        "name": "ipython",
        "version": 3
      },
      "file_extension": ".py",
      "mimetype": "text/x-python",
      "name": "python",
      "nbconvert_exporter": "python",
      "pygments_lexer": "ipython3",
      "version": "3.12.4"
    },
    "colab": {
      "provenance": []
    }
  },
  "nbformat": 4,
  "nbformat_minor": 5
}