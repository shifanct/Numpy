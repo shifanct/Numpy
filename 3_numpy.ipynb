{
  "cells": [
    {
      "cell_type": "code",
      "execution_count": null,
      "id": "4e16b6a9-9997-45c3-ad52-a21ae6944102",
      "metadata": {
        "id": "4e16b6a9-9997-45c3-ad52-a21ae6944102"
      },
      "outputs": [],
      "source": [
        "import numpy as np"
      ]
    },
    {
      "cell_type": "markdown",
      "id": "94140807-e5d2-4236-bc63-4dae767924c6",
      "metadata": {
        "id": "94140807-e5d2-4236-bc63-4dae767924c6"
      },
      "source": [
        "# Numpy array searching"
      ]
    },
    {
      "cell_type": "code",
      "execution_count": null,
      "id": "ebe2cecf-2944-4ad8-9731-4fee29ae6ad3",
      "metadata": {
        "id": "ebe2cecf-2944-4ad8-9731-4fee29ae6ad3",
        "outputId": "bf145cc8-1a4c-4d7e-a3d5-a0b39233ad61"
      },
      "outputs": [
        {
          "name": "stdout",
          "output_type": "stream",
          "text": [
            "(array([2], dtype=int64),)\n"
          ]
        }
      ],
      "source": [
        "#where\n",
        "a=np.array([1,2,3,4,5])\n",
        "b=np.where(a==3)\n",
        "print(b)"
      ]
    },
    {
      "cell_type": "code",
      "execution_count": null,
      "id": "7a6cefdd-828f-4e16-a26c-00a46e2e5952",
      "metadata": {
        "id": "7a6cefdd-828f-4e16-a26c-00a46e2e5952",
        "outputId": "8db6fdd6-0fca-4e52-c932-61d03911d098"
      },
      "outputs": [
        {
          "name": "stdout",
          "output_type": "stream",
          "text": [
            "(array([1], dtype=int64), array([0], dtype=int64))\n"
          ]
        }
      ],
      "source": [
        "arr=np.array([[1,2,3],[4,5,6]])\n",
        "ar=np.where(arr==4)\n",
        "print(ar)"
      ]
    },
    {
      "cell_type": "code",
      "execution_count": null,
      "id": "63979b2a-728f-42cd-96c6-10a2b4b19737",
      "metadata": {
        "id": "63979b2a-728f-42cd-96c6-10a2b4b19737",
        "outputId": "b4d321ef-dec7-4a2d-cac5-97111f012de6"
      },
      "outputs": [
        {
          "name": "stdout",
          "output_type": "stream",
          "text": [
            "(array([0], dtype=int64), array([1], dtype=int64), array([2], dtype=int64))\n"
          ]
        }
      ],
      "source": [
        "x=np.array([[[1,2,3],[4,5,6]],[[7,8,9],[10,11,12]]])\n",
        "y=np.where(x==6)\n",
        "print(y)"
      ]
    },
    {
      "cell_type": "code",
      "execution_count": null,
      "id": "cffb3a09-ac49-46cf-bd12-b3ef45404389",
      "metadata": {
        "id": "cffb3a09-ac49-46cf-bd12-b3ef45404389",
        "outputId": "3404ff7a-853a-4217-8791-c7d20b71e54a"
      },
      "outputs": [
        {
          "name": "stdout",
          "output_type": "stream",
          "text": [
            "(array([0, 1, 1], dtype=int64), array([1, 0, 1], dtype=int64), array([1, 1, 2], dtype=int64))\n"
          ]
        }
      ],
      "source": [
        "x=np.array([[[1,2,3],[4,8,6]],[[7,8,9],[10,11,8]]])\n",
        "y=np.where(x==8)\n",
        "print(y)"
      ]
    },
    {
      "cell_type": "code",
      "execution_count": null,
      "id": "23c6c65e-68c1-4d70-8d1b-6776193ab40a",
      "metadata": {
        "id": "23c6c65e-68c1-4d70-8d1b-6776193ab40a",
        "outputId": "4455966a-61c5-4f92-b0a0-388502b31c67",
        "colab": {
          "base_uri": "https://localhost:8080/"
        }
      },
      "outputs": [
        {
          "output_type": "stream",
          "name": "stdout",
          "text": [
            "0\n"
          ]
        }
      ],
      "source": [
        "#search sorted\n",
        "a=np.array([1,2,0,4,5,6])\n",
        "b=np.searchsorted(a,0)\n",
        "print(b)"
      ]
    },
    {
      "cell_type": "code",
      "execution_count": null,
      "id": "ae53b710-19b7-4176-abcc-943b4eb70caa",
      "metadata": {
        "id": "ae53b710-19b7-4176-abcc-943b4eb70caa",
        "outputId": "1d5d5a0b-2df6-4f81-80f9-30f0ff26a5fe"
      },
      "outputs": [
        {
          "name": "stdout",
          "output_type": "stream",
          "text": [
            "3\n"
          ]
        }
      ],
      "source": [
        "a=np.array([1,2,3,7,6,5])\n",
        "b=np.searchsorted(a,5)\n",
        "print(b)"
      ]
    },
    {
      "cell_type": "code",
      "execution_count": null,
      "id": "422e5303-5801-417e-ac7d-c9723bffa6f3",
      "metadata": {
        "id": "422e5303-5801-417e-ac7d-c9723bffa6f3"
      },
      "outputs": [],
      "source": [
        "import numpy as np"
      ]
    },
    {
      "cell_type": "markdown",
      "id": "230e30c7-3b7a-4ed4-a3a4-ea71471247a5",
      "metadata": {
        "id": "230e30c7-3b7a-4ed4-a3a4-ea71471247a5"
      },
      "source": [
        "# Array sorting"
      ]
    },
    {
      "cell_type": "code",
      "execution_count": null,
      "id": "8df6aedc-948a-4c69-9101-e3a396c7d04c",
      "metadata": {
        "id": "8df6aedc-948a-4c69-9101-e3a396c7d04c",
        "outputId": "32cf57c6-4048-4d7a-9ed3-e1707cd3bbf0"
      },
      "outputs": [
        {
          "name": "stdout",
          "output_type": "stream",
          "text": [
            "[1 2 3 4 5]\n",
            "[1 2 5 4 3]\n"
          ]
        }
      ],
      "source": [
        "arr=np.array([1,2,5,4,3])\n",
        "print(np.sort(arr))\n",
        "print(arr)"
      ]
    },
    {
      "cell_type": "code",
      "execution_count": null,
      "id": "fb18e057-706b-4348-b9da-fcbf32501b47",
      "metadata": {
        "id": "fb18e057-706b-4348-b9da-fcbf32501b47",
        "outputId": "c929223f-aa7c-4023-d9ee-32ddd814cf91"
      },
      "outputs": [
        {
          "name": "stdout",
          "output_type": "stream",
          "text": [
            "[1 2 3 4 5]\n"
          ]
        }
      ],
      "source": [
        "arr=np.array([1,2,5,4,3])\n",
        "arr.sort()\n",
        "print(arr)"
      ]
    },
    {
      "cell_type": "code",
      "execution_count": null,
      "id": "54e51858-4f0c-4293-b3ca-14c5cd8c3c74",
      "metadata": {
        "id": "54e51858-4f0c-4293-b3ca-14c5cd8c3c74",
        "outputId": "e3dd53ba-dcc9-4d6c-f90c-8b0f01ebd290"
      },
      "outputs": [
        {
          "name": "stdout",
          "output_type": "stream",
          "text": [
            "[[1 2 5 8]\n",
            " [3 4 7 8]]\n",
            "[[1 2 8 5]\n",
            " [4 7 3 8]]\n"
          ]
        }
      ],
      "source": [
        "ar=np.array([[1,2,8,5],[4,7,3,8]])\n",
        "print(np.sort(ar))\n",
        "print(ar)"
      ]
    },
    {
      "cell_type": "code",
      "execution_count": null,
      "id": "bbbee749-e413-4671-afc3-d4ab4599150d",
      "metadata": {
        "id": "bbbee749-e413-4671-afc3-d4ab4599150d",
        "outputId": "ee816764-112c-4907-a7bb-876ec0250cfe"
      },
      "outputs": [
        {
          "name": "stdout",
          "output_type": "stream",
          "text": [
            "[[1 2 5 8]\n",
            " [3 4 7 8]]\n"
          ]
        }
      ],
      "source": [
        "abc=np.array([[1,2,8,5],[4,7,3,8]])\n",
        "abc.sort()\n",
        "print(abc)"
      ]
    },
    {
      "cell_type": "code",
      "execution_count": null,
      "id": "03cb02d5-16ee-4aab-810d-696f9968fc58",
      "metadata": {
        "id": "03cb02d5-16ee-4aab-810d-696f9968fc58",
        "outputId": "1d1e5e48-2b5d-4ea9-fe59-22acd2a5d741"
      },
      "outputs": [
        {
          "name": "stdout",
          "output_type": "stream",
          "text": [
            "['apple' 'kiwi' 'orange' 'shifan']\n"
          ]
        }
      ],
      "source": [
        "a=np.array([\"shifan\",\"apple\",\"kiwi\",\"orange\"])\n",
        "print(np.sort(a))"
      ]
    },
    {
      "cell_type": "code",
      "execution_count": null,
      "id": "dca1031c-be4c-4209-b50b-d94de8ec0d7e",
      "metadata": {
        "id": "dca1031c-be4c-4209-b50b-d94de8ec0d7e",
        "outputId": "3c4cd8a5-08c7-43bb-a6c9-4f10dc7b400b"
      },
      "outputs": [
        {
          "name": "stdout",
          "output_type": "stream",
          "text": [
            "[False False  True  True]\n"
          ]
        }
      ],
      "source": [
        "x=np.array([True,False,True,False])\n",
        "a=np.sort(x)\n",
        "print(a)"
      ]
    },
    {
      "cell_type": "code",
      "execution_count": null,
      "id": "b04708f3-57cb-443e-807f-af3bba593c3c",
      "metadata": {
        "id": "b04708f3-57cb-443e-807f-af3bba593c3c",
        "outputId": "7473ed2e-5598-4c79-c4a9-8320f1f98849"
      },
      "outputs": [
        {
          "name": "stdout",
          "output_type": "stream",
          "text": [
            "[16 36 44 30 38 46 34 19 19 15]\n"
          ]
        }
      ],
      "source": [
        "a=np.random.randint(1,50,10)\n",
        "print(a)"
      ]
    },
    {
      "cell_type": "markdown",
      "id": "b658b02f-3938-4ca3-aba8-7aecf720eb2a",
      "metadata": {
        "id": "b658b02f-3938-4ca3-aba8-7aecf720eb2a"
      },
      "source": [
        "# Filtering arrays\n"
      ]
    },
    {
      "cell_type": "code",
      "execution_count": null,
      "id": "eeead363-f32f-4da6-acc5-042b5016d855",
      "metadata": {
        "id": "eeead363-f32f-4da6-acc5-042b5016d855",
        "outputId": "3f717e19-db7b-4ce5-ad07-a6ce53df8188"
      },
      "outputs": [
        {
          "name": "stdout",
          "output_type": "stream",
          "text": [
            "[2 4]\n"
          ]
        }
      ],
      "source": [
        "a=np.array([1,2,3,4])\n",
        "b=np.array([False,True,False,True])\n",
        "new=a[b]\n",
        "print(new)"
      ]
    },
    {
      "cell_type": "code",
      "execution_count": null,
      "id": "f63fbbaa-33bb-4b8d-ad89-e5261341c1b7",
      "metadata": {
        "id": "f63fbbaa-33bb-4b8d-ad89-e5261341c1b7",
        "outputId": "b142a239-4997-408e-86e2-c1d5c38df3d5",
        "colab": {
          "base_uri": "https://localhost:8080/"
        }
      },
      "outputs": [
        {
          "output_type": "stream",
          "name": "stdout",
          "text": [
            "[68 34 14 30 49 84 57 85 60  8]\n",
            "[True, False, False, False, False, True, True, True, True, False]\n",
            "[68 84 57 85 60]\n"
          ]
        }
      ],
      "source": [
        "arr=np.random.randint(1,100,10)\n",
        "filter_array=[]\n",
        "for i in arr:\n",
        "  if i>50:\n",
        "    filter_array.append(True)\n",
        "  else:\n",
        "    filter_array.append(False)\n",
        "new_array=arr[filter_array]\n",
        "print(arr)\n",
        "print(filter_array)\n",
        "print(new_array)"
      ]
    },
    {
      "cell_type": "code",
      "execution_count": null,
      "id": "52498f26-93a9-4bb4-b95d-b86e418ae1b8",
      "metadata": {
        "id": "52498f26-93a9-4bb4-b95d-b86e418ae1b8",
        "outputId": "75e426c6-ddbb-4330-e081-c0cb00955150",
        "colab": {
          "base_uri": "https://localhost:8080/"
        }
      },
      "outputs": [
        {
          "output_type": "stream",
          "name": "stdout",
          "text": [
            "[42 44 45]\n"
          ]
        }
      ],
      "source": [
        "a=np.array([38,40,42,44,45])\n",
        "ab=a>40\n",
        "print(a[ab])"
      ]
    },
    {
      "cell_type": "code",
      "execution_count": null,
      "id": "25d78818-b2d7-451c-b1a1-e915179f8ba7",
      "metadata": {
        "id": "25d78818-b2d7-451c-b1a1-e915179f8ba7",
        "outputId": "3703c38d-57fe-4274-fe1c-7af993fab103",
        "colab": {
          "base_uri": "https://localhost:8080/"
        }
      },
      "outputs": [
        {
          "output_type": "stream",
          "name": "stdout",
          "text": [
            "[74 60 23 62 17 21 51 78 82 29]\n",
            "[True, True, False, True, False, False, False, True, True, False]\n",
            "[74 60 62 78 82]\n"
          ]
        }
      ],
      "source": [
        "#even numbers\n",
        "arr=np.array([74,60,23,62,17,21,51,78,82,29])\n",
        "filter_array=[]\n",
        "for i in arr:\n",
        "  if i%2==0:\n",
        "    filter_array.append(True)\n",
        "  else:\n",
        "    filter_array.append(False)\n",
        "new=arr[filter_array]\n",
        "print(arr)\n",
        "print(filter_array)\n",
        "print(new)"
      ]
    },
    {
      "cell_type": "code",
      "source": [
        "a=np.array([[74,60,23,62,17,21,51,78,82,29]])\n",
        "x=a[a%2==0]\n",
        "print(x)"
      ],
      "metadata": {
        "id": "G0h_Uz1PqiUq",
        "colab": {
          "base_uri": "https://localhost:8080/"
        },
        "outputId": "d4a80169-f1ed-4b50-a892-8e55e5277890"
      },
      "id": "G0h_Uz1PqiUq",
      "execution_count": null,
      "outputs": [
        {
          "output_type": "stream",
          "name": "stdout",
          "text": [
            "[74 60 62 78 82]\n"
          ]
        }
      ]
    },
    {
      "cell_type": "code",
      "execution_count": null,
      "id": "054401df-70ba-4811-a3fd-7be9da6f8534",
      "metadata": {
        "id": "054401df-70ba-4811-a3fd-7be9da6f8534",
        "outputId": "0c6689a8-b4ae-468d-82d1-1bda775ffcb5"
      },
      "outputs": [
        {
          "name": "stdout",
          "output_type": "stream",
          "text": [
            "[0, -1, 2, -1, 4, -1, 6, -1, 8]\n"
          ]
        }
      ],
      "source": [
        "#replace all the odd numbers in the given array by -1\n",
        "arr=np.array([0,1,2,3,4,5,6,7,8])\n",
        "new=[]\n",
        "for i in arr:\n",
        "    if i%2==0:\n",
        "        new.append(i)\n",
        "    else:\n",
        "        new.append(-1)\n",
        "print(new)"
      ]
    },
    {
      "cell_type": "code",
      "execution_count": null,
      "id": "0174bc5a-9b7f-444b-9101-0387176307de",
      "metadata": {
        "id": "0174bc5a-9b7f-444b-9101-0387176307de",
        "outputId": "2df013f9-2efe-4cb1-d0cb-be20b8626c89",
        "colab": {
          "base_uri": "https://localhost:8080/"
        }
      },
      "outputs": [
        {
          "output_type": "stream",
          "name": "stdout",
          "text": [
            "[-1  2 -1  4]\n"
          ]
        }
      ],
      "source": [
        "ac=np.array([1,2,3,4])\n",
        "ac[ac%2 !=0]=-1\n",
        "print(ac)"
      ]
    },
    {
      "cell_type": "code",
      "execution_count": null,
      "id": "d65a9770-cbfa-4d83-9fb8-241f5c18b2d1",
      "metadata": {
        "id": "d65a9770-cbfa-4d83-9fb8-241f5c18b2d1",
        "outputId": "06816440-1660-4317-f1e3-77a64821f870"
      },
      "outputs": [
        {
          "name": "stdout",
          "output_type": "stream",
          "text": [
            "[ 0 -1  2 -1  4 -1  6 -1  8]\n"
          ]
        }
      ],
      "source": [
        "arr=np.array([0,1,2,3,4,5,6,7,8])\n",
        "arr[1::2]=-1\n",
        "print(arr)"
      ]
    },
    {
      "cell_type": "code",
      "execution_count": null,
      "id": "e61b9aae-b51f-43cc-8bdf-00ed8e4e2302",
      "metadata": {
        "id": "e61b9aae-b51f-43cc-8bdf-00ed8e4e2302",
        "outputId": "7629dbc8-fb1d-4f9f-c547-ab89b94da87c"
      },
      "outputs": [
        {
          "name": "stdout",
          "output_type": "stream",
          "text": [
            "[[0 1 2]\n",
            " [3 4 5]\n",
            " [6 7 8]]\n"
          ]
        }
      ],
      "source": [
        "#convert the given 1-D array two 2_d array with 3 rows\n",
        "array1=np.array([0,1,2,3,4,5,6,7,8]).reshape(3,3)\n",
        "print(array1)"
      ]
    },
    {
      "cell_type": "code",
      "execution_count": null,
      "id": "379f3978-8c58-481d-a893-a8332142e0fd",
      "metadata": {
        "id": "379f3978-8c58-481d-a893-a8332142e0fd"
      },
      "outputs": [],
      "source": [
        "import numpy as np"
      ]
    },
    {
      "cell_type": "code",
      "execution_count": null,
      "id": "ebd07df2-274c-482f-ab86-d81edd3b92a7",
      "metadata": {
        "id": "ebd07df2-274c-482f-ab86-d81edd3b92a7",
        "outputId": "69d682db-71ee-4f1f-97b7-0952dba9a8fd"
      },
      "outputs": [
        {
          "name": "stdout",
          "output_type": "stream",
          "text": [
            "[ 1  2  3  4  5  6  7  8  9 10 11 12 13 14 15 16 17 18 19 20 21 22 23 24\n",
            " 25 26 27 28 29 30 31 32 33 34 35 36 37 38 39 40 41 42 43 44 45 46 47 48\n",
            " 49]\n",
            "[ 1  4  9 16 25 36 49]\n"
          ]
        }
      ],
      "source": [
        "#create a numpy array with elements in range of 1 to 50, then filter only perfect squares from it\n",
        "a=np.arange(1,50)\n",
        "print(a)\n",
        "filter_array=[]\n",
        "for i in a:\n",
        "    if i**0.5 == int(i**0.5):\n",
        "        filter_array.append(True)\n",
        "    else:\n",
        "        filter_array.append(False)\n",
        "new=a[filter_array]\n",
        "print(new)"
      ]
    },
    {
      "cell_type": "code",
      "execution_count": null,
      "id": "08266d73-aa06-4de1-8cd6-247686e7de85",
      "metadata": {
        "id": "08266d73-aa06-4de1-8cd6-247686e7de85",
        "outputId": "e070e3a9-fdd2-4b03-849a-1b28146c6d3f"
      },
      "outputs": [
        {
          "name": "stdout",
          "output_type": "stream",
          "text": [
            "[ 1  4  9 16 25 36 49]\n"
          ]
        }
      ],
      "source": [
        "arr=np.arange(1,50)\n",
        "a=(arr**0.5).astype(\"i\")==(arr**0.5)\n",
        "print(arr[a])"
      ]
    },
    {
      "cell_type": "markdown",
      "id": "0432cf31-f7f8-4f0c-8572-fd0df64df4c9",
      "metadata": {
        "id": "0432cf31-f7f8-4f0c-8572-fd0df64df4c9"
      },
      "source": [
        "# array joining"
      ]
    },
    {
      "cell_type": "markdown",
      "id": "885165a2-bdc4-410e-9079-bca08721b75c",
      "metadata": {
        "id": "885165a2-bdc4-410e-9079-bca08721b75c"
      },
      "source": [
        "## concatenate"
      ]
    },
    {
      "cell_type": "code",
      "execution_count": null,
      "id": "bb5ceed8-e447-4c41-91ff-d7eaeae44690",
      "metadata": {
        "id": "bb5ceed8-e447-4c41-91ff-d7eaeae44690",
        "outputId": "e37d8c54-eb77-4d46-e3b6-6a4f77ddf809"
      },
      "outputs": [
        {
          "name": "stdout",
          "output_type": "stream",
          "text": [
            "[1 2 3 3 4 5]\n"
          ]
        }
      ],
      "source": [
        "#concatenation along axis=0\n",
        "a=np.array([1,2,3])\n",
        "b=np.array([3,4,5])\n",
        "c=np.concatenate((a,b),axis=0)\n",
        "print(c)   #without axis it will be same"
      ]
    },
    {
      "cell_type": "code",
      "execution_count": null,
      "id": "8aa3dbf7-d6a0-4256-9627-93312b278da6",
      "metadata": {
        "id": "8aa3dbf7-d6a0-4256-9627-93312b278da6",
        "outputId": "19da92b7-3080-4c27-fe2a-dbf09b808f27"
      },
      "outputs": [
        {
          "name": "stdout",
          "output_type": "stream",
          "text": [
            "[[1 2 3]\n",
            " [4 5 6]\n",
            " [3 4 5]\n",
            " [6 7 8]]\n"
          ]
        }
      ],
      "source": [
        "a=np.array([[1,2,3],[4,5,6]])\n",
        "b=np.array([[3,4,5],[6,7,8]])\n",
        "c=np.concatenate((a,b),axis=0)\n",
        "print(c)"
      ]
    },
    {
      "cell_type": "code",
      "execution_count": null,
      "id": "48441eb0-f206-447a-87a7-87feb76c8e95",
      "metadata": {
        "id": "48441eb0-f206-447a-87a7-87feb76c8e95",
        "outputId": "c47f1a31-6170-4f9e-c550-63e8bf7ae9e3"
      },
      "outputs": [
        {
          "name": "stdout",
          "output_type": "stream",
          "text": [
            "[[[ 1  2  3]\n",
            "  [ 4  5  6]]\n",
            "\n",
            " [[ 1  1  3]\n",
            "  [ 2  2  3]]\n",
            "\n",
            " [[ 3  4  5]\n",
            "  [ 6  7  8]]\n",
            "\n",
            " [[ 9 10 11]\n",
            "  [12 13 14]]]\n"
          ]
        }
      ],
      "source": [
        "a=np.array([[[1,2,3],[4,5,6]],[[1,1,3],[2,2,3]]])\n",
        "b=np.array([[[3,4,5],[6,7,8]],[[9,10,11],[12,13,14]]])\n",
        "c=np.concatenate((a,b),axis=0)\n",
        "print(c)"
      ]
    },
    {
      "cell_type": "code",
      "execution_count": null,
      "id": "e98192e3-22b7-4331-af74-415de92358f3",
      "metadata": {
        "id": "e98192e3-22b7-4331-af74-415de92358f3",
        "outputId": "55bcfaaf-1e9e-467d-b218-1747674403ed"
      },
      "outputs": [
        {
          "name": "stdout",
          "output_type": "stream",
          "text": [
            "[[1 2 3 3 4 5]\n",
            " [4 5 6 6 7 8]]\n"
          ]
        }
      ],
      "source": [
        "#concate along axis 1\n",
        "a=np.array([[1,2,3],[4,5,6]])\n",
        "b=np.array([[3,4,5],[6,7,8]])\n",
        "c=np.concatenate((a,b),axis=1)\n",
        "print(c)     #joining elements in both array"
      ]
    },
    {
      "cell_type": "code",
      "execution_count": null,
      "id": "543813bd-0e15-4864-9050-d69e4e5f8f03",
      "metadata": {
        "id": "543813bd-0e15-4864-9050-d69e4e5f8f03",
        "outputId": "5c507972-fdf1-45a5-a366-048c49fa6ad4"
      },
      "outputs": [
        {
          "name": "stdout",
          "output_type": "stream",
          "text": [
            "[[[ 1  2  3]\n",
            "  [ 4  5  6]\n",
            "  [ 3  4  5]\n",
            "  [ 6  7  8]]\n",
            "\n",
            " [[ 1  1  3]\n",
            "  [ 2  2  3]\n",
            "  [ 9 10 11]\n",
            "  [12 13 14]]]\n"
          ]
        }
      ],
      "source": [
        "a=np.array([[[1,2,3],[4,5,6]],[[1,1,3],[2,2,3]]])\n",
        "b=np.array([[[3,4,5],[6,7,8]],[[9,10,11],[12,13,14]]])\n",
        "c=np.concatenate((a,b),axis=1)\n",
        "print(c)     #joining elements in both array"
      ]
    },
    {
      "cell_type": "code",
      "execution_count": null,
      "id": "3b119d2a-25d1-49b8-8356-1b33817c2b1b",
      "metadata": {
        "id": "3b119d2a-25d1-49b8-8356-1b33817c2b1b",
        "outputId": "6719ad42-e749-40d3-c22a-63d0f02c125a"
      },
      "outputs": [
        {
          "name": "stdout",
          "output_type": "stream",
          "text": [
            "[[[ 1  2  3  3  4  5]\n",
            "  [ 4  5  6  6  7  8]]\n",
            "\n",
            " [[ 1  1  3  9 10 11]\n",
            "  [ 2  2  3 12 13 14]]]\n"
          ]
        }
      ],
      "source": [
        "#concatinate along axis 2\n",
        "a=np.array([[[1,2,3],[4,5,6]],[[1,1,3],[2,2,3]]])\n",
        "b=np.array([[[3,4,5],[6,7,8]],[[9,10,11],[12,13,14]]])\n",
        "c=np.concatenate((a,b),axis=2)\n",
        "print(c)\n",
        "        #joining 1d's in both array"
      ]
    },
    {
      "cell_type": "code",
      "execution_count": null,
      "id": "d5a5937c-1a8d-48e8-902f-4be39165fb9d",
      "metadata": {
        "id": "d5a5937c-1a8d-48e8-902f-4be39165fb9d",
        "outputId": "63fbd577-7ef5-42dd-fc6f-5fe1b9b073a3"
      },
      "outputs": [
        {
          "name": "stdout",
          "output_type": "stream",
          "text": [
            "[44 42  3  5 31  5  6  5 34]\n"
          ]
        }
      ],
      "source": [
        "#create an ndarray containing 9 random numbers between 1 and 50\n",
        "r=np.random.randint(1,50,9)\n",
        "print(r)"
      ]
    },
    {
      "cell_type": "markdown",
      "id": "a01df554-e16b-46d4-837b-cbcaa14d1de8",
      "metadata": {
        "id": "a01df554-e16b-46d4-837b-cbcaa14d1de8"
      },
      "source": [
        "## stacking"
      ]
    },
    {
      "cell_type": "code",
      "execution_count": null,
      "id": "f3c1a04a-cfa7-49f0-9a84-d878f4c73719",
      "metadata": {
        "id": "f3c1a04a-cfa7-49f0-9a84-d878f4c73719",
        "outputId": "bd1f13e0-7c21-4e3b-e66b-7c4e9b67dde0"
      },
      "outputs": [
        {
          "name": "stdout",
          "output_type": "stream",
          "text": [
            "[[1 2 3]\n",
            " [4 5 6]]\n"
          ]
        }
      ],
      "source": [
        "#stacking along axis 0\n",
        "a=np.array([1,2,3])\n",
        "b=np.array([4,5,6])\n",
        "c=np.stack((a,b),axis=0)\n",
        "print(c)"
      ]
    },
    {
      "cell_type": "code",
      "execution_count": null,
      "id": "6e83cbce-bd36-4a0e-a895-5f5d7b2e444b",
      "metadata": {
        "id": "6e83cbce-bd36-4a0e-a895-5f5d7b2e444b",
        "outputId": "9fb52d30-d772-4fb7-ff2a-886309710280"
      },
      "outputs": [
        {
          "name": "stdout",
          "output_type": "stream",
          "text": [
            "[[[1 2 3]\n",
            "  [4 5 6]]\n",
            "\n",
            " [[4 5 6]\n",
            "  [7 8 9]]]\n"
          ]
        }
      ],
      "source": [
        "a=np.array([[1,2,3],[4,5,6]])\n",
        "b=np.array([[4,5,6],[7,8,9]])\n",
        "c=np.stack((a,b),axis=0)\n",
        "print(c)"
      ]
    },
    {
      "cell_type": "code",
      "execution_count": null,
      "id": "3843a863-d23b-4168-9695-908bf45152a9",
      "metadata": {
        "id": "3843a863-d23b-4168-9695-908bf45152a9",
        "outputId": "df29cfba-b16a-4201-c014-e754aa2bf067"
      },
      "outputs": [
        {
          "name": "stdout",
          "output_type": "stream",
          "text": [
            "[[[[ 1  2]\n",
            "   [ 3  4]]\n",
            "\n",
            "  [[ 5  6]\n",
            "   [ 7  8]]]\n",
            "\n",
            "\n",
            " [[[ 9 10]\n",
            "   [11 12]]\n",
            "\n",
            "  [[12 14]\n",
            "   [15 16]]]]\n"
          ]
        }
      ],
      "source": [
        "a=np.array([[[1,2],[3,4]],[[5,6],[7,8]]])\n",
        "b=np.array([[[9,10],[11,12]],[[12,14],[15,16]]])\n",
        "c=np.stack((a,b),axis=0)\n",
        "print(c)"
      ]
    },
    {
      "cell_type": "code",
      "execution_count": null,
      "id": "640fb0f4-9ed5-4d0e-8fe4-5ff7e37d9bd0",
      "metadata": {
        "id": "640fb0f4-9ed5-4d0e-8fe4-5ff7e37d9bd0",
        "outputId": "52efb9da-74e8-402d-9d16-3dc88af48bdc"
      },
      "outputs": [
        {
          "name": "stdout",
          "output_type": "stream",
          "text": [
            "[[1 4]\n",
            " [2 5]\n",
            " [3 6]]\n"
          ]
        }
      ],
      "source": [
        "#stacking along axis=1\n",
        "a=np.array([1,2,3])\n",
        "b=np.array([4,5,6])\n",
        "c=np.stack((a,b),axis=1)\n",
        "print(c)    #joining both array elements"
      ]
    },
    {
      "cell_type": "code",
      "execution_count": null,
      "id": "bcbc6a8e-f9d6-4209-99af-f0d2c19a65ba",
      "metadata": {
        "id": "bcbc6a8e-f9d6-4209-99af-f0d2c19a65ba",
        "outputId": "226afffa-f875-473e-87f5-47d37850ee33"
      },
      "outputs": [
        {
          "name": "stdout",
          "output_type": "stream",
          "text": [
            "[[[1 2 3]\n",
            "  [4 5 6]]\n",
            "\n",
            " [[4 5 6]\n",
            "  [7 8 9]]]\n"
          ]
        }
      ],
      "source": [
        "a=np.array([[1,2,3],[4,5,6]])\n",
        "b=np.array([[4,5,6],[7,8,9]])\n",
        "c=np.stack((a,b),axis=1)\n",
        "print(c)    #joining both array elements"
      ]
    },
    {
      "cell_type": "code",
      "execution_count": null,
      "id": "d99de59c-18a5-4e3c-bee3-dfe1cad18036",
      "metadata": {
        "id": "d99de59c-18a5-4e3c-bee3-dfe1cad18036",
        "outputId": "d9ed0a11-d2bc-41bd-f009-a784c4e54d0c"
      },
      "outputs": [
        {
          "name": "stdout",
          "output_type": "stream",
          "text": [
            "[[[[ 1  2]\n",
            "   [ 3  4]]\n",
            "\n",
            "  [[ 9 10]\n",
            "   [11 12]]]\n",
            "\n",
            "\n",
            " [[[ 5  6]\n",
            "   [ 7  8]]\n",
            "\n",
            "  [[12 14]\n",
            "   [15 16]]]]\n"
          ]
        }
      ],
      "source": [
        "a=np.array([[[1,2],[3,4]],[[5,6],[7,8]]])\n",
        "b=np.array([[[9,10],[11,12]],[[12,14],[15,16]]])\n",
        "c=np.stack((a,b),axis=1)\n",
        "print(c)"
      ]
    },
    {
      "cell_type": "code",
      "execution_count": null,
      "id": "7ab94d2b-973e-4ea2-a57e-fbd7f1fe03de",
      "metadata": {
        "id": "7ab94d2b-973e-4ea2-a57e-fbd7f1fe03de",
        "outputId": "45ab2522-7cf8-4f91-b9db-1eeb7d92d343"
      },
      "outputs": [
        {
          "name": "stdout",
          "output_type": "stream",
          "text": [
            "[[[1 4]\n",
            "  [2 5]\n",
            "  [3 6]]\n",
            "\n",
            " [[4 7]\n",
            "  [5 8]\n",
            "  [6 9]]]\n"
          ]
        }
      ],
      "source": [
        "#stacking along axis=2\n",
        "a=np.array([[1,2,3],[4,5,6]])\n",
        "b=np.array([[4,5,6],[7,8,9]])\n",
        "c=np.stack((a,b),axis=2)\n",
        "print(c)"
      ]
    },
    {
      "cell_type": "code",
      "execution_count": null,
      "id": "576749c7-3954-4f0f-9d6a-cf2d7988bc5c",
      "metadata": {
        "id": "576749c7-3954-4f0f-9d6a-cf2d7988bc5c",
        "outputId": "663397ec-6c97-4d13-90ce-1af93cbe7240"
      },
      "outputs": [
        {
          "name": "stdout",
          "output_type": "stream",
          "text": [
            "[[[[ 1  2]\n",
            "   [ 9 10]]\n",
            "\n",
            "  [[ 3  4]\n",
            "   [11 12]]]\n",
            "\n",
            "\n",
            " [[[ 5  6]\n",
            "   [12 14]]\n",
            "\n",
            "  [[ 7  8]\n",
            "   [15 16]]]]\n"
          ]
        }
      ],
      "source": [
        "a=np.array([[[1,2],[3,4]],[[5,6],[7,8]]])\n",
        "b=np.array([[[9,10],[11,12]],[[12,14],[15,16]]])\n",
        "c=np.stack((a,b),axis=2)\n",
        "print(c)"
      ]
    },
    {
      "cell_type": "markdown",
      "id": "0052aa15-951e-49ba-8f95-3a4cd7622072",
      "metadata": {
        "id": "0052aa15-951e-49ba-8f95-3a4cd7622072"
      },
      "source": [
        "# random"
      ]
    },
    {
      "cell_type": "code",
      "execution_count": null,
      "id": "ee8f0c4f-e2c6-4409-b095-9a87afee4481",
      "metadata": {
        "id": "ee8f0c4f-e2c6-4409-b095-9a87afee4481",
        "outputId": "485f0a3a-cdad-4e0c-e23e-54c7fb96e3ac"
      },
      "outputs": [
        {
          "name": "stdout",
          "output_type": "stream",
          "text": [
            "16\n"
          ]
        }
      ],
      "source": [
        "from numpy import random\n",
        "x=random.randint(100)\n",
        "print(x)"
      ]
    },
    {
      "cell_type": "code",
      "execution_count": null,
      "id": "bc0aada8-c534-4709-b9fe-41bdcc0c4408",
      "metadata": {
        "id": "bc0aada8-c534-4709-b9fe-41bdcc0c4408",
        "outputId": "2679c14e-ec62-40a5-eebf-e765788a7df4"
      },
      "outputs": [
        {
          "name": "stdout",
          "output_type": "stream",
          "text": [
            "[78 19 11 11  5]\n"
          ]
        }
      ],
      "source": [
        "x=random.randint(1,100,5)\n",
        "print(x)"
      ]
    },
    {
      "cell_type": "code",
      "execution_count": null,
      "id": "9aa478dc-5f07-4a43-8eba-d88079dd0894",
      "metadata": {
        "id": "9aa478dc-5f07-4a43-8eba-d88079dd0894",
        "outputId": "51714f09-d2e2-4710-bb60-e9ca19eddac6"
      },
      "outputs": [
        {
          "name": "stdout",
          "output_type": "stream",
          "text": [
            "0.08015421458359884\n"
          ]
        }
      ],
      "source": [
        "#generate random float\n",
        "x=random.rand()\n",
        "print(x)"
      ]
    },
    {
      "cell_type": "code",
      "execution_count": null,
      "id": "67baa7b3-f688-4598-a1ea-4de04ff34012",
      "metadata": {
        "id": "67baa7b3-f688-4598-a1ea-4de04ff34012",
        "outputId": "ef29f135-f690-419d-c0dc-1bc61ba3a06c"
      },
      "outputs": [
        {
          "name": "stdout",
          "output_type": "stream",
          "text": [
            "[41  7 94 66 32]\n"
          ]
        }
      ],
      "source": [
        "a=random.randint(100,size=(5))\n",
        "print(a)"
      ]
    },
    {
      "cell_type": "code",
      "execution_count": null,
      "id": "53a21dfb-c929-4c1c-915d-d5ba1088e8b8",
      "metadata": {
        "id": "53a21dfb-c929-4c1c-915d-d5ba1088e8b8",
        "outputId": "da74ff81-35b9-4829-d1cd-cc35df282d55"
      },
      "outputs": [
        {
          "name": "stdout",
          "output_type": "stream",
          "text": [
            "[[15 70 56]\n",
            " [33 19 34]\n",
            " [97 26 56]\n",
            " [53 21 90]\n",
            " [70 13 79]]\n"
          ]
        }
      ],
      "source": [
        "a=random.randint(100,size=(5,3))\n",
        "print(a)"
      ]
    },
    {
      "cell_type": "code",
      "execution_count": null,
      "id": "986b93b6-060a-4177-a35c-fc9d91521d5c",
      "metadata": {
        "id": "986b93b6-060a-4177-a35c-fc9d91521d5c",
        "outputId": "e6eef786-3ccf-43c8-cd6e-b79737077a6a"
      },
      "outputs": [
        {
          "name": "stdout",
          "output_type": "stream",
          "text": [
            "[[[82 21 54 77 26]\n",
            "  [39 87  9 56 66]\n",
            "  [56 81 58 11 62]]\n",
            "\n",
            " [[87 37 93 67 76]\n",
            "  [11  3 62 90 23]\n",
            "  [87 47 73 90 49]]\n",
            "\n",
            " [[76 27 50 37 63]\n",
            "  [ 7  0  4 82 81]\n",
            "  [84 42 10 53 92]]]\n"
          ]
        }
      ],
      "source": [
        "x=random.randint(100,size=(3,3,5))\n",
        "print(x)"
      ]
    },
    {
      "cell_type": "markdown",
      "id": "a04503f9-16fa-4fa2-9830-f534777bbb2f",
      "metadata": {
        "id": "a04503f9-16fa-4fa2-9830-f534777bbb2f"
      },
      "source": [
        "# random choice"
      ]
    },
    {
      "cell_type": "code",
      "execution_count": null,
      "id": "cea4f1b2-2331-4020-aa3f-b1bf6daea1d5",
      "metadata": {
        "id": "cea4f1b2-2331-4020-aa3f-b1bf6daea1d5",
        "outputId": "d66fdaad-9b5b-466f-82f0-d3333a135792"
      },
      "outputs": [
        {
          "name": "stdout",
          "output_type": "stream",
          "text": [
            "[5 5 4 4 5]\n"
          ]
        }
      ],
      "source": [
        "import numpy as np\n",
        "from numpy import random\n",
        "x=random.choice([3,4,5,6], p=[0.1,0.3,0.6,0.0],size=(5))\n",
        "print(x)"
      ]
    },
    {
      "cell_type": "markdown",
      "id": "3056d292-78a9-4954-93c5-8ad134f1212d",
      "metadata": {
        "id": "3056d292-78a9-4954-93c5-8ad134f1212d"
      },
      "source": [
        "## rock papper siseer"
      ]
    },
    {
      "cell_type": "code",
      "execution_count": null,
      "id": "8022e3a6-c31c-4058-b3a2-91a39d598c20",
      "metadata": {
        "id": "8022e3a6-c31c-4058-b3a2-91a39d598c20",
        "outputId": "f859eb25-c77e-444d-a00c-0b88f42b103c"
      },
      "outputs": [
        {
          "name": "stdin",
          "output_type": "stream",
          "text": [
            "enter a string rock\n"
          ]
        },
        {
          "name": "stdout",
          "output_type": "stream",
          "text": [
            "you lose\n"
          ]
        },
        {
          "name": "stdin",
          "output_type": "stream",
          "text": [
            "enter a string papper\n"
          ]
        },
        {
          "name": "stdout",
          "output_type": "stream",
          "text": [
            "tiee\n"
          ]
        },
        {
          "name": "stdin",
          "output_type": "stream",
          "text": [
            "enter a string sisser\n"
          ]
        },
        {
          "name": "stdout",
          "output_type": "stream",
          "text": [
            "You won\n"
          ]
        },
        {
          "name": "stdin",
          "output_type": "stream",
          "text": [
            "enter a string rock\n"
          ]
        },
        {
          "name": "stdout",
          "output_type": "stream",
          "text": [
            "you lose\n"
          ]
        },
        {
          "name": "stdin",
          "output_type": "stream",
          "text": [
            "enter a string papapar\n"
          ]
        },
        {
          "name": "stdout",
          "output_type": "stream",
          "text": [
            "you lose\n",
            "GAME OVVER......\n",
            "you win 1 times\n",
            "you lose 3 times\n",
            "both tied 1 times\n"
          ]
        }
      ],
      "source": [
        "import random\n",
        "win=0\n",
        "loss=0\n",
        "tie=0\n",
        "i=1\n",
        "while i <= 5:\n",
        "    x=input(\"enter a string\")\n",
        "    y=random.choice([\"rock\",\"papper\",\"sisser\"])\n",
        "    if x==y:\n",
        "        print(\"tiee\")\n",
        "        tie=tie+1\n",
        "    elif x ==\"sisser\" and y==\"papper\":\n",
        "        print(\"You won\")\n",
        "        win=win+1\n",
        "    elif x==\"papper\" and y==\"rock\":\n",
        "        print(\"you won\")\n",
        "        win=win+1\n",
        "    else:\n",
        "        print(\"you lose\")\n",
        "        loss=loss+1\n",
        "    i=i+1\n",
        "print(\"GAME OVVER......\")\n",
        "print(\"you win\",win,\"times\")\n",
        "print(\"you lose\",loss,\"times\")\n",
        "print(\"both tied\",tie,\"times\")"
      ]
    },
    {
      "cell_type": "markdown",
      "id": "19cafea2-7a57-4314-bae3-190def088ae2",
      "metadata": {
        "id": "19cafea2-7a57-4314-bae3-190def088ae2"
      },
      "source": [
        "## rock papper using for loop"
      ]
    },
    {
      "cell_type": "code",
      "execution_count": null,
      "id": "2d2e32ad-fdc4-45f2-9af7-345df5bae348",
      "metadata": {
        "id": "2d2e32ad-fdc4-45f2-9af7-345df5bae348",
        "outputId": "b6915170-bfcd-4262-e5ce-3e9b0fef4f13"
      },
      "outputs": [
        {
          "name": "stdin",
          "output_type": "stream",
          "text": [
            "enter a word stone\n"
          ]
        },
        {
          "name": "stdout",
          "output_type": "stream",
          "text": [
            "you lost\n"
          ]
        },
        {
          "name": "stdin",
          "output_type": "stream",
          "text": [
            "enter a word papper\n"
          ]
        },
        {
          "name": "stdout",
          "output_type": "stream",
          "text": [
            "tiee\n"
          ]
        },
        {
          "name": "stdin",
          "output_type": "stream",
          "text": [
            "enter a word sisser\n"
          ]
        },
        {
          "name": "stdout",
          "output_type": "stream",
          "text": [
            "you lost\n"
          ]
        },
        {
          "name": "stdin",
          "output_type": "stream",
          "text": [
            "enter a word ston\n"
          ]
        },
        {
          "name": "stdout",
          "output_type": "stream",
          "text": [
            "you lost\n"
          ]
        },
        {
          "name": "stdin",
          "output_type": "stream",
          "text": [
            "enter a word papper\n"
          ]
        },
        {
          "name": "stdout",
          "output_type": "stream",
          "text": [
            "you lost\n",
            "result of the match\n",
            "you won 0 times\n",
            "you loss 4 times\n",
            "you both tie 1 times\n"
          ]
        }
      ],
      "source": [
        "import random\n",
        "win=0\n",
        "tie=0\n",
        "loss=0\n",
        "for i in range(1,5+1):\n",
        "    a=input(\"enter a word\")\n",
        "    b=random.choice([\"stone\",\"papper\",\"sisserr\"])\n",
        "    if a==b:\n",
        "        print(\"tiee\")\n",
        "        tie=tie+1\n",
        "    elif a == \"papper\" and b == \"stone\":\n",
        "        print(\"you won\")\n",
        "        won=won+1\n",
        "    elif a==\"stone\" and b ==\"sisser\":\n",
        "        print(\"you won\")\n",
        "        won=won+1\n",
        "    else:\n",
        "        print(\"you lost\")\n",
        "        loss=loss+1\n",
        "print(\"result of the match\")\n",
        "print(\"you won\",win,\"times\")\n",
        "print(\"you loss\",loss,\"times\")\n",
        "print(\"you both tie\",tie,\"times\")"
      ]
    },
    {
      "cell_type": "markdown",
      "id": "335eb198-6ea6-4a32-8bb0-2a9f42017fca",
      "metadata": {
        "id": "335eb198-6ea6-4a32-8bb0-2a9f42017fca"
      },
      "source": [
        "## rockpapper invalid"
      ]
    },
    {
      "cell_type": "code",
      "execution_count": null,
      "id": "8582ec1f-67fc-4286-adcb-a0b85e59cf29",
      "metadata": {
        "id": "8582ec1f-67fc-4286-adcb-a0b85e59cf29",
        "outputId": "2e42137f-9885-48f1-ca8b-0395fb12afd8"
      },
      "outputs": [
        {
          "name": "stdin",
          "output_type": "stream",
          "text": [
            "enter a string k\n"
          ]
        },
        {
          "name": "stdout",
          "output_type": "stream",
          "text": [
            "invalid spelling\n"
          ]
        },
        {
          "name": "stdin",
          "output_type": "stream",
          "text": [
            "enter a string rock\n"
          ]
        },
        {
          "name": "stdout",
          "output_type": "stream",
          "text": [
            "tiee\n"
          ]
        },
        {
          "name": "stdin",
          "output_type": "stream",
          "text": [
            "enter a string papper\n"
          ]
        },
        {
          "name": "stdout",
          "output_type": "stream",
          "text": [
            "you lose\n"
          ]
        },
        {
          "name": "stdin",
          "output_type": "stream",
          "text": [
            "enter a string sisser\n"
          ]
        },
        {
          "name": "stdout",
          "output_type": "stream",
          "text": [
            "You won\n"
          ]
        },
        {
          "name": "stdin",
          "output_type": "stream",
          "text": [
            "enter a string rock\n"
          ]
        },
        {
          "name": "stdout",
          "output_type": "stream",
          "text": [
            "tiee\n"
          ]
        },
        {
          "name": "stdin",
          "output_type": "stream",
          "text": [
            "enter a string papper\n"
          ]
        },
        {
          "name": "stdout",
          "output_type": "stream",
          "text": [
            "you lose\n",
            "GAME OVVER......\n",
            "you win 1 times\n",
            "you lose 2 times\n",
            "both tied 2 times\n"
          ]
        }
      ],
      "source": [
        "import random\n",
        "win=0\n",
        "loss=0\n",
        "tie=0\n",
        "i=0\n",
        "a=[\"rock\",\"papper\",\"sisser\"]\n",
        "while i <= 5:\n",
        "    user_choice = str(input(\"Select your choice [rock,papper,sisser]:\"))\n",
        "    computer_choice = random.choice([\"rock\",\"papper\",\"sisser\"])\n",
        "    if user_choice in computer_choice:\n",
        "        if user_choice == user_choice:\n",
        "            print(\"tiee\")\n",
        "            tie=tie+1\n",
        "        elif user_choice == \"sisser\" and computer_choice == \"papper\":\n",
        "            print(\"You won\")\n",
        "            win=win+1\n",
        "        elif user_choice == \"papper\" and computer_choice == \"rock\":\n",
        "            print(\"you won\")\n",
        "            win=win+1\n",
        "        else:\n",
        "            print(\"you lose\")\n",
        "            loss=loss+1\n",
        "        i=i+1\n",
        "    else:\n",
        "       print(\"invalid spelling\")\n",
        "\n",
        "print(\"GAME OVVER......\")\n",
        "print(\"you win\",win,\"times\")\n",
        "print(\"you lose\",loss,\"times\")\n",
        "print(\"both tied\",tie,\"times\")"
      ]
    },
    {
      "cell_type": "markdown",
      "id": "8eacb978-afa5-4ac2-86a0-86a069ad3d7e",
      "metadata": {
        "id": "8eacb978-afa5-4ac2-86a0-86a069ad3d7e"
      },
      "source": [
        "## odd or even"
      ]
    },
    {
      "cell_type": "code",
      "execution_count": null,
      "id": "9e7850fa-c150-402e-ae27-04e318c4e285",
      "metadata": {
        "id": "9e7850fa-c150-402e-ae27-04e318c4e285",
        "outputId": "eda2bc7b-ac92-4c88-96c3-4a2e5644fd8f"
      },
      "outputs": [
        {
          "name": "stdin",
          "output_type": "stream",
          "text": [
            "enter odd or even odd\n"
          ]
        },
        {
          "name": "stdout",
          "output_type": "stream",
          "text": [
            "ypur choice is odd\n",
            "opponent choice is even\n",
            "your point is 50\n"
          ]
        },
        {
          "name": "stdin",
          "output_type": "stream",
          "text": [
            "enter odd or even even\n"
          ]
        },
        {
          "name": "stdout",
          "output_type": "stream",
          "text": [
            "ypur choice is even\n",
            "opponent choice is even\n",
            "your points is 100\n"
          ]
        },
        {
          "name": "stdin",
          "output_type": "stream",
          "text": [
            "enter odd or even odd\n"
          ]
        },
        {
          "name": "stdout",
          "output_type": "stream",
          "text": [
            "ypur choice is odd\n",
            "opponent choice is odd\n",
            "your points is 150\n"
          ]
        },
        {
          "name": "stdin",
          "output_type": "stream",
          "text": [
            "enter odd or even even\n"
          ]
        },
        {
          "name": "stdout",
          "output_type": "stream",
          "text": [
            "ypur choice is even\n",
            "opponent choice is even\n",
            "your points is 200\n",
            "you won the match\n"
          ]
        }
      ],
      "source": [
        "points=100\n",
        "while points>0 and points<200:\n",
        "    a=input(\"enter odd or even\")\n",
        "    b=random.choice([\"odd\",\"even\"])\n",
        "    print(\"ypur choice is\",a)\n",
        "    print(\"opponent choice is\",b)\n",
        "    if a==b:\n",
        "        points=points+50\n",
        "        print(\"your points is\",points)\n",
        "    else:\n",
        "        points=points-50\n",
        "        print(\"your point is\",points)\n",
        "if points>=200:\n",
        "    print(\"you won the match\")\n",
        "else:\n",
        "    print(\"you lost the match\")"
      ]
    },
    {
      "cell_type": "code",
      "execution_count": null,
      "id": "3666f06b-7f09-445c-be25-f0d0182a6fbe",
      "metadata": {
        "id": "3666f06b-7f09-445c-be25-f0d0182a6fbe",
        "outputId": "4a88ec1b-56a9-4b3c-ca90-a9106e723458"
      },
      "outputs": [
        {
          "name": "stdin",
          "output_type": "stream",
          "text": [
            "enter your odd or even number odd\n"
          ]
        },
        {
          "name": "stdout",
          "output_type": "stream",
          "text": [
            "your choice is: odd\n",
            "computer choice is: even\n",
            "you lose\n",
            "your balance is 80\n"
          ]
        },
        {
          "name": "stdin",
          "output_type": "stream",
          "text": [
            "enter your odd or even number even\n"
          ]
        },
        {
          "name": "stdout",
          "output_type": "stream",
          "text": [
            "your choice is: even\n",
            "computer choice is: odd\n",
            "you lose\n",
            "your balance is 60\n"
          ]
        },
        {
          "name": "stdin",
          "output_type": "stream",
          "text": [
            "enter your odd or even number even\n"
          ]
        },
        {
          "name": "stdout",
          "output_type": "stream",
          "text": [
            "your choice is: even\n",
            "computer choice is: odd\n",
            "you lose\n",
            "your balance is 40\n"
          ]
        },
        {
          "name": "stdin",
          "output_type": "stream",
          "text": [
            "enter your odd or even number even\n"
          ]
        },
        {
          "name": "stdout",
          "output_type": "stream",
          "text": [
            "your choice is: even\n",
            "computer choice is: even\n",
            "you win\n",
            "your balance is 60\n"
          ]
        },
        {
          "name": "stdin",
          "output_type": "stream",
          "text": [
            "enter your odd or even number p\n"
          ]
        },
        {
          "name": "stdout",
          "output_type": "stream",
          "text": [
            "your choice is: p\n",
            "computer choice is: odd\n",
            "you lose\n",
            "your balance is 40\n"
          ]
        },
        {
          "name": "stdin",
          "output_type": "stream",
          "text": [
            "enter your odd or even number p\n"
          ]
        },
        {
          "name": "stdout",
          "output_type": "stream",
          "text": [
            "your choice is: p\n",
            "computer choice is: even\n",
            "you lose\n",
            "your balance is 20\n"
          ]
        },
        {
          "name": "stdin",
          "output_type": "stream",
          "text": [
            "enter your odd or even number p\n"
          ]
        },
        {
          "name": "stdout",
          "output_type": "stream",
          "text": [
            "your choice is: p\n",
            "computer choice is: odd\n",
            "you lose\n",
            "your balance is 0\n",
            "game over....\n",
            "you loss the game\n"
          ]
        }
      ],
      "source": [
        "import random\n",
        "i=100\n",
        "while i>0 and i<200:\n",
        "    user_choice=input(\"enter your odd or even number\")\n",
        "    com_choice=random.choice([\"odd\",\"even\"])\n",
        "    print(\"your choice is:\",user_choice)\n",
        "    print(\"computer choice is:\",com_choice)\n",
        "    if user_choice==com_choice:\n",
        "        print(\"you win\")\n",
        "        i=i+20\n",
        "        print(\"your balance is\",i)\n",
        "    else:\n",
        "        print(\"you lose\")\n",
        "        i=i-20\n",
        "        print(\"your balance is\",i)\n",
        "print(\"game over....\")\n",
        "if i<=0:\n",
        "    print(\"you loss the game\")\n",
        "else:\n",
        "    print (\"you win win the game\")"
      ]
    },
    {
      "cell_type": "markdown",
      "id": "f2884f12-0b7a-4967-a176-9cb4cc7a5cde",
      "metadata": {
        "id": "f2884f12-0b7a-4967-a176-9cb4cc7a5cde"
      },
      "source": [
        "# shuffle"
      ]
    },
    {
      "cell_type": "code",
      "execution_count": null,
      "id": "4e869c44-0ff8-429d-a621-2abac5f6b47a",
      "metadata": {
        "id": "4e869c44-0ff8-429d-a621-2abac5f6b47a",
        "outputId": "93af4afb-4b28-42b5-806a-4ee53296b125"
      },
      "outputs": [
        {
          "name": "stdout",
          "output_type": "stream",
          "text": [
            "[4 6 5 2 3 1]\n"
          ]
        }
      ],
      "source": [
        "import numpy as np\n",
        "from numpy import random\n",
        "a=np.array([1,2,3,4,5,6])\n",
        "random.shuffle(a)\n",
        "print(a)        #changes the original array"
      ]
    },
    {
      "cell_type": "code",
      "execution_count": null,
      "id": "a0b7fba2-297a-410d-b17f-1b7ef97e88bb",
      "metadata": {
        "id": "a0b7fba2-297a-410d-b17f-1b7ef97e88bb",
        "outputId": "2561b17e-12ca-4745-82f8-21abc612e36f"
      },
      "outputs": [
        {
          "name": "stdout",
          "output_type": "stream",
          "text": [
            "[1.1 3.5 2.1 2.4]\n"
          ]
        }
      ],
      "source": [
        "ar=np.array([1.1,2.1,2.4,3.5])\n",
        "random.shuffle(ar)\n",
        "print(ar)"
      ]
    },
    {
      "cell_type": "markdown",
      "id": "cd3b7283-bc0a-4558-bb17-131a0ec9303c",
      "metadata": {
        "id": "cd3b7283-bc0a-4558-bb17-131a0ec9303c"
      },
      "source": [
        "## random permutation"
      ]
    },
    {
      "cell_type": "code",
      "execution_count": null,
      "id": "cc5894f9-de77-4a98-a308-3ec3dc07b2b9",
      "metadata": {
        "id": "cc5894f9-de77-4a98-a308-3ec3dc07b2b9",
        "outputId": "af1d0d96-c550-4fc5-ad15-0f89bbee93af"
      },
      "outputs": [
        {
          "name": "stdout",
          "output_type": "stream",
          "text": [
            "[7 8 3 2 1 6 5 4]\n",
            "[1 2 3 4 5 6 7 8]\n"
          ]
        }
      ],
      "source": [
        "import numpy as np\n",
        "from numpy import random\n",
        "a=np.array([1,2,3,4,5,6,7,8])\n",
        "print(random.permutation(a))\n",
        "print(a)       #it doesnt changes in the original array."
      ]
    },
    {
      "cell_type": "code",
      "execution_count": null,
      "id": "7298f082-4278-493f-b3b8-736ae12a74fa",
      "metadata": {
        "id": "7298f082-4278-493f-b3b8-736ae12a74fa",
        "outputId": "8340350a-7f71-44a7-8949-00d629cd070f"
      },
      "outputs": [
        {
          "name": "stdout",
          "output_type": "stream",
          "text": [
            "[9 8 5 1 3 4 7 6 2]\n",
            "[1 2 3 4 5 6 7 8 9]\n"
          ]
        }
      ],
      "source": [
        "a=np.array([1,2,3,4,5,6,7,8,9])\n",
        "print(random.permutation(a))\n",
        "print(a)"
      ]
    },
    {
      "cell_type": "code",
      "execution_count": null,
      "id": "f1004198-1a7f-4b1f-a0dc-4cae620c96cb",
      "metadata": {
        "id": "f1004198-1a7f-4b1f-a0dc-4cae620c96cb"
      },
      "outputs": [],
      "source": [
        "import matplotlib.pyplot as plt\n",
        "import seaborn as sns"
      ]
    },
    {
      "cell_type": "code",
      "execution_count": null,
      "id": "4cf935cf-d040-4d92-9f90-a169e649a357",
      "metadata": {
        "id": "4cf935cf-d040-4d92-9f90-a169e649a357",
        "outputId": "4fa2c0cf-23c8-4ed3-b14f-9108a7fc4376"
      },
      "outputs": [
        {
          "name": "stdout",
          "output_type": "stream",
          "text": [
            "<module 'seaborn' from 'C:\\\\Users\\\\Pc\\\\anaconda3\\\\Lib\\\\site-packages\\\\seaborn\\\\__init__.py'>\n"
          ]
        },
        {
          "name": "stderr",
          "output_type": "stream",
          "text": [
            "C:\\Users\\Pc\\AppData\\Local\\Temp\\ipykernel_12468\\3577954357.py:1: UserWarning: \n",
            "\n",
            "`distplot` is a deprecated function and will be removed in seaborn v0.14.0.\n",
            "\n",
            "Please adapt your code to use either `displot` (a figure-level function with\n",
            "similar flexibility) or `histplot` (an axes-level function for histograms).\n",
            "\n",
            "For a guide to updating your code to use the new functions, please see\n",
            "https://gist.github.com/mwaskom/de44147ed2974457ad6372750bbe5751\n",
            "\n",
            "  sns.distplot([0,1,2,3,4,5,6,7,8,9,10,11,12,13,14,15,16,])\n"
          ]
        },
        {
          "data": {
            "image/png": "[encoded data removed]",
            "text/plain": [
              "<Figure size 640x480 with 1 Axes>"
            ]
          },
          "metadata": {},
          "output_type": "display_data"
        }
      ],
      "source": [
        "sns.distplot([0,1,2,3,4,5,6,7,8,9,10,11,12,13,14,15,16,])\n",
        "print(sns)"
      ]
    },
    {
      "cell_type": "code",
      "execution_count": null,
      "id": "34e87306-345a-477b-a9dd-b237189e8cee",
      "metadata": {
        "id": "34e87306-345a-477b-a9dd-b237189e8cee",
        "outputId": "4d7627b2-10aa-4c88-dd10-f972b61f2e27"
      },
      "outputs": [
        {
          "name": "stderr",
          "output_type": "stream",
          "text": [
            "C:\\Users\\Pc\\AppData\\Local\\Temp\\ipykernel_12468\\3216515034.py:1: UserWarning: \n",
            "\n",
            "`distplot` is a deprecated function and will be removed in seaborn v0.14.0.\n",
            "\n",
            "Please adapt your code to use either `displot` (a figure-level function with\n",
            "similar flexibility) or `kdeplot` (an axes-level function for kernel density plots).\n",
            "\n",
            "For a guide to updating your code to use the new functions, please see\n",
            "https://gist.github.com/mwaskom/de44147ed2974457ad6372750bbe5751\n",
            "\n",
            "  sns.distplot([1,2,3,4,5,6,7,8,9,10,11,12,13,14,15],hist=False)\n"
          ]
        },
        {
          "data": {
            "image/png": "[encoded data removed]",
            "text/plain": [
              "<Figure size 640x480 with 1 Axes>"
            ]
          },
          "metadata": {},
          "output_type": "display_data"
        }
      ],
      "source": [
        "sns.distplot([1,2,3,4,5,6,7,8,9,10,11,12,13,14,15],hist=False)\n",
        "plt.show()"
      ]
    }
  ],
  "metadata": {
    "kernelspec": {
      "display_name": "Python 3 (ipykernel)",
      "language": "python",
      "name": "python3"
    },
    "language_info": {
      "codemirror_mode": {
        "name": "ipython",
        "version": 3
      },
      "file_extension": ".py",
      "mimetype": "text/x-python",
      "name": "python",
      "nbconvert_exporter": "python",
      "pygments_lexer": "ipython3",
      "version": "3.12.4"
    },
    "colab": {
      "provenance": []
    }
  },
  "nbformat": 4,
  "nbformat_minor": 5
}